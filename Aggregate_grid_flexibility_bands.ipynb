{
 "cells": [
  {
   "cell_type": "code",
   "execution_count": 1,
   "id": "manual-subdivision",
   "metadata": {},
   "outputs": [],
   "source": [
    "%load_ext autoreload\n",
    "%autoreload 2"
   ]
  },
  {
   "cell_type": "code",
   "execution_count": 118,
   "id": "varying-stretch",
   "metadata": {},
   "outputs": [],
   "source": [
    "import numpy as np\n",
    "import pandas as pd\n",
    "import edisgo.flex_opt.optimization as opt\n",
    "from edisgo.edisgo import import_edisgo_from_files\n",
    "import geopandas as gpd\n",
    "from edisgo.tools.tools import get_aggregated_bands\n",
    "import matplotlib.pyplot as plt"
   ]
  },
  {
   "cell_type": "code",
   "execution_count": 3,
   "id": "certain-pottery",
   "metadata": {},
   "outputs": [],
   "source": [
    "grid_id = 1056\n",
    "\n",
    "edisgo_dir = r'\\\\192.168.10.221\\Daten_flexibel_02\\simbev_results\\eDisGo_object_files_final\\Electrification_2050\\{}\\reduced'.format(grid_id)#Todo: change back to final in the end\n",
    "edisgo = import_edisgo_from_files(edisgo_dir, import_timeseries=True,\n",
    "                                  import_results=True)"
   ]
  },
  {
   "cell_type": "code",
   "execution_count": 55,
   "id": "virgin-consultation",
   "metadata": {},
   "outputs": [
    {
     "name": "stdout",
     "output_type": "stream",
     "text": [
      "Downstream node matrix imported.\n"
     ]
    }
   ],
   "source": [
    "downstream_nodes_matrix = pd.read_csv('grid_data/downstream_node_matrix.csv',\n",
    "                                      index_col=0)\n",
    "downstream_nodes_matrix = downstream_nodes_matrix.astype(np.uint8)\n",
    "print('Downstream node matrix imported.')\n",
    "flexibility_bands_home = \\\n",
    "    pd.read_csv('grid_data/ev_flexibility_bands_home.csv', index_col=0,\n",
    "                dtype=np.float16)\n",
    "flexibility_bands_work = \\\n",
    "    pd.read_csv('grid_data/ev_flexibility_bands_work.csv', index_col=0,\n",
    "                dtype=np.float16)\n",
    "flexibility_bands = pd.concat([flexibility_bands_work, flexibility_bands_home],\n",
    "                              axis=1)\n",
    "flexibility_bands = \\\n",
    "    flexibility_bands.groupby(flexibility_bands.columns, axis=1).sum()"
   ]
  },
  {
   "cell_type": "code",
   "execution_count": 56,
   "id": "restricted-greece",
   "metadata": {},
   "outputs": [],
   "source": [
    "mapping_home = \\\n",
    "    gpd.read_file('grid_data/cp_data_home_within_grid_{}.geojson'.\n",
    "                  format(grid_id)).set_index('edisgo_id')\n",
    "mapping_work = \\\n",
    "    gpd.read_file('grid_data/cp_data_work_within_grid_{}.geojson'.\n",
    "                  format(grid_id)).set_index('edisgo_id')\n",
    "\n",
    "mapping = pd.concat([mapping_work, mapping_home], sort=False)"
   ]
  },
  {
   "cell_type": "code",
   "execution_count": 57,
   "id": "important-logan",
   "metadata": {},
   "outputs": [],
   "source": [
    "lv_grids = [grid for grid in edisgo.topology.mv_grid.lv_grids]\n",
    "\n",
    "lv_grid = lv_grids[1]\n",
    "timeindex=edisgo.timeseries.timeindex[0:95]\n",
    "t_start = 0"
   ]
  },
  {
   "cell_type": "code",
   "execution_count": 58,
   "id": "anonymous-meaning",
   "metadata": {},
   "outputs": [],
   "source": [
    "downstream_node_matrix = downstream_nodes_matrix.loc[lv_grid.buses_df.index,\n",
    "                                                     lv_grid.buses_df.index]\n",
    "cp_lv_grid = lv_grid.charging_points_df.loc[\n",
    "    lv_grid.charging_points_df.use_case == 'home'].index.append(\n",
    "    lv_grid.charging_points_df.loc[\n",
    "        lv_grid.charging_points_df.use_case == 'work'].index)\n",
    "mapping_lv_grid = mapping.loc[cp_lv_grid]\n",
    "cp_band_id = \\\n",
    "    ('upper_' + mapping_lv_grid.ags.astype(str) +\n",
    "     '_'+mapping_lv_grid.cp_idx.astype(str)).append(\n",
    "        'lower_' + mapping_lv_grid.ags.astype(str)+'_' +\n",
    "        mapping_lv_grid.cp_idx.astype(str)).append(\n",
    "        'power_' + mapping_lv_grid.ags.astype(str)+'_' +\n",
    "        mapping_lv_grid.cp_idx.astype(str)).values\n",
    "bands_lv_grid = flexibility_bands.loc[\n",
    "                :, flexibility_bands.columns.isin(cp_band_id)]"
   ]
  },
  {
   "cell_type": "code",
   "execution_count": 74,
   "id": "under-adapter",
   "metadata": {},
   "outputs": [
    {
     "data": {
      "text/html": [
       "<div>\n",
       "<style scoped>\n",
       "    .dataframe tbody tr th:only-of-type {\n",
       "        vertical-align: middle;\n",
       "    }\n",
       "\n",
       "    .dataframe tbody tr th {\n",
       "        vertical-align: top;\n",
       "    }\n",
       "\n",
       "    .dataframe thead th {\n",
       "        text-align: right;\n",
       "    }\n",
       "</style>\n",
       "<table border=\"1\" class=\"dataframe\">\n",
       "  <thead>\n",
       "    <tr style=\"text-align: right;\">\n",
       "      <th></th>\n",
       "      <th>ags</th>\n",
       "      <th>cp_idx</th>\n",
       "      <th>cp_count</th>\n",
       "      <th>cp_capacity</th>\n",
       "      <th>cp_connection_rating</th>\n",
       "      <th>cp_00001</th>\n",
       "      <th>cp_00002</th>\n",
       "      <th>cp_00003</th>\n",
       "      <th>cp_00004</th>\n",
       "      <th>cp_00005</th>\n",
       "      <th>...</th>\n",
       "      <th>cp_00015</th>\n",
       "      <th>cp_00016</th>\n",
       "      <th>cp_00017</th>\n",
       "      <th>cp_00018</th>\n",
       "      <th>cp_00019</th>\n",
       "      <th>cp_00020</th>\n",
       "      <th>cp_00021</th>\n",
       "      <th>cp_00022</th>\n",
       "      <th>cp_00023</th>\n",
       "      <th>geometry</th>\n",
       "    </tr>\n",
       "    <tr>\n",
       "      <th>name</th>\n",
       "      <th></th>\n",
       "      <th></th>\n",
       "      <th></th>\n",
       "      <th></th>\n",
       "      <th></th>\n",
       "      <th></th>\n",
       "      <th></th>\n",
       "      <th></th>\n",
       "      <th></th>\n",
       "      <th></th>\n",
       "      <th></th>\n",
       "      <th></th>\n",
       "      <th></th>\n",
       "      <th></th>\n",
       "      <th></th>\n",
       "      <th></th>\n",
       "      <th></th>\n",
       "      <th></th>\n",
       "      <th></th>\n",
       "      <th></th>\n",
       "      <th></th>\n",
       "    </tr>\n",
       "  </thead>\n",
       "  <tbody>\n",
       "    <tr>\n",
       "      <th>ChargingPoint_LVGrid_440345_1</th>\n",
       "      <td>9674130</td>\n",
       "      <td>487</td>\n",
       "      <td>2</td>\n",
       "      <td>72.0</td>\n",
       "      <td>72.0</td>\n",
       "      <td>19.8</td>\n",
       "      <td>45.0</td>\n",
       "      <td>0.0</td>\n",
       "      <td>0.0</td>\n",
       "      <td>0.0</td>\n",
       "      <td>...</td>\n",
       "      <td>0.0</td>\n",
       "      <td>0.0</td>\n",
       "      <td>0.0</td>\n",
       "      <td>0.0</td>\n",
       "      <td>0.0</td>\n",
       "      <td>0.0</td>\n",
       "      <td>0.0</td>\n",
       "      <td>0.0</td>\n",
       "      <td>0.0</td>\n",
       "      <td>POINT (10.80043 50.08709)</td>\n",
       "    </tr>\n",
       "    <tr>\n",
       "      <th>ChargingPoint_LVGrid_440345_2</th>\n",
       "      <td>9674130</td>\n",
       "      <td>508</td>\n",
       "      <td>2</td>\n",
       "      <td>33.0</td>\n",
       "      <td>33.0</td>\n",
       "      <td>9.9</td>\n",
       "      <td>19.8</td>\n",
       "      <td>0.0</td>\n",
       "      <td>0.0</td>\n",
       "      <td>0.0</td>\n",
       "      <td>...</td>\n",
       "      <td>0.0</td>\n",
       "      <td>0.0</td>\n",
       "      <td>0.0</td>\n",
       "      <td>0.0</td>\n",
       "      <td>0.0</td>\n",
       "      <td>0.0</td>\n",
       "      <td>0.0</td>\n",
       "      <td>0.0</td>\n",
       "      <td>0.0</td>\n",
       "      <td>POINT (10.80043 50.08709)</td>\n",
       "    </tr>\n",
       "    <tr>\n",
       "      <th>ChargingPoint_LVGrid_440345_3</th>\n",
       "      <td>9674130</td>\n",
       "      <td>529</td>\n",
       "      <td>2</td>\n",
       "      <td>44.0</td>\n",
       "      <td>44.0</td>\n",
       "      <td>19.8</td>\n",
       "      <td>19.8</td>\n",
       "      <td>0.0</td>\n",
       "      <td>0.0</td>\n",
       "      <td>0.0</td>\n",
       "      <td>...</td>\n",
       "      <td>0.0</td>\n",
       "      <td>0.0</td>\n",
       "      <td>0.0</td>\n",
       "      <td>0.0</td>\n",
       "      <td>0.0</td>\n",
       "      <td>0.0</td>\n",
       "      <td>0.0</td>\n",
       "      <td>0.0</td>\n",
       "      <td>0.0</td>\n",
       "      <td>POINT (10.80043 50.08709)</td>\n",
       "    </tr>\n",
       "    <tr>\n",
       "      <th>ChargingPoint_LVGrid_440345_4</th>\n",
       "      <td>9674130</td>\n",
       "      <td>547</td>\n",
       "      <td>1</td>\n",
       "      <td>22.0</td>\n",
       "      <td>22.0</td>\n",
       "      <td>19.8</td>\n",
       "      <td>0.0</td>\n",
       "      <td>0.0</td>\n",
       "      <td>0.0</td>\n",
       "      <td>0.0</td>\n",
       "      <td>...</td>\n",
       "      <td>0.0</td>\n",
       "      <td>0.0</td>\n",
       "      <td>0.0</td>\n",
       "      <td>0.0</td>\n",
       "      <td>0.0</td>\n",
       "      <td>0.0</td>\n",
       "      <td>0.0</td>\n",
       "      <td>0.0</td>\n",
       "      <td>0.0</td>\n",
       "      <td>POINT (10.80043 50.08709)</td>\n",
       "    </tr>\n",
       "    <tr>\n",
       "      <th>ChargingPoint_LVGrid_440345_5</th>\n",
       "      <td>9674130</td>\n",
       "      <td>564</td>\n",
       "      <td>1</td>\n",
       "      <td>22.0</td>\n",
       "      <td>22.0</td>\n",
       "      <td>19.8</td>\n",
       "      <td>0.0</td>\n",
       "      <td>0.0</td>\n",
       "      <td>0.0</td>\n",
       "      <td>0.0</td>\n",
       "      <td>...</td>\n",
       "      <td>0.0</td>\n",
       "      <td>0.0</td>\n",
       "      <td>0.0</td>\n",
       "      <td>0.0</td>\n",
       "      <td>0.0</td>\n",
       "      <td>0.0</td>\n",
       "      <td>0.0</td>\n",
       "      <td>0.0</td>\n",
       "      <td>0.0</td>\n",
       "      <td>POINT (10.80043 50.08709)</td>\n",
       "    </tr>\n",
       "    <tr>\n",
       "      <th>ChargingPoint_LVGrid_440345_6</th>\n",
       "      <td>9674130</td>\n",
       "      <td>567</td>\n",
       "      <td>1</td>\n",
       "      <td>50.0</td>\n",
       "      <td>50.0</td>\n",
       "      <td>45.0</td>\n",
       "      <td>0.0</td>\n",
       "      <td>0.0</td>\n",
       "      <td>0.0</td>\n",
       "      <td>0.0</td>\n",
       "      <td>...</td>\n",
       "      <td>0.0</td>\n",
       "      <td>0.0</td>\n",
       "      <td>0.0</td>\n",
       "      <td>0.0</td>\n",
       "      <td>0.0</td>\n",
       "      <td>0.0</td>\n",
       "      <td>0.0</td>\n",
       "      <td>0.0</td>\n",
       "      <td>0.0</td>\n",
       "      <td>POINT (10.80043 50.08709)</td>\n",
       "    </tr>\n",
       "  </tbody>\n",
       "</table>\n",
       "<p>6 rows × 29 columns</p>\n",
       "</div>"
      ],
      "text/plain": [
       "                                   ags  cp_idx  cp_count  cp_capacity  \\\n",
       "name                                                                    \n",
       "ChargingPoint_LVGrid_440345_1  9674130     487         2         72.0   \n",
       "ChargingPoint_LVGrid_440345_2  9674130     508         2         33.0   \n",
       "ChargingPoint_LVGrid_440345_3  9674130     529         2         44.0   \n",
       "ChargingPoint_LVGrid_440345_4  9674130     547         1         22.0   \n",
       "ChargingPoint_LVGrid_440345_5  9674130     564         1         22.0   \n",
       "ChargingPoint_LVGrid_440345_6  9674130     567         1         50.0   \n",
       "\n",
       "                               cp_connection_rating  cp_00001  cp_00002  \\\n",
       "name                                                                      \n",
       "ChargingPoint_LVGrid_440345_1                  72.0      19.8      45.0   \n",
       "ChargingPoint_LVGrid_440345_2                  33.0       9.9      19.8   \n",
       "ChargingPoint_LVGrid_440345_3                  44.0      19.8      19.8   \n",
       "ChargingPoint_LVGrid_440345_4                  22.0      19.8       0.0   \n",
       "ChargingPoint_LVGrid_440345_5                  22.0      19.8       0.0   \n",
       "ChargingPoint_LVGrid_440345_6                  50.0      45.0       0.0   \n",
       "\n",
       "                               cp_00003  cp_00004  cp_00005  ...  cp_00015  \\\n",
       "name                                                         ...             \n",
       "ChargingPoint_LVGrid_440345_1       0.0       0.0       0.0  ...       0.0   \n",
       "ChargingPoint_LVGrid_440345_2       0.0       0.0       0.0  ...       0.0   \n",
       "ChargingPoint_LVGrid_440345_3       0.0       0.0       0.0  ...       0.0   \n",
       "ChargingPoint_LVGrid_440345_4       0.0       0.0       0.0  ...       0.0   \n",
       "ChargingPoint_LVGrid_440345_5       0.0       0.0       0.0  ...       0.0   \n",
       "ChargingPoint_LVGrid_440345_6       0.0       0.0       0.0  ...       0.0   \n",
       "\n",
       "                               cp_00016  cp_00017  cp_00018  cp_00019  \\\n",
       "name                                                                    \n",
       "ChargingPoint_LVGrid_440345_1       0.0       0.0       0.0       0.0   \n",
       "ChargingPoint_LVGrid_440345_2       0.0       0.0       0.0       0.0   \n",
       "ChargingPoint_LVGrid_440345_3       0.0       0.0       0.0       0.0   \n",
       "ChargingPoint_LVGrid_440345_4       0.0       0.0       0.0       0.0   \n",
       "ChargingPoint_LVGrid_440345_5       0.0       0.0       0.0       0.0   \n",
       "ChargingPoint_LVGrid_440345_6       0.0       0.0       0.0       0.0   \n",
       "\n",
       "                               cp_00020  cp_00021  cp_00022  cp_00023  \\\n",
       "name                                                                    \n",
       "ChargingPoint_LVGrid_440345_1       0.0       0.0       0.0       0.0   \n",
       "ChargingPoint_LVGrid_440345_2       0.0       0.0       0.0       0.0   \n",
       "ChargingPoint_LVGrid_440345_3       0.0       0.0       0.0       0.0   \n",
       "ChargingPoint_LVGrid_440345_4       0.0       0.0       0.0       0.0   \n",
       "ChargingPoint_LVGrid_440345_5       0.0       0.0       0.0       0.0   \n",
       "ChargingPoint_LVGrid_440345_6       0.0       0.0       0.0       0.0   \n",
       "\n",
       "                                                geometry  \n",
       "name                                                      \n",
       "ChargingPoint_LVGrid_440345_1  POINT (10.80043 50.08709)  \n",
       "ChargingPoint_LVGrid_440345_2  POINT (10.80043 50.08709)  \n",
       "ChargingPoint_LVGrid_440345_3  POINT (10.80043 50.08709)  \n",
       "ChargingPoint_LVGrid_440345_4  POINT (10.80043 50.08709)  \n",
       "ChargingPoint_LVGrid_440345_5  POINT (10.80043 50.08709)  \n",
       "ChargingPoint_LVGrid_440345_6  POINT (10.80043 50.08709)  \n",
       "\n",
       "[6 rows x 29 columns]"
      ]
     },
     "execution_count": 74,
     "metadata": {},
     "output_type": "execute_result"
    }
   ],
   "source": [
    "mapping_lv_grid"
   ]
  },
  {
   "cell_type": "code",
   "execution_count": 77,
   "id": "increasing-episode",
   "metadata": {},
   "outputs": [],
   "source": [
    "tmp_bands_lv_grid = bands_lv_grid.iloc[t_start:t_start+len(timeindex)].set_index(timeindex)\n",
    "#tmp_bands_lv_grid.plot()"
   ]
  },
  {
   "cell_type": "code",
   "execution_count": 78,
   "id": "powered-gibraltar",
   "metadata": {},
   "outputs": [
    {
     "name": "stdout",
     "output_type": "stream",
     "text": [
      "Setup model: Defining sets and parameters.\n",
      "Setup model: Defining variables.\n",
      "Setup model: Setting constraints.\n",
      "Setup model: Setting objective.\n",
      "Successfully set up optimisation model.\n"
     ]
    }
   ],
   "source": [
    "model = opt.setup_model(lv_grid, downstream_node_matrix, timesteps=timeindex,\n",
    "                        optimize_storage=False, mapping_cp=mapping_lv_grid,\n",
    "                        energy_band_charging_points=tmp_bands_lv_grid, pu=False,\n",
    "                        objective='minimize_energy_level')"
   ]
  },
  {
   "cell_type": "code",
   "execution_count": 79,
   "id": "spanish-headset",
   "metadata": {},
   "outputs": [
    {
     "name": "stdout",
     "output_type": "stream",
     "text": [
      "GLPSOL: GLPK LP/MIP Solver, v4.65\n",
      "Parameter(s) specified in the command line:\n",
      " --write C:\\Users\\ANYA~1.HEI\\AppData\\Local\\Temp\\tmpmyq6ynta.glpk.raw --wglp\n",
      " C:\\Users\\ANYA~1.HEI\\AppData\\Local\\Temp\\tmprl9pr5hc.glpk.glp --cpxlp C:\\Users\\ANYA~1.HEI\\AppData\\Local\\Temp\\tmphha9auxv.pyomo.lp\n",
      "Reading problem data from 'C:\\Users\\ANYA~1.HEI\\AppData\\Local\\Temp\\tmphha9auxv.pyomo.lp'...\n",
      "1046 rows, 3136 columns, 5321 non-zeros\n",
      "13217 lines were read\n",
      "Writing problem data to 'C:\\Users\\ANYA~1.HEI\\AppData\\Local\\Temp\\tmprl9pr5hc.glpk.glp'...\n",
      "13402 lines were written\n",
      "GLPK Simplex Optimizer, v4.65\n",
      "1046 rows, 3136 columns, 5321 non-zeros\n",
      "Preprocessing...\n",
      "855 rows, 1805 columns, 3705 non-zeros\n",
      "Scaling...\n",
      " A: min|aij| =  1.305e-04  max|aij| =  1.000e+00  ratio =  7.663e+03\n",
      "GM: min|aij| =  5.549e-01  max|aij| =  1.802e+00  ratio =  3.248e+00\n",
      "EQ: min|aij| =  3.116e-01  max|aij| =  1.000e+00  ratio =  3.209e+00\n",
      "Constructing initial basis...\n",
      "Size of triangular part is 855\n",
      "      0: obj =  -1.177407968e+08 inf =   6.279e+01 (475)\n",
      "    475: obj =   1.314826249e+08 inf =   0.000e+00 (0)\n",
      "*   950: obj =   4.134568250e-08 inf =   0.000e+00 (0) 2\n",
      "OPTIMAL LP SOLUTION FOUND\n",
      "Time used:   0.0 secs\n",
      "Memory used: 2.2 Mb (2295632 bytes)\n",
      "Writing basic solution to 'C:\\Users\\ANYA~1.HEI\\AppData\\Local\\Temp\\tmpmyq6ynta.glpk.raw'...\n",
      "4191 lines were written\n",
      "Model Solved to Optimality\n"
     ]
    },
    {
     "data": {
      "text/plain": [
       "(0.0, 0.0)"
      ]
     },
     "execution_count": 79,
     "metadata": {},
     "output_type": "execute_result"
    }
   ],
   "source": [
    "x_charge, soc, x_charge_ev, energy_level_cp, curtailment_feedin, \\\n",
    "   curtailment_load, curtailment_reactive_feedin, curtailment_reactive_load, \\\n",
    "   v_bus, p_line, q_line, p_agr_min = opt.optimize(model, 'glpk', mode='energy_band')\n",
    "curtailment_feedin.sum().sum(), curtailment_load.sum().sum()"
   ]
  },
  {
   "cell_type": "code",
   "execution_count": 80,
   "id": "cubic-contest",
   "metadata": {},
   "outputs": [
    {
     "name": "stdout",
     "output_type": "stream",
     "text": [
      "Setup model: Defining sets and parameters.\n",
      "Setup model: Defining variables.\n",
      "Setup model: Setting constraints.\n",
      "Setup model: Setting objective.\n",
      "Successfully set up optimisation model.\n"
     ]
    }
   ],
   "source": [
    "model_max = opt.setup_model(lv_grid, downstream_node_matrix, timesteps=timeindex,\n",
    "                        optimize_storage=False, mapping_cp=mapping_lv_grid,\n",
    "                        energy_band_charging_points=tmp_bands_lv_grid, pu=False,\n",
    "                        objective='maximize_energy_level')"
   ]
  },
  {
   "cell_type": "code",
   "execution_count": 81,
   "id": "north-diary",
   "metadata": {},
   "outputs": [
    {
     "name": "stdout",
     "output_type": "stream",
     "text": [
      "GLPSOL: GLPK LP/MIP Solver, v4.65\n",
      "Parameter(s) specified in the command line:\n",
      " --write C:\\Users\\ANYA~1.HEI\\AppData\\Local\\Temp\\tmpf43pnrss.glpk.raw --wglp\n",
      " C:\\Users\\ANYA~1.HEI\\AppData\\Local\\Temp\\tmpw4ht5uqk.glpk.glp --cpxlp C:\\Users\\ANYA~1.HEI\\AppData\\Local\\Temp\\tmpramtkohg.pyomo.lp\n",
      "Reading problem data from 'C:\\Users\\ANYA~1.HEI\\AppData\\Local\\Temp\\tmpramtkohg.pyomo.lp'...\n",
      "1046 rows, 3136 columns, 5321 non-zeros\n",
      "13217 lines were read\n",
      "Writing problem data to 'C:\\Users\\ANYA~1.HEI\\AppData\\Local\\Temp\\tmpw4ht5uqk.glpk.glp'...\n",
      "13402 lines were written\n",
      "GLPK Simplex Optimizer, v4.65\n",
      "1046 rows, 3136 columns, 5321 non-zeros\n",
      "Preprocessing...\n",
      "855 rows, 1805 columns, 3705 non-zeros\n",
      "Scaling...\n",
      " A: min|aij| =  1.305e-04  max|aij| =  1.000e+00  ratio =  7.663e+03\n",
      "GM: min|aij| =  5.549e-01  max|aij| =  1.802e+00  ratio =  3.248e+00\n",
      "EQ: min|aij| =  3.116e-01  max|aij| =  1.000e+00  ratio =  3.209e+00\n",
      "Constructing initial basis...\n",
      "Size of triangular part is 855\n",
      "      0: obj =  -1.177407976e+08 inf =   6.279e+01 (475)\n",
      "    475: obj =   1.314826241e+08 inf =   0.000e+00 (0)\n",
      "*   855: obj =  -2.801132189e+00 inf =   0.000e+00 (0) 2\n",
      "OPTIMAL LP SOLUTION FOUND\n",
      "Time used:   0.0 secs\n",
      "Memory used: 2.2 Mb (2295632 bytes)\n",
      "Writing basic solution to 'C:\\Users\\ANYA~1.HEI\\AppData\\Local\\Temp\\tmpf43pnrss.glpk.raw'...\n",
      "4191 lines were written\n",
      "Model Solved to Optimality\n"
     ]
    },
    {
     "data": {
      "text/plain": [
       "(0.0, 0.0)"
      ]
     },
     "execution_count": 81,
     "metadata": {},
     "output_type": "execute_result"
    }
   ],
   "source": [
    "x_charge, soc, x_charge_ev, energy_level_cp, curtailment_feedin, \\\n",
    "   curtailment_load, curtailment_reactive_feedin, curtailment_reactive_load, \\\n",
    "   v_bus, p_line, q_line, p_agr_max = opt.optimize(model_max, 'glpk', mode='energy_band')\n",
    "\n",
    "curtailment_feedin.sum().sum(), curtailment_load.sum().sum()"
   ]
  },
  {
   "cell_type": "code",
   "execution_count": 82,
   "id": "bottom-moscow",
   "metadata": {},
   "outputs": [],
   "source": [
    "power_bands = pd.concat([p_agr_min.rename(columns={repr(lv_grid):'lower'}), \n",
    "                        p_agr_max.rename(columns={repr(lv_grid):'upper'})],axis=1)\n",
    "energy_bands = get_aggregated_bands(tmp_bands_lv_grid)"
   ]
  },
  {
   "cell_type": "code",
   "execution_count": 83,
   "id": "republican-compensation",
   "metadata": {},
   "outputs": [
    {
     "data": {
      "text/plain": [
       "<AxesSubplot:>"
      ]
     },
     "execution_count": 83,
     "metadata": {},
     "output_type": "execute_result"
    },
    {
     "data": {
      "image/png": "[encoded data removed]",
      "text/plain": [
       "<Figure size 432x288 with 1 Axes>"
      ]
     },
     "metadata": {
      "needs_background": "light"
     },
     "output_type": "display_data"
    }
   ],
   "source": [
    "power_bands.plot()"
   ]
  },
  {
   "cell_type": "code",
   "execution_count": 84,
   "id": "promising-mining",
   "metadata": {},
   "outputs": [
    {
     "data": {
      "text/plain": [
       "<AxesSubplot:>"
      ]
     },
     "execution_count": 84,
     "metadata": {},
     "output_type": "execute_result"
    },
    {
     "data": {
      "image/png": "[encoded data removed]",
      "text/plain": [
       "<Figure size 432x288 with 1 Axes>"
      ]
     },
     "metadata": {
      "needs_background": "light"
     },
     "output_type": "display_data"
    }
   ],
   "source": [
    "energy_bands.plot()"
   ]
  },
  {
   "cell_type": "code",
   "execution_count": 94,
   "id": "loving-jumping",
   "metadata": {},
   "outputs": [
    {
     "name": "stdout",
     "output_type": "stream",
     "text": [
      "Setup Model: Defining Parameters and Sets\n",
      "Setup Model: Defining Variables\n",
      "Setup Model: Defining Constraints\n",
      "Setup Model: Defining Objective\n",
      "GLPSOL: GLPK LP/MIP Solver, v4.65\n",
      "Parameter(s) specified in the command line:\n",
      " --write C:\\Users\\ANYA~1.HEI\\AppData\\Local\\Temp\\tmpagj1mzuk.glpk.raw --wglp\n",
      " C:\\Users\\ANYA~1.HEI\\AppData\\Local\\Temp\\tmpm83s4ili.glpk.glp --cpxlp C:\\Users\\ANYA~1.HEI\\AppData\\Local\\Temp\\tmpurhxttjz.pyomo.lp\n",
      "Reading problem data from 'C:\\Users\\ANYA~1.HEI\\AppData\\Local\\Temp\\tmpurhxttjz.pyomo.lp'...\n",
      "95 rows, 190 columns, 283 non-zeros\n",
      "860 lines were read\n",
      "Writing problem data to 'C:\\Users\\ANYA~1.HEI\\AppData\\Local\\Temp\\tmpm83s4ili.glpk.glp'...\n",
      "856 lines were written\n",
      "GLPK Simplex Optimizer, v4.65\n",
      "95 rows, 190 columns, 283 non-zeros\n",
      "Preprocessing...\n",
      "41 rows, 43 columns, 82 non-zeros\n",
      "Scaling...\n",
      " A: min|aij| =  2.250e-01  max|aij| =  1.000e+00  ratio =  4.444e+00\n",
      "Problem data seem to be well scaled\n",
      "Constructing initial basis...\n",
      "Size of triangular part is 41\n",
      "*     0: obj =   1.300025940e+00 inf =   0.000e+00 (0)\n",
      "OPTIMAL LP SOLUTION FOUND\n",
      "Time used:   0.0 secs\n",
      "Memory used: 0.1 Mb (145296 bytes)\n",
      "Writing basic solution to 'C:\\Users\\ANYA~1.HEI\\AppData\\Local\\Temp\\tmpagj1mzuk.glpk.raw'...\n",
      "294 lines were written\n",
      "Model Solved to Optimality\n"
     ]
    }
   ],
   "source": [
    "mode = \"minimize\"\n",
    "model_min_eb = opt.setup_model_bands(energy_bands, power_bands, mode=mode)\n",
    "energy_level_min, charging = opt.optimize_bands(model_min_eb, 'glpk', mode)"
   ]
  },
  {
   "cell_type": "code",
   "execution_count": 98,
   "id": "greater-retro",
   "metadata": {},
   "outputs": [
    {
     "name": "stdout",
     "output_type": "stream",
     "text": [
      "Setup Model: Defining Parameters and Sets\n",
      "Setup Model: Defining Variables\n",
      "Setup Model: Defining Constraints\n",
      "Setup Model: Defining Objective\n",
      "GLPSOL: GLPK LP/MIP Solver, v4.65\n",
      "Parameter(s) specified in the command line:\n",
      " --write C:\\Users\\ANYA~1.HEI\\AppData\\Local\\Temp\\tmp05f2t9z0.glpk.raw --wglp\n",
      " C:\\Users\\ANYA~1.HEI\\AppData\\Local\\Temp\\tmpuw3z11xa.glpk.glp --cpxlp C:\\Users\\ANYA~1.HEI\\AppData\\Local\\Temp\\tmpxv5wm4qn.pyomo.lp\n",
      "Reading problem data from 'C:\\Users\\ANYA~1.HEI\\AppData\\Local\\Temp\\tmpxv5wm4qn.pyomo.lp'...\n",
      "95 rows, 190 columns, 283 non-zeros\n",
      "860 lines were read\n",
      "Writing problem data to 'C:\\Users\\ANYA~1.HEI\\AppData\\Local\\Temp\\tmpuw3z11xa.glpk.glp'...\n",
      "856 lines were written\n",
      "GLPK Simplex Optimizer, v4.65\n",
      "95 rows, 190 columns, 283 non-zeros\n",
      "Preprocessing...\n",
      "41 rows, 43 columns, 82 non-zeros\n",
      "Scaling...\n",
      " A: min|aij| =  2.250e-01  max|aij| =  1.000e+00  ratio =  4.444e+00\n",
      "Problem data seem to be well scaled\n",
      "Constructing initial basis...\n",
      "Size of triangular part is 41\n",
      "*     0: obj =  -1.300025940e+00 inf =   0.000e+00 (43)\n",
      "*    51: obj =  -1.872360229e+00 inf =   0.000e+00 (0)\n",
      "OPTIMAL LP SOLUTION FOUND\n",
      "Time used:   0.0 secs\n",
      "Memory used: 0.1 Mb (145296 bytes)\n",
      "Writing basic solution to 'C:\\Users\\ANYA~1.HEI\\AppData\\Local\\Temp\\tmp05f2t9z0.glpk.raw'...\n",
      "294 lines were written\n",
      "Model Solved to Optimality\n"
     ]
    }
   ],
   "source": [
    "mode = \"maximize\"\n",
    "model_max_eb = opt.setup_model_bands(energy_bands, power_bands, mode=mode)\n",
    "energy_level_max, charging_max = opt.optimize_bands(model_max_eb, 'glpk', mode)"
   ]
  },
  {
   "cell_type": "code",
   "execution_count": 107,
   "id": "closed-nomination",
   "metadata": {},
   "outputs": [
    {
     "data": {
      "text/plain": [
       "<AxesSubplot:>"
      ]
     },
     "execution_count": 107,
     "metadata": {},
     "output_type": "execute_result"
    },
    {
     "data": {
      "image/png": "[encoded data removed]",
      "text/plain": [
       "<Figure size 432x288 with 1 Axes>"
      ]
     },
     "metadata": {
      "needs_background": "light"
     },
     "output_type": "display_data"
    }
   ],
   "source": [
    "energy_band_grid = pd.concat([energy_level_min,energy_level_max],axis=1)\n",
    "energy_band_grid.plot()"
   ]
  },
  {
   "cell_type": "code",
   "execution_count": 17,
   "id": "opponent-stadium",
   "metadata": {},
   "outputs": [
    {
     "data": {
      "text/plain": [
       "BusBar_mvgd_1056_lvgd_440345_LV      0.400000\n",
       "BranchTee_mvgd_1056_lvgd_440345_1    0.397565\n",
       "BranchTee_mvgd_1056_lvgd_440345_2    0.397544\n",
       "Bus_mvgd_1056_lvgd_440345_loa_1      0.397543\n",
       "dtype: float64"
      ]
     },
     "execution_count": 17,
     "metadata": {},
     "output_type": "execute_result"
    }
   ],
   "source": [
    "v_bus.min()"
   ]
  },
  {
   "cell_type": "code",
   "execution_count": 101,
   "id": "nearby-grammar",
   "metadata": {},
   "outputs": [
    {
     "name": "stdout",
     "output_type": "stream",
     "text": [
      "Setup model: Defining sets and parameters.\n",
      "Setup model: Defining variables.\n",
      "Setup model: Setting constraints.\n",
      "Setup model: Setting objective.\n",
      "Successfully set up optimisation model.\n",
      "GLPSOL: GLPK LP/MIP Solver, v4.65\n",
      "Parameter(s) specified in the command line:\n",
      " --write C:\\Users\\ANYA~1.HEI\\AppData\\Local\\Temp\\tmph79tm63b.glpk.raw --wglp\n",
      " C:\\Users\\ANYA~1.HEI\\AppData\\Local\\Temp\\tmpkmmj1rc8.glpk.glp --cpxlp C:\\Users\\ANYA~1.HEI\\AppData\\Local\\Temp\\tmpq12s2rff.pyomo.lp\n",
      "Reading problem data from 'C:\\Users\\ANYA~1.HEI\\AppData\\Local\\Temp\\tmpq12s2rff.pyomo.lp'...\n",
      "1046 rows, 3136 columns, 5321 non-zeros\n",
      "13217 lines were read\n",
      "Writing problem data to 'C:\\Users\\ANYA~1.HEI\\AppData\\Local\\Temp\\tmpkmmj1rc8.glpk.glp'...\n",
      "13402 lines were written\n",
      "GLPK Simplex Optimizer, v4.65\n",
      "1046 rows, 3136 columns, 5321 non-zeros\n",
      "Preprocessing...\n",
      "855 rows, 1805 columns, 3705 non-zeros\n",
      "Scaling...\n",
      " A: min|aij| =  1.305e-04  max|aij| =  1.000e+00  ratio =  7.663e+03\n",
      "GM: min|aij| =  5.549e-01  max|aij| =  1.802e+00  ratio =  3.248e+00\n",
      "EQ: min|aij| =  3.116e-01  max|aij| =  1.000e+00  ratio =  3.209e+00\n",
      "Constructing initial basis...\n",
      "Size of triangular part is 855\n",
      "      0: obj =   5.515599674e+07 inf =   4.347e+01 (380)\n",
      "    380: obj =   8.363491946e+07 inf =   0.000e+00 (0)\n",
      "*   855: obj =   7.381150448e+04 inf =   0.000e+00 (0) 4\n",
      "OPTIMAL LP SOLUTION FOUND\n",
      "Time used:   0.0 secs\n",
      "Memory used: 2.2 Mb (2295632 bytes)\n",
      "Writing basic solution to 'C:\\Users\\ANYA~1.HEI\\AppData\\Local\\Temp\\tmph79tm63b.glpk.raw'...\n",
      "4191 lines were written\n",
      "Model Solved to Optimality\n"
     ]
    },
    {
     "data": {
      "text/plain": [
       "(0.0, 0.07381150448332992)"
      ]
     },
     "execution_count": 101,
     "metadata": {},
     "output_type": "execute_result"
    }
   ],
   "source": [
    "model_slack = opt.setup_model(lv_grid, downstream_node_matrix, timesteps=timeindex,\n",
    "                        optimize_storage=False, mapping_cp=mapping_lv_grid,\n",
    "                        energy_band_charging_points=tmp_bands_lv_grid, pu=False,\n",
    "                        objective='minimize_energy_level', v_slack=0.36)\n",
    "x_charge, soc, x_charge_ev, energy_level_cp, curtailment_feedin, \\\n",
    "   curtailment_load, curtailment_reactive_feedin, curtailment_reactive_load, \\\n",
    "   v_bus, p_line, q_line, p_agr_min_slack = opt.optimize(model_slack, 'glpk', mode='energy_band')\n",
    "\n",
    "curtailment_feedin.sum().sum(), curtailment_load.sum().sum()"
   ]
  },
  {
   "cell_type": "code",
   "execution_count": 102,
   "id": "proved-butter",
   "metadata": {},
   "outputs": [
    {
     "name": "stdout",
     "output_type": "stream",
     "text": [
      "Setup model: Defining sets and parameters.\n",
      "Setup model: Defining variables.\n",
      "Setup model: Setting constraints.\n",
      "Setup model: Setting objective.\n",
      "Successfully set up optimisation model.\n",
      "GLPSOL: GLPK LP/MIP Solver, v4.65\n",
      "Parameter(s) specified in the command line:\n",
      " --write C:\\Users\\ANYA~1.HEI\\AppData\\Local\\Temp\\tmpbly4zyxz.glpk.raw --wglp\n",
      " C:\\Users\\ANYA~1.HEI\\AppData\\Local\\Temp\\tmpg26n4phu.glpk.glp --cpxlp C:\\Users\\ANYA~1.HEI\\AppData\\Local\\Temp\\tmp79v43z6u.pyomo.lp\n",
      "Reading problem data from 'C:\\Users\\ANYA~1.HEI\\AppData\\Local\\Temp\\tmp79v43z6u.pyomo.lp'...\n",
      "1046 rows, 3136 columns, 5321 non-zeros\n",
      "13217 lines were read\n",
      "Writing problem data to 'C:\\Users\\ANYA~1.HEI\\AppData\\Local\\Temp\\tmpg26n4phu.glpk.glp'...\n",
      "13402 lines were written\n",
      "GLPK Simplex Optimizer, v4.65\n",
      "1046 rows, 3136 columns, 5321 non-zeros\n",
      "Preprocessing...\n",
      "855 rows, 1805 columns, 3705 non-zeros\n",
      "Scaling...\n",
      " A: min|aij| =  1.305e-04  max|aij| =  1.000e+00  ratio =  7.663e+03\n",
      "GM: min|aij| =  5.549e-01  max|aij| =  1.802e+00  ratio =  3.248e+00\n",
      "EQ: min|aij| =  3.116e-01  max|aij| =  1.000e+00  ratio =  3.209e+00\n",
      "Constructing initial basis...\n",
      "Size of triangular part is 855\n",
      "      0: obj =   5.515599594e+07 inf =   4.347e+01 (380)\n",
      "    380: obj =   8.363491866e+07 inf =   0.000e+00 (0)\n",
      "*   855: obj =   7.381070564e+04 inf =   0.000e+00 (0) 4\n",
      "OPTIMAL LP SOLUTION FOUND\n",
      "Time used:   0.0 secs\n",
      "Memory used: 2.2 Mb (2295632 bytes)\n",
      "Writing basic solution to 'C:\\Users\\ANYA~1.HEI\\AppData\\Local\\Temp\\tmpbly4zyxz.glpk.raw'...\n",
      "4191 lines were written\n",
      "Model Solved to Optimality\n"
     ]
    },
    {
     "data": {
      "text/plain": [
       "(0.0, 0.07381150448332992)"
      ]
     },
     "execution_count": 102,
     "metadata": {},
     "output_type": "execute_result"
    }
   ],
   "source": [
    "model_max_slack = opt.setup_model(lv_grid, downstream_node_matrix, timesteps=timeindex,\n",
    "                        optimize_storage=False, mapping_cp=mapping_lv_grid,\n",
    "                        energy_band_charging_points=tmp_bands_lv_grid, pu=False,\n",
    "                        objective='maximize_energy_level', v_slack=0.36)\n",
    "x_charge, soc, x_charge_ev, energy_level_cp, curtailment_feedin, \\\n",
    "   curtailment_load, curtailment_reactive_feedin, curtailment_reactive_load, \\\n",
    "   v_bus, p_line, q_line, p_agr_max_slack = opt.optimize(model_max_slack, 'glpk', mode='energy_band')\n",
    "\n",
    "curtailment_feedin.sum().sum(), curtailment_load.sum().sum()"
   ]
  },
  {
   "cell_type": "code",
   "execution_count": 103,
   "id": "enormous-terrorist",
   "metadata": {},
   "outputs": [],
   "source": [
    "power_bands_slack = pd.concat([p_agr_min_slack.rename(columns={repr(lv_grid):'lower'}), \n",
    "                        p_agr_max_slack.rename(columns={repr(lv_grid):'upper'})],axis=1)\n",
    "energy_bands = get_aggregated_bands(tmp_bands_lv_grid)"
   ]
  },
  {
   "cell_type": "code",
   "execution_count": 104,
   "id": "sufficient-wrong",
   "metadata": {},
   "outputs": [
    {
     "name": "stdout",
     "output_type": "stream",
     "text": [
      "Setup Model: Defining Parameters and Sets\n",
      "Setup Model: Defining Variables\n",
      "Setup Model: Defining Constraints\n",
      "Setup Model: Defining Objective\n",
      "GLPSOL: GLPK LP/MIP Solver, v4.65\n",
      "Parameter(s) specified in the command line:\n",
      " --write C:\\Users\\ANYA~1.HEI\\AppData\\Local\\Temp\\tmp_wbiq7pv.glpk.raw --wglp\n",
      " C:\\Users\\ANYA~1.HEI\\AppData\\Local\\Temp\\tmpac7a4r7d.glpk.glp --cpxlp C:\\Users\\ANYA~1.HEI\\AppData\\Local\\Temp\\tmpj9y2hvgu.pyomo.lp\n",
      "Reading problem data from 'C:\\Users\\ANYA~1.HEI\\AppData\\Local\\Temp\\tmpj9y2hvgu.pyomo.lp'...\n",
      "95 rows, 190 columns, 283 non-zeros\n",
      "860 lines were read\n",
      "Writing problem data to 'C:\\Users\\ANYA~1.HEI\\AppData\\Local\\Temp\\tmpac7a4r7d.glpk.glp'...\n",
      "856 lines were written\n",
      "GLPK Simplex Optimizer, v4.65\n",
      "95 rows, 190 columns, 283 non-zeros\n",
      "Preprocessing...\n",
      "16 rows, 18 columns, 32 non-zeros\n",
      "Scaling...\n",
      " A: min|aij| =  2.250e-01  max|aij| =  1.000e+00  ratio =  4.444e+00\n",
      "Problem data seem to be well scaled\n",
      "Constructing initial basis...\n",
      "Size of triangular part is 16\n",
      "*     0: obj =   1.300025940e+00 inf =   0.000e+00 (0)\n",
      "OPTIMAL LP SOLUTION FOUND\n",
      "Time used:   0.0 secs\n",
      "Memory used: 0.1 Mb (136964 bytes)\n",
      "Writing basic solution to 'C:\\Users\\ANYA~1.HEI\\AppData\\Local\\Temp\\tmp_wbiq7pv.glpk.raw'...\n",
      "294 lines were written\n",
      "Model Solved to Optimality\n",
      "Setup Model: Defining Parameters and Sets\n",
      "Setup Model: Defining Variables\n",
      "Setup Model: Defining Constraints\n",
      "Setup Model: Defining Objective\n",
      "GLPSOL: GLPK LP/MIP Solver, v4.65\n",
      "Parameter(s) specified in the command line:\n",
      " --write C:\\Users\\ANYA~1.HEI\\AppData\\Local\\Temp\\tmpnbhzc8hj.glpk.raw --wglp\n",
      " C:\\Users\\ANYA~1.HEI\\AppData\\Local\\Temp\\tmp8zm0sur3.glpk.glp --cpxlp C:\\Users\\ANYA~1.HEI\\AppData\\Local\\Temp\\tmpc086wj1z.pyomo.lp\n",
      "Reading problem data from 'C:\\Users\\ANYA~1.HEI\\AppData\\Local\\Temp\\tmpc086wj1z.pyomo.lp'...\n",
      "95 rows, 190 columns, 283 non-zeros\n",
      "860 lines were read\n",
      "Writing problem data to 'C:\\Users\\ANYA~1.HEI\\AppData\\Local\\Temp\\tmp8zm0sur3.glpk.glp'...\n",
      "856 lines were written\n",
      "GLPK Simplex Optimizer, v4.65\n",
      "95 rows, 190 columns, 283 non-zeros\n",
      "Preprocessing...\n",
      "16 rows, 18 columns, 32 non-zeros\n",
      "Scaling...\n",
      " A: min|aij| =  2.250e-01  max|aij| =  1.000e+00  ratio =  4.444e+00\n",
      "Problem data seem to be well scaled\n",
      "Constructing initial basis...\n",
      "Size of triangular part is 16\n",
      "*     0: obj =   1.300025940e+00 inf =   0.000e+00 (18)\n",
      "*    20: obj =   1.483449936e+00 inf =   0.000e+00 (0)\n",
      "OPTIMAL LP SOLUTION FOUND\n",
      "Time used:   0.0 secs\n",
      "Memory used: 0.1 Mb (136964 bytes)\n",
      "Writing basic solution to 'C:\\Users\\ANYA~1.HEI\\AppData\\Local\\Temp\\tmpnbhzc8hj.glpk.raw'...\n",
      "294 lines were written\n",
      "Model Solved to Optimality\n"
     ]
    }
   ],
   "source": [
    "mode = \"minimize\"\n",
    "model_min_eb_slack = opt.setup_model_bands(energy_bands, power_bands_slack, mode=mode)\n",
    "energy_level_min_slack, charging = opt.optimize_bands(model_min_eb_slack, 'glpk', mode)\n",
    "mode = \"maximize\"\n",
    "model_max_eb_slack = opt.setup_model_bands(energy_bands, power_bands_slack, mode=mode)\n",
    "energy_level_max_slack, charging = opt.optimize_bands(model_max_eb_slack, 'glpk', mode)"
   ]
  },
  {
   "cell_type": "code",
   "execution_count": 106,
   "id": "single-station",
   "metadata": {},
   "outputs": [
    {
     "data": {
      "text/plain": [
       "<AxesSubplot:>"
      ]
     },
     "execution_count": 106,
     "metadata": {},
     "output_type": "execute_result"
    },
    {
     "data": {
      "image/png": "[encoded data removed]",
      "text/plain": [
       "<Figure size 432x288 with 1 Axes>"
      ]
     },
     "metadata": {
      "needs_background": "light"
     },
     "output_type": "display_data"
    }
   ],
   "source": [
    "energy_band_grid_slack = pd.concat([energy_level_min_slack,energy_level_max_slack],axis=1)\n",
    "energy_band_grid_slack.plot()"
   ]
  },
  {
   "cell_type": "code",
   "execution_count": 109,
   "id": "duplicate-worker",
   "metadata": {},
   "outputs": [],
   "source": [
    "energy_band_grid_slack.rename(columns={'lower':'lower_constrained', 'upper': 'upper_constrained'}, inplace=True)"
   ]
  },
  {
   "cell_type": "code",
   "execution_count": 123,
   "id": "naked-citizen",
   "metadata": {},
   "outputs": [
    {
     "data": {
      "image/png": "[encoded data removed]",
      "text/plain": [
       "<Figure size 432x288 with 1 Axes>"
      ]
     },
     "metadata": {
      "needs_background": "light"
     },
     "output_type": "display_data"
    }
   ],
   "source": [
    "energy_bands_comparison = pd.concat([energy_band_grid, energy_band_grid_slack],axis=1)\n",
    "ax = energy_bands_comparison.plot()\n",
    "ax.fill_between(energy_bands_comparison.index, energy_bands_comparison['lower'], \n",
    "                energy_bands_comparison['upper'],facecolor='orange')\n",
    "ax.fill_between(energy_bands_comparison.index, energy_bands_comparison['lower_constrained'], \n",
    "                energy_bands_comparison['upper_constrained'],facecolor='darkred')\n",
    "plt.ylabel('Energy [MWh]')\n",
    "plt.title('Constrained and unconstrained grid energy band')\n",
    "plt.savefig('plots/energy_bands_lv_grid.pdf')"
   ]
  },
  {
   "cell_type": "code",
   "execution_count": 124,
   "id": "broad-prerequisite",
   "metadata": {},
   "outputs": [
    {
     "data": {
      "image/png": "[encoded data removed]",
      "text/plain": [
       "<Figure size 432x288 with 1 Axes>"
      ]
     },
     "metadata": {
      "needs_background": "light"
     },
     "output_type": "display_data"
    }
   ],
   "source": [
    "power_bands_slack.rename(columns={'lower':'lower_constrained', 'upper': 'upper_constrained'}, inplace=True)\n",
    "power_bands_comparison = pd.concat([power_bands, power_bands_slack],axis=1)\n",
    "ax = power_bands_comparison.plot(legend=False)\n",
    "ax.fill_between(power_bands_comparison.index, power_bands_comparison['lower'], \n",
    "                power_bands_comparison['upper'],facecolor='orange')\n",
    "ax.fill_between(power_bands_comparison.index, power_bands_comparison['lower_constrained'], \n",
    "                power_bands_comparison['upper_constrained'],facecolor='darkred')\n",
    "plt.ylabel('Power [MW]')\n",
    "plt.title('Constrained and unconstrained grid power band')\n",
    "plt.savefig('plots/power_bands_lv_grid.pdf')"
   ]
  },
  {
   "cell_type": "code",
   "execution_count": 22,
   "id": "optical-italic",
   "metadata": {},
   "outputs": [
    {
     "data": {
      "text/plain": [
       "<AxesSubplot:>"
      ]
     },
     "execution_count": 22,
     "metadata": {},
     "output_type": "execute_result"
    },
    {
     "data": {
      "image/png": "[encoded data removed]",
      "text/plain": [
       "<Figure size 432x288 with 1 Axes>"
      ]
     },
     "metadata": {
      "needs_background": "light"
     },
     "output_type": "display_data"
    }
   ],
   "source": [
    "curtailment_load.plot()"
   ]
  },
  {
   "cell_type": "code",
   "execution_count": 23,
   "id": "sized-sunrise",
   "metadata": {},
   "outputs": [
    {
     "name": "stdout",
     "output_type": "stream",
     "text": [
      "Setup model: Defining sets and parameters.\n",
      "First timestep: 0, last timestep: 94.\n",
      "Setup model: Defining variables.\n",
      "Setup model: Setting constraints.\n",
      "Setup model: Setting objective.\n",
      "Successfully set up optimisation model.\n"
     ]
    }
   ],
   "source": [
    "model_max = opt.setup_model(lv_grid, downstream_node_matrix, timesteps=timeindex,\n",
    "                        optimize_storage=False, mapping_cp=mapping_lv_grid,\n",
    "                        energy_band_charging_points=tmp_bands_lv_grid, pu=False,\n",
    "                        objective='maximize_energy_level', v_slack=0.36)"
   ]
  },
  {
   "cell_type": "code",
   "execution_count": 24,
   "id": "uniform-marketing",
   "metadata": {},
   "outputs": [
    {
     "name": "stdout",
     "output_type": "stream",
     "text": [
      "GLPSOL: GLPK LP/MIP Solver, v4.65\n",
      "Parameter(s) specified in the command line:\n",
      " --write C:\\Users\\ANYA~1.HEI\\AppData\\Local\\Temp\\tmpg4pspoza.glpk.raw --wglp\n",
      " C:\\Users\\ANYA~1.HEI\\AppData\\Local\\Temp\\tmpw1u6qtps.glpk.glp --cpxlp C:\\Users\\ANYA~1.HEI\\AppData\\Local\\Temp\\tmp610oyuyk.pyomo.lp\n",
      "Reading problem data from 'C:\\Users\\ANYA~1.HEI\\AppData\\Local\\Temp\\tmp610oyuyk.pyomo.lp'...\n",
      "1046 rows, 3136 columns, 5321 non-zeros\n",
      "13217 lines were read\n",
      "Writing problem data to 'C:\\Users\\ANYA~1.HEI\\AppData\\Local\\Temp\\tmpw1u6qtps.glpk.glp'...\n",
      "13402 lines were written\n",
      "GLPK Simplex Optimizer, v4.65\n",
      "1046 rows, 3136 columns, 5321 non-zeros\n",
      "Preprocessing...\n",
      "855 rows, 1805 columns, 3705 non-zeros\n",
      "Scaling...\n",
      " A: min|aij| =  1.305e-04  max|aij| =  1.000e+00  ratio =  7.663e+03\n",
      "GM: min|aij| =  5.549e-01  max|aij| =  1.802e+00  ratio =  3.248e+00\n",
      "EQ: min|aij| =  3.116e-01  max|aij| =  1.000e+00  ratio =  3.209e+00\n",
      "Constructing initial basis...\n",
      "Size of triangular part is 855\n",
      "      0: obj =   5.515599600e+07 inf =   4.347e+01 (380)\n",
      "    380: obj =   8.363491872e+07 inf =   0.000e+00 (0)\n",
      "*   855: obj =   7.381076663e+04 inf =   0.000e+00 (0) 4\n",
      "OPTIMAL LP SOLUTION FOUND\n",
      "Time used:   0.0 secs\n",
      "Memory used: 2.2 Mb (2295632 bytes)\n",
      "Writing basic solution to 'C:\\Users\\ANYA~1.HEI\\AppData\\Local\\Temp\\tmpg4pspoza.glpk.raw'...\n",
      "4191 lines were written\n",
      "Model Solved to Optimality\n"
     ]
    },
    {
     "data": {
      "text/plain": [
       "(0.0, 0.07381150448332992)"
      ]
     },
     "execution_count": 24,
     "metadata": {},
     "output_type": "execute_result"
    }
   ],
   "source": [
    "x_charge, soc, x_charge_ev, energy_level_cp, curtailment_feedin, \\\n",
    "   curtailment_load, curtailment_reactive_feedin, curtailment_reactive_load, \\\n",
    "   v_bus, p_line, q_line, p_agr_max = opt.optimize(model_max, 'glpk', mode='energy_band')\n",
    "\n",
    "curtailment_feedin.sum().sum(), curtailment_load.sum().sum()"
   ]
  },
  {
   "cell_type": "code",
   "execution_count": 25,
   "id": "beautiful-listing",
   "metadata": {},
   "outputs": [
    {
     "data": {
      "text/plain": [
       "<AxesSubplot:>"
      ]
     },
     "execution_count": 25,
     "metadata": {},
     "output_type": "execute_result"
    },
    {
     "data": {
      "image/png": "[encoded data removed]",
      "text/plain": [
       "<Figure size 432x288 with 1 Axes>"
      ]
     },
     "metadata": {
      "needs_background": "light"
     },
     "output_type": "display_data"
    }
   ],
   "source": [
    "p_agr_max.plot()"
   ]
  },
  {
   "cell_type": "code",
   "execution_count": 28,
   "id": "damaged-applicant",
   "metadata": {},
   "outputs": [],
   "source": [
    "power_bands = pd.concat([p_agr_min.rename(columns={repr(lv_grid):'lower'}), \n",
    "                        p_agr_max.rename(columns={repr(lv_grid):'upper'})],axis=1)\n",
    "energy_bands = get_aggregated_bands(tmp_bands_lv_grid)"
   ]
  },
  {
   "cell_type": "code",
   "execution_count": 41,
   "id": "opposite-alexandria",
   "metadata": {},
   "outputs": [
    {
     "name": "stdout",
     "output_type": "stream",
     "text": [
      "Setup Model: Defining Parameters and Sets\n",
      "Setup Model: Defining Variables\n",
      "Setup Model: Defining Constraints\n",
      "Setup Model: Defining Objective\n",
      "2 Set Declarations\n",
      "    time_non_zero : Size=1, Index=None, Ordered=True\n",
      "        Key  : Dimen : Domain                           : Size : Members\n",
      "        None :     1 : time_set - time_non_zero_index_0 :   94 : {1, 2, 3, 4, 5, 6, 7, 8, 9, 10, 11, 12, 13, 14, 15, 16, 17, 18, 19, 20, 21, 22, 23, 24, 25, 26, 27, 28, 29, 30, 31, 32, 33, 34, 35, 36, 37, 38, 39, 40, 41, 42, 43, 44, 45, 46, 47, 48, 49, 50, 51, 52, 53, 54, 55, 56, 57, 58, 59, 60, 61, 62, 63, 64, 65, 66, 67, 68, 69, 70, 71, 72, 73, 74, 75, 76, 77, 78, 79, 80, 81, 82, 83, 84, 85, 86, 87, 88, 89, 90, 91, 92, 93, 94}\n",
      "    time_non_zero_index_0 : Size=1, Index=None, Ordered=Insertion\n",
      "        Key  : Dimen : Domain : Size : Members\n",
      "        None :     1 :    Any :    1 :    {0,}\n",
      "\n",
      "1 RangeSet Declarations\n",
      "    time_set : Dimen=1, Size=95, Bounds=(0, 94)\n",
      "        Key  : Finite : Members\n",
      "        None :   True :  [0:94]\n",
      "\n",
      "2 Var Declarations\n",
      "    charging_power : Size=95, Index=time_set\n",
      "        Key : Lower : Value : Upper              : Fixed : Stale : Domain\n",
      "          0 :   0.0 :  None :                0.0 : False :  True :  Reals\n",
      "          1 :   0.0 :  None :                0.0 : False :  True :  Reals\n",
      "          2 :   0.0 :  None :                0.0 : False :  True :  Reals\n",
      "          3 :   0.0 :  None :                0.0 : False :  True :  Reals\n",
      "          4 :   0.0 :  None :                0.0 : False :  True :  Reals\n",
      "          5 :   0.0 :  None :                0.0 : False :  True :  Reals\n",
      "          6 :   0.0 :  None :                0.0 : False :  True :  Reals\n",
      "          7 :   0.0 :  None :                0.0 : False :  True :  Reals\n",
      "          8 :   0.0 :  None :                0.0 : False :  True :  Reals\n",
      "          9 :   0.0 :  None :                0.0 : False :  True :  Reals\n",
      "         10 :   0.0 :  None :                0.0 : False :  True :  Reals\n",
      "         11 :   0.0 :  None :                0.0 : False :  True :  Reals\n",
      "         12 :   0.0 :  None :                0.0 : False :  True :  Reals\n",
      "         13 :   0.0 :  None :                0.0 : False :  True :  Reals\n",
      "         14 :   0.0 :  None :                0.0 : False :  True :  Reals\n",
      "         15 :   0.0 :  None :                0.0 : False :  True :  Reals\n",
      "         16 :   0.0 :  None :                0.0 : False :  True :  Reals\n",
      "         17 :   0.0 :  None :                0.0 : False :  True :  Reals\n",
      "         18 :   0.0 :  None :                0.0 : False :  True :  Reals\n",
      "         19 :   0.0 :  None :                0.0 : False :  True :  Reals\n",
      "         20 :   0.0 :  None :                0.0 : False :  True :  Reals\n",
      "         21 :   0.0 :  None :                0.0 : False :  True :  Reals\n",
      "         22 :   0.0 :  None :                0.0 : False :  True :  Reals\n",
      "         23 :   0.0 :  None :                0.0 : False :  True :  Reals\n",
      "         24 :   0.0 :  None :                0.0 : False :  True :  Reals\n",
      "         25 :   0.0 :  None :                0.0 : False :  True :  Reals\n",
      "         26 :   0.0 :  None :                0.0 : False :  True :  Reals\n",
      "         27 :   0.0 :  None :                0.0 : False :  True :  Reals\n",
      "         28 :   0.0 :  None :                0.0 : False :  True :  Reals\n",
      "         29 :   0.0 :  None :                0.0 : False :  True :  Reals\n",
      "         30 :   0.0 :  None :                0.0 : False :  True :  Reals\n",
      "         31 :   0.0 :  None :   0.04998779296875 : False :  True :  Reals\n",
      "         32 :   0.0 :  None :   0.04998779296875 : False :  True :  Reals\n",
      "         33 :   0.0 :  None :   0.04998779296875 : False :  True :  Reals\n",
      "         34 :   0.0 :  None :   0.04998779296875 : False :  True :  Reals\n",
      "         35 :   0.0 :  None :   0.04998779296875 : False :  True :  Reals\n",
      "         36 :   0.0 :  None :   0.04998779296875 : False :  True :  Reals\n",
      "         37 :   0.0 :  None :   0.04998779296875 : False :  True :  Reals\n",
      "         38 :   0.0 :  None :   0.04998779296875 : False :  True :  Reals\n",
      "         39 :   0.0 :  None :   0.04998779296875 : False :  True :  Reals\n",
      "         40 :   0.0 :  None :   0.04998779296875 : False :  True :  Reals\n",
      "         41 :   0.0 :  None :   0.04998779296875 : False :  True :  Reals\n",
      "         42 :   0.0 :  None :   0.04998779296875 : False :  True :  Reals\n",
      "         43 :   0.0 :  None :   0.04998779296875 : False :  True :  Reals\n",
      "         44 :   0.0 :  None :                0.0 : False :  True :  Reals\n",
      "         45 :   0.0 :  None :                0.0 : False :  True :  Reals\n",
      "         46 :   0.0 :  None :                0.0 : False :  True :  Reals\n",
      "         47 :   0.0 :  None :                0.0 : False :  True :  Reals\n",
      "         48 :   0.0 :  None :                0.0 : False :  True :  Reals\n",
      "         49 :   0.0 :  None :                0.0 : False :  True :  Reals\n",
      "         50 :   0.0 :  None :                0.0 : False :  True :  Reals\n",
      "         51 :   0.0 :  None :                0.0 : False :  True :  Reals\n",
      "         52 :   0.0 :  None :                0.0 : False :  True :  Reals\n",
      "         53 :   0.0 :  None :                0.0 : False :  True :  Reals\n",
      "         54 :   0.0 :  None :                0.0 : False :  True :  Reals\n",
      "         55 :   0.0 :  None :                0.0 : False :  True :  Reals\n",
      "         56 :   0.0 :  None :                0.0 : False :  True :  Reals\n",
      "         57 :   0.0 :  None : 0.0110015869140625 : False :  True :  Reals\n",
      "         58 :   0.0 :  None : 0.0110015869140625 : False :  True :  Reals\n",
      "         59 :   0.0 :  None :                0.0 : False :  True :  Reals\n",
      "         60 :   0.0 :  None :                0.0 : False :  True :  Reals\n",
      "         61 :   0.0 :  None :                0.0 : False :  True :  Reals\n",
      "         62 :   0.0 :  None :                0.0 : False :  True :  Reals\n",
      "         63 :   0.0 :  None :                0.0 : False :  True :  Reals\n",
      "         64 :   0.0 :  None :                0.0 : False :  True :  Reals\n",
      "         65 :   0.0 :  None :                0.0 : False :  True :  Reals\n",
      "         66 :   0.0 :  None :                0.0 : False :  True :  Reals\n",
      "         67 :   0.0 :  None :                0.0 : False :  True :  Reals\n",
      "         68 :   0.0 :  None :                0.0 : False :  True :  Reals\n",
      "         69 :   0.0 :  None :                0.0 : False :  True :  Reals\n",
      "         70 :   0.0 :  None :                0.0 : False :  True :  Reals\n",
      "         71 :   0.0 :  None :                0.0 : False :  True :  Reals\n",
      "         72 :   0.0 :  None :                0.0 : False :  True :  Reals\n",
      "         73 :   0.0 :  None :                0.0 : False :  True :  Reals\n",
      "         74 :   0.0 :  None :                0.0 : False :  True :  Reals\n",
      "         75 :   0.0 :  None :                0.0 : False :  True :  Reals\n",
      "         76 :   0.0 :  None :                0.0 : False :  True :  Reals\n",
      "         77 :   0.0 :  None :                0.0 : False :  True :  Reals\n",
      "         78 :   0.0 :  None :                0.0 : False :  True :  Reals\n",
      "         79 :   0.0 :  None :                0.0 : False :  True :  Reals\n",
      "         80 :   0.0 :  None :                0.0 : False :  True :  Reals\n",
      "         81 :   0.0 :  None :                0.0 : False :  True :  Reals\n",
      "         82 :   0.0 :  None :                0.0 : False :  True :  Reals\n",
      "         83 :   0.0 :  None :                0.0 : False :  True :  Reals\n",
      "         84 :   0.0 :  None :                0.0 : False :  True :  Reals\n",
      "         85 :   0.0 :  None :                0.0 : False :  True :  Reals\n",
      "         86 :   0.0 :  None :                0.0 : False :  True :  Reals\n",
      "         87 :   0.0 :  None :                0.0 : False :  True :  Reals\n",
      "         88 :   0.0 :  None :                0.0 : False :  True :  Reals\n",
      "         89 :   0.0 :  None : 0.0110015869140625 : False :  True :  Reals\n",
      "         90 :   0.0 :  None : 0.0110015869140625 : False :  True :  Reals\n",
      "         91 :   0.0 :  None : 0.0110015869140625 : False :  True :  Reals\n",
      "         92 :   0.0 :  None : 0.0110015869140625 : False :  True :  Reals\n",
      "         93 :   0.0 :  None : 0.0110015869140625 : False :  True :  Reals\n",
      "         94 :   0.0 :  None : 0.0110015869140625 : False :  True :  Reals\n",
      "    energy_level : Size=95, Index=time_set\n",
      "        Key : Lower  : Value : Upper  : Fixed : Stale : Domain\n",
      "          0 :  2.473 :  None :  2.834 : False :  True :  Reals\n",
      "          1 :  2.502 :  None :  2.871 : False :  True :  Reals\n",
      "          2 :  2.543 :  None :  2.883 : False :  True :  Reals\n",
      "          3 :  2.568 :  None :  2.889 : False :  True :  Reals\n",
      "          4 :  2.584 :  None :  2.893 : False :  True :  Reals\n",
      "          5 :  2.602 :  None :  2.896 : False :  True :  Reals\n",
      "          6 :  2.617 :  None :    2.9 : False :  True :  Reals\n",
      "          7 :  2.625 :  None :  2.906 : False :  True :  Reals\n",
      "          8 :  2.639 :  None :   2.91 : False :  True :  Reals\n",
      "          9 :  2.648 :  None :  2.914 : False :  True :  Reals\n",
      "         10 :  2.662 :  None :  2.918 : False :  True :  Reals\n",
      "         11 :  2.676 :  None :   2.92 : False :  True :  Reals\n",
      "         12 :    2.7 :  None :  2.924 : False :  True :  Reals\n",
      "         13 :  2.734 :  None :  2.928 : False :  True :  Reals\n",
      "         14 :  2.758 :  None :   2.93 : False :  True :  Reals\n",
      "         15 :   2.78 :  None :  2.932 : False :  True :  Reals\n",
      "         16 :  2.803 :  None :  2.934 : False :  True :  Reals\n",
      "         17 :  2.822 :  None :  2.934 : False :  True :  Reals\n",
      "         18 :   2.84 :  None :  2.934 : False :  True :  Reals\n",
      "         19 :  2.846 :  None :  2.934 : False :  True :  Reals\n",
      "         20 :  2.861 :  None :  2.934 : False :  True :  Reals\n",
      "         21 :  2.879 :  None :  2.934 : False :  True :  Reals\n",
      "         22 :  2.889 :  None :  2.934 : False :  True :  Reals\n",
      "         23 :  2.896 :  None :  2.934 : False :  True :  Reals\n",
      "         24 :  2.906 :  None :  2.934 : False :  True :  Reals\n",
      "         25 :   2.92 :  None :  2.934 : False :  True :  Reals\n",
      "         26 :   2.93 :  None :  2.934 : False :  True :  Reals\n",
      "         27 :  2.951 :  None :  2.934 : False :  True :  Reals\n",
      "         28 :  2.986 :  None :  3.451 : False :  True :  Reals\n",
      "         29 :  3.047 :  None :  4.723 : False :  True :  Reals\n",
      "         30 :   3.11 :  None :  6.004 : False :  True :  Reals\n",
      "         31 :  3.213 :  None :  7.316 : False :  True :  Reals\n",
      "         32 :   3.32 :  None :  8.555 : False :  True :  Reals\n",
      "         33 :  3.482 :  None :   9.45 : False :  True :  Reals\n",
      "         34 :  3.637 :  None :  10.23 : False :  True :  Reals\n",
      "         35 :  3.803 :  None :  10.76 : False :  True :  Reals\n",
      "         36 :  3.984 :  None : 11.266 : False :  True :  Reals\n",
      "         37 :  4.145 :  None :  11.64 : False :  True :  Reals\n",
      "         38 :  4.336 :  None :  11.95 : False :  True :  Reals\n",
      "         39 :  4.484 :  None :  12.22 : False :  True :  Reals\n",
      "         40 :   4.67 :  None :  12.47 : False :  True :  Reals\n",
      "         41 :  4.832 :  None : 12.664 : False :  True :  Reals\n",
      "         42 :  4.992 :  None : 12.836 : False :  True :  Reals\n",
      "         43 :  5.215 :  None :  13.06 : False :  True :  Reals\n",
      "         44 :  5.477 :  None :  13.23 : False :  True :  Reals\n",
      "         45 :  5.688 :  None :  13.38 : False :  True :  Reals\n",
      "         46 :  5.945 :  None :  13.56 : False :  True :  Reals\n",
      "         47 :  6.285 :  None : 13.734 : False :  True :  Reals\n",
      "         48 :  6.535 :  None :  13.93 : False :  True :  Reals\n",
      "         49 :   6.74 :  None : 14.125 : False :  True :  Reals\n",
      "         50 :  6.965 :  None :  14.32 : False :  True :  Reals\n",
      "         51 :   7.27 :  None : 14.555 : False :  True :  Reals\n",
      "         52 :   7.59 :  None :  14.83 : False :  True :  Reals\n",
      "         53 :  7.844 :  None :  15.12 : False :  True :  Reals\n",
      "         54 :   8.09 :  None :  15.44 : False :  True :  Reals\n",
      "         55 :   8.31 :  None :  15.77 : False :  True :  Reals\n",
      "         56 :   8.57 :  None :  16.12 : False :  True :  Reals\n",
      "         57 :   8.88 :  None :   16.5 : False :  True :  Reals\n",
      "         58 :   9.19 :  None :  16.88 : False :  True :  Reals\n",
      "         59 :   9.58 :  None :   17.3 : False :  True :  Reals\n",
      "         60 :   9.95 :  None :  17.62 : False :  True :  Reals\n",
      "         61 :  10.33 :  None :  17.94 : False :  True :  Reals\n",
      "         62 :  10.76 :  None :  18.27 : False :  True :  Reals\n",
      "         63 :  11.16 :  None :   18.6 : False :  True :  Reals\n",
      "         64 :  11.56 :  None :  18.89 : False :  True :  Reals\n",
      "         65 :  12.04 :  None :  19.22 : False :  True :  Reals\n",
      "         66 :  12.45 :  None :   19.6 : False :  True :  Reals\n",
      "         67 :  12.87 :  None :  19.95 : False :  True :  Reals\n",
      "         68 :  13.22 :  None :  20.33 : False :  True :  Reals\n",
      "         69 :  13.56 :  None :  20.73 : False :  True :  Reals\n",
      "         70 : 13.875 :  None :  21.19 : False :  True :  Reals\n",
      "         71 :  14.15 :  None :  21.67 : False :  True :  Reals\n",
      "         72 :  14.47 :  None :  22.19 : False :  True :  Reals\n",
      "         73 : 14.766 :  None :  22.67 : False :  True :  Reals\n",
      "         74 :  15.07 :  None :  23.16 : False :  True :  Reals\n",
      "         75 : 15.375 :  None :  23.62 : False :  True :  Reals\n",
      "         76 :  15.59 :  None :  24.11 : False :  True :  Reals\n",
      "         77 :  15.81 :  None :  24.62 : False :  True :  Reals\n",
      "         78 :  15.98 :  None :  25.05 : False :  True :  Reals\n",
      "         79 :   16.1 :  None :  25.52 : False :  True :  Reals\n",
      "         80 :  16.23 :  None :  25.97 : False :  True :  Reals\n",
      "         81 :  16.33 :  None :  26.48 : False :  True :  Reals\n",
      "         82 :   16.4 :  None :   26.9 : False :  True :  Reals\n",
      "         83 :  16.48 :  None :  27.31 : False :  True :  Reals\n",
      "         84 :  16.55 :  None :  27.72 : False :  True :  Reals\n",
      "         85 :  16.61 :  None :  28.11 : False :  True :  Reals\n",
      "         86 :  16.66 :  None :  28.47 : False :  True :  Reals\n",
      "         87 :  16.69 :  None :  28.84 : False :  True :  Reals\n",
      "         88 :  16.73 :  None :   29.2 : False :  True :  Reals\n",
      "         89 :  16.77 :  None :  29.61 : False :  True :  Reals\n",
      "         90 :  16.83 :  None :   30.0 : False :  True :  Reals\n",
      "         91 :  16.84 :  None :   30.4 : False :  True :  Reals\n",
      "         92 :  16.88 :  None :  30.75 : False :  True :  Reals\n",
      "         93 :   16.9 :  None :  31.11 : False :  True :  Reals\n",
      "         94 :  16.94 :  None :  31.48 : False :  True :  Reals\n",
      "\n",
      "1 Objective Declarations\n",
      "    objective : Define objective function\n",
      "        Size=1, Index=None, Active=True\n",
      "        Key  : Active : Sense    : Expression\n",
      "        None :   True : minimize : energy_level[0] + energy_level[1] + energy_level[2] + energy_level[3] + energy_level[4] + energy_level[5] + energy_level[6] + energy_level[7] + energy_level[8] + energy_level[9] + energy_level[10] + energy_level[11] + energy_level[12] + energy_level[13] + energy_level[14] + energy_level[15] + energy_level[16] + energy_level[17] + energy_level[18] + energy_level[19] + energy_level[20] + energy_level[21] + energy_level[22] + energy_level[23] + energy_level[24] + energy_level[25] + energy_level[26] + energy_level[27] + energy_level[28] + energy_level[29] + energy_level[30] + energy_level[31] + energy_level[32] + energy_level[33] + energy_level[34] + energy_level[35] + energy_level[36] + energy_level[37] + energy_level[38] + energy_level[39] + energy_level[40] + energy_level[41] + energy_level[42] + energy_level[43] + energy_level[44] + energy_level[45] + energy_level[46] + energy_level[47] + energy_level[48] + energy_level[49] + energy_level[50] + energy_level[51] + energy_level[52] + energy_level[53] + energy_level[54] + energy_level[55] + energy_level[56] + energy_level[57] + energy_level[58] + energy_level[59] + energy_level[60] + energy_level[61] + energy_level[62] + energy_level[63] + energy_level[64] + energy_level[65] + energy_level[66] + energy_level[67] + energy_level[68] + energy_level[69] + energy_level[70] + energy_level[71] + energy_level[72] + energy_level[73] + energy_level[74] + energy_level[75] + energy_level[76] + energy_level[77] + energy_level[78] + energy_level[79] + energy_level[80] + energy_level[81] + energy_level[82] + energy_level[83] + energy_level[84] + energy_level[85] + energy_level[86] + energy_level[87] + energy_level[88] + energy_level[89] + energy_level[90] + energy_level[91] + energy_level[92] + energy_level[93] + energy_level[94]\n",
      "\n",
      "1 Constraint Declarations\n",
      "    charging : Size=94, Index=time_non_zero, Active=True\n",
      "        Key : Lower : Body                                                             : Upper : Active\n",
      "          1 :   0.0 :    energy_level[1] - (energy_level[0] + 0.225*charging_power[0]) :   0.0 :   True\n",
      "          2 :   0.0 :    energy_level[2] - (energy_level[1] + 0.225*charging_power[1]) :   0.0 :   True\n",
      "          3 :   0.0 :    energy_level[3] - (energy_level[2] + 0.225*charging_power[2]) :   0.0 :   True\n",
      "          4 :   0.0 :    energy_level[4] - (energy_level[3] + 0.225*charging_power[3]) :   0.0 :   True\n",
      "          5 :   0.0 :    energy_level[5] - (energy_level[4] + 0.225*charging_power[4]) :   0.0 :   True\n",
      "          6 :   0.0 :    energy_level[6] - (energy_level[5] + 0.225*charging_power[5]) :   0.0 :   True\n",
      "          7 :   0.0 :    energy_level[7] - (energy_level[6] + 0.225*charging_power[6]) :   0.0 :   True\n",
      "          8 :   0.0 :    energy_level[8] - (energy_level[7] + 0.225*charging_power[7]) :   0.0 :   True\n",
      "          9 :   0.0 :    energy_level[9] - (energy_level[8] + 0.225*charging_power[8]) :   0.0 :   True\n",
      "         10 :   0.0 :   energy_level[10] - (energy_level[9] + 0.225*charging_power[9]) :   0.0 :   True\n",
      "         11 :   0.0 : energy_level[11] - (energy_level[10] + 0.225*charging_power[10]) :   0.0 :   True\n",
      "         12 :   0.0 : energy_level[12] - (energy_level[11] + 0.225*charging_power[11]) :   0.0 :   True\n",
      "         13 :   0.0 : energy_level[13] - (energy_level[12] + 0.225*charging_power[12]) :   0.0 :   True\n",
      "         14 :   0.0 : energy_level[14] - (energy_level[13] + 0.225*charging_power[13]) :   0.0 :   True\n",
      "         15 :   0.0 : energy_level[15] - (energy_level[14] + 0.225*charging_power[14]) :   0.0 :   True\n",
      "         16 :   0.0 : energy_level[16] - (energy_level[15] + 0.225*charging_power[15]) :   0.0 :   True\n",
      "         17 :   0.0 : energy_level[17] - (energy_level[16] + 0.225*charging_power[16]) :   0.0 :   True\n",
      "         18 :   0.0 : energy_level[18] - (energy_level[17] + 0.225*charging_power[17]) :   0.0 :   True\n",
      "         19 :   0.0 : energy_level[19] - (energy_level[18] + 0.225*charging_power[18]) :   0.0 :   True\n",
      "         20 :   0.0 : energy_level[20] - (energy_level[19] + 0.225*charging_power[19]) :   0.0 :   True\n",
      "         21 :   0.0 : energy_level[21] - (energy_level[20] + 0.225*charging_power[20]) :   0.0 :   True\n",
      "         22 :   0.0 : energy_level[22] - (energy_level[21] + 0.225*charging_power[21]) :   0.0 :   True\n",
      "         23 :   0.0 : energy_level[23] - (energy_level[22] + 0.225*charging_power[22]) :   0.0 :   True\n",
      "         24 :   0.0 : energy_level[24] - (energy_level[23] + 0.225*charging_power[23]) :   0.0 :   True\n",
      "         25 :   0.0 : energy_level[25] - (energy_level[24] + 0.225*charging_power[24]) :   0.0 :   True\n",
      "         26 :   0.0 : energy_level[26] - (energy_level[25] + 0.225*charging_power[25]) :   0.0 :   True\n",
      "         27 :   0.0 : energy_level[27] - (energy_level[26] + 0.225*charging_power[26]) :   0.0 :   True\n",
      "         28 :   0.0 : energy_level[28] - (energy_level[27] + 0.225*charging_power[27]) :   0.0 :   True\n",
      "         29 :   0.0 : energy_level[29] - (energy_level[28] + 0.225*charging_power[28]) :   0.0 :   True\n",
      "         30 :   0.0 : energy_level[30] - (energy_level[29] + 0.225*charging_power[29]) :   0.0 :   True\n",
      "         31 :   0.0 : energy_level[31] - (energy_level[30] + 0.225*charging_power[30]) :   0.0 :   True\n",
      "         32 :   0.0 : energy_level[32] - (energy_level[31] + 0.225*charging_power[31]) :   0.0 :   True\n",
      "         33 :   0.0 : energy_level[33] - (energy_level[32] + 0.225*charging_power[32]) :   0.0 :   True\n",
      "         34 :   0.0 : energy_level[34] - (energy_level[33] + 0.225*charging_power[33]) :   0.0 :   True\n",
      "         35 :   0.0 : energy_level[35] - (energy_level[34] + 0.225*charging_power[34]) :   0.0 :   True\n",
      "         36 :   0.0 : energy_level[36] - (energy_level[35] + 0.225*charging_power[35]) :   0.0 :   True\n",
      "         37 :   0.0 : energy_level[37] - (energy_level[36] + 0.225*charging_power[36]) :   0.0 :   True\n",
      "         38 :   0.0 : energy_level[38] - (energy_level[37] + 0.225*charging_power[37]) :   0.0 :   True\n",
      "         39 :   0.0 : energy_level[39] - (energy_level[38] + 0.225*charging_power[38]) :   0.0 :   True\n",
      "         40 :   0.0 : energy_level[40] - (energy_level[39] + 0.225*charging_power[39]) :   0.0 :   True\n",
      "         41 :   0.0 : energy_level[41] - (energy_level[40] + 0.225*charging_power[40]) :   0.0 :   True\n",
      "         42 :   0.0 : energy_level[42] - (energy_level[41] + 0.225*charging_power[41]) :   0.0 :   True\n",
      "         43 :   0.0 : energy_level[43] - (energy_level[42] + 0.225*charging_power[42]) :   0.0 :   True\n",
      "         44 :   0.0 : energy_level[44] - (energy_level[43] + 0.225*charging_power[43]) :   0.0 :   True\n",
      "         45 :   0.0 : energy_level[45] - (energy_level[44] + 0.225*charging_power[44]) :   0.0 :   True\n",
      "         46 :   0.0 : energy_level[46] - (energy_level[45] + 0.225*charging_power[45]) :   0.0 :   True\n",
      "         47 :   0.0 : energy_level[47] - (energy_level[46] + 0.225*charging_power[46]) :   0.0 :   True\n",
      "         48 :   0.0 : energy_level[48] - (energy_level[47] + 0.225*charging_power[47]) :   0.0 :   True\n",
      "         49 :   0.0 : energy_level[49] - (energy_level[48] + 0.225*charging_power[48]) :   0.0 :   True\n",
      "         50 :   0.0 : energy_level[50] - (energy_level[49] + 0.225*charging_power[49]) :   0.0 :   True\n",
      "         51 :   0.0 : energy_level[51] - (energy_level[50] + 0.225*charging_power[50]) :   0.0 :   True\n",
      "         52 :   0.0 : energy_level[52] - (energy_level[51] + 0.225*charging_power[51]) :   0.0 :   True\n",
      "         53 :   0.0 : energy_level[53] - (energy_level[52] + 0.225*charging_power[52]) :   0.0 :   True\n",
      "         54 :   0.0 : energy_level[54] - (energy_level[53] + 0.225*charging_power[53]) :   0.0 :   True\n",
      "         55 :   0.0 : energy_level[55] - (energy_level[54] + 0.225*charging_power[54]) :   0.0 :   True\n",
      "         56 :   0.0 : energy_level[56] - (energy_level[55] + 0.225*charging_power[55]) :   0.0 :   True\n",
      "         57 :   0.0 : energy_level[57] - (energy_level[56] + 0.225*charging_power[56]) :   0.0 :   True\n",
      "         58 :   0.0 : energy_level[58] - (energy_level[57] + 0.225*charging_power[57]) :   0.0 :   True\n",
      "         59 :   0.0 : energy_level[59] - (energy_level[58] + 0.225*charging_power[58]) :   0.0 :   True\n",
      "         60 :   0.0 : energy_level[60] - (energy_level[59] + 0.225*charging_power[59]) :   0.0 :   True\n",
      "         61 :   0.0 : energy_level[61] - (energy_level[60] + 0.225*charging_power[60]) :   0.0 :   True\n",
      "         62 :   0.0 : energy_level[62] - (energy_level[61] + 0.225*charging_power[61]) :   0.0 :   True\n",
      "         63 :   0.0 : energy_level[63] - (energy_level[62] + 0.225*charging_power[62]) :   0.0 :   True\n",
      "         64 :   0.0 : energy_level[64] - (energy_level[63] + 0.225*charging_power[63]) :   0.0 :   True\n",
      "         65 :   0.0 : energy_level[65] - (energy_level[64] + 0.225*charging_power[64]) :   0.0 :   True\n",
      "         66 :   0.0 : energy_level[66] - (energy_level[65] + 0.225*charging_power[65]) :   0.0 :   True\n",
      "         67 :   0.0 : energy_level[67] - (energy_level[66] + 0.225*charging_power[66]) :   0.0 :   True\n",
      "         68 :   0.0 : energy_level[68] - (energy_level[67] + 0.225*charging_power[67]) :   0.0 :   True\n",
      "         69 :   0.0 : energy_level[69] - (energy_level[68] + 0.225*charging_power[68]) :   0.0 :   True\n",
      "         70 :   0.0 : energy_level[70] - (energy_level[69] + 0.225*charging_power[69]) :   0.0 :   True\n",
      "         71 :   0.0 : energy_level[71] - (energy_level[70] + 0.225*charging_power[70]) :   0.0 :   True\n",
      "         72 :   0.0 : energy_level[72] - (energy_level[71] + 0.225*charging_power[71]) :   0.0 :   True\n",
      "         73 :   0.0 : energy_level[73] - (energy_level[72] + 0.225*charging_power[72]) :   0.0 :   True\n",
      "         74 :   0.0 : energy_level[74] - (energy_level[73] + 0.225*charging_power[73]) :   0.0 :   True\n",
      "         75 :   0.0 : energy_level[75] - (energy_level[74] + 0.225*charging_power[74]) :   0.0 :   True\n",
      "         76 :   0.0 : energy_level[76] - (energy_level[75] + 0.225*charging_power[75]) :   0.0 :   True\n",
      "         77 :   0.0 : energy_level[77] - (energy_level[76] + 0.225*charging_power[76]) :   0.0 :   True\n",
      "         78 :   0.0 : energy_level[78] - (energy_level[77] + 0.225*charging_power[77]) :   0.0 :   True\n",
      "         79 :   0.0 : energy_level[79] - (energy_level[78] + 0.225*charging_power[78]) :   0.0 :   True\n",
      "         80 :   0.0 : energy_level[80] - (energy_level[79] + 0.225*charging_power[79]) :   0.0 :   True\n",
      "         81 :   0.0 : energy_level[81] - (energy_level[80] + 0.225*charging_power[80]) :   0.0 :   True\n",
      "         82 :   0.0 : energy_level[82] - (energy_level[81] + 0.225*charging_power[81]) :   0.0 :   True\n",
      "         83 :   0.0 : energy_level[83] - (energy_level[82] + 0.225*charging_power[82]) :   0.0 :   True\n",
      "         84 :   0.0 : energy_level[84] - (energy_level[83] + 0.225*charging_power[83]) :   0.0 :   True\n",
      "         85 :   0.0 : energy_level[85] - (energy_level[84] + 0.225*charging_power[84]) :   0.0 :   True\n",
      "         86 :   0.0 : energy_level[86] - (energy_level[85] + 0.225*charging_power[85]) :   0.0 :   True\n",
      "         87 :   0.0 : energy_level[87] - (energy_level[86] + 0.225*charging_power[86]) :   0.0 :   True\n",
      "         88 :   0.0 : energy_level[88] - (energy_level[87] + 0.225*charging_power[87]) :   0.0 :   True\n",
      "         89 :   0.0 : energy_level[89] - (energy_level[88] + 0.225*charging_power[88]) :   0.0 :   True\n",
      "         90 :   0.0 : energy_level[90] - (energy_level[89] + 0.225*charging_power[89]) :   0.0 :   True\n",
      "         91 :   0.0 : energy_level[91] - (energy_level[90] + 0.225*charging_power[90]) :   0.0 :   True\n",
      "         92 :   0.0 : energy_level[92] - (energy_level[91] + 0.225*charging_power[91]) :   0.0 :   True\n",
      "         93 :   0.0 : energy_level[93] - (energy_level[92] + 0.225*charging_power[92]) :   0.0 :   True\n",
      "         94 :   0.0 : energy_level[94] - (energy_level[93] + 0.225*charging_power[93]) :   0.0 :   True\n",
      "\n",
      "7 Declarations: time_set time_non_zero_index_0 time_non_zero charging_power energy_level charging objective\n"
     ]
    }
   ],
   "source": [
    "model_min_eb = opt.setup_model_bands(energy_bands, power_bands, mode=\"minimize\")"
   ]
  },
  {
   "cell_type": "code",
   "execution_count": 40,
   "id": "optional-archives",
   "metadata": {},
   "outputs": [
    {
     "name": "stdout",
     "output_type": "stream",
     "text": [
      "GLPSOL: GLPK LP/MIP Solver, v4.65\n",
      "Parameter(s) specified in the command line:\n",
      " --write C:\\Users\\ANYA~1.HEI\\AppData\\Local\\Temp\\tmpvn_amx7x.glpk.raw --wglp\n",
      " C:\\Users\\ANYA~1.HEI\\AppData\\Local\\Temp\\tmp0og9jdmd.glpk.glp --cpxlp C:\\Users\\ANYA~1.HEI\\AppData\\Local\\Temp\\tmpq9u8h2vj.pyomo.lp\n",
      "Reading problem data from 'C:\\Users\\ANYA~1.HEI\\AppData\\Local\\Temp\\tmpq9u8h2vj.pyomo.lp'...\n",
      "95 rows, 190 columns, 283 non-zeros\n",
      "860 lines were read\n",
      "Writing problem data to 'C:\\Users\\ANYA~1.HEI\\AppData\\Local\\Temp\\tmp0og9jdmd.glpk.glp'...\n",
      "856 lines were written\n",
      "glp_simplex: column 24: lb = 2.95117, ub = 2.93359; incorrect bounds\n",
      "If you need actual output for non-optimal solution, use --nopresol\n",
      "Time used:   0.0 secs\n",
      "Memory used: 0.1 Mb (91137 bytes)\n",
      "Writing basic solution to 'C:\\Users\\ANYA~1.HEI\\AppData\\Local\\Temp\\tmpvn_amx7x.glpk.raw'...\n",
      "294 lines were written\n",
      "Solver Status:  ok\n"
     ]
    }
   ],
   "source": [
    "opt.optimize_bands(model_min_eb, 'glpk', \"minimize\")"
   ]
  },
  {
   "cell_type": "code",
   "execution_count": 37,
   "id": "overall-asset",
   "metadata": {},
   "outputs": [
    {
     "data": {
      "text/plain": [
       "<AxesSubplot:>"
      ]
     },
     "execution_count": 37,
     "metadata": {},
     "output_type": "execute_result"
    },
    {
     "data": {
      "image/png": "[encoded data removed]",
      "text/plain": [
       "<Figure size 432x288 with 1 Axes>"
      ]
     },
     "metadata": {
      "needs_background": "light"
     },
     "output_type": "display_data"
    }
   ],
   "source": [
    "power_bands.plot()"
   ]
  },
  {
   "cell_type": "code",
   "execution_count": 38,
   "id": "compound-bernard",
   "metadata": {},
   "outputs": [
    {
     "data": {
      "text/plain": [
       "<AxesSubplot:>"
      ]
     },
     "execution_count": 38,
     "metadata": {},
     "output_type": "execute_result"
    },
    {
     "data": {
      "image/png": "[encoded data removed]",
      "text/plain": [
       "<Figure size 432x288 with 1 Axes>"
      ]
     },
     "metadata": {
      "needs_background": "light"
     },
     "output_type": "display_data"
    }
   ],
   "source": [
    "energy_bands.plot()"
   ]
  },
  {
   "cell_type": "code",
   "execution_count": 51,
   "id": "indirect-smoke",
   "metadata": {},
   "outputs": [],
   "source": [
    "bands = tmp_bands_lv_grid\n",
    "columns_upper = [col for col in bands.columns if 'upper' in col]\n",
    "columns_lower = [col for col in bands.columns if 'lower' in col]\n",
    "columns_power = [col for col in bands.columns if 'power' in col]\n",
    "columns_upper.sort()\n",
    "columns_lower.sort()\n",
    "columns_power.sort()"
   ]
  },
  {
   "cell_type": "code",
   "execution_count": 54,
   "id": "geographic-narrative",
   "metadata": {},
   "outputs": [
    {
     "name": "stdout",
     "output_type": "stream",
     "text": [
      "lower_9471133_126\n",
      "lower_9471133_15\n",
      "lower_9471133_161\n",
      "lower_9471133_188\n",
      "lower_9471133_39\n",
      "lower_9471133_98\n",
      "lower_9674130_1034\n",
      "lower_9674130_1063\n",
      "lower_9674130_1137\n",
      "lower_9674130_1156\n",
      "lower_9674130_1191\n",
      "lower_9674130_122\n",
      "lower_9674130_1220\n",
      "lower_9674130_136\n",
      "lower_9674130_1360\n",
      "lower_9674130_1404\n",
      "lower_9674130_1454\n",
      "lower_9674130_1507\n",
      "lower_9674130_156\n",
      "lower_9674130_157\n",
      "lower_9674130_165\n",
      "lower_9674130_1662\n",
      "lower_9674130_1664\n",
      "lower_9674130_1673\n",
      "lower_9674130_199\n",
      "lower_9674130_211\n",
      "lower_9674130_216\n",
      "lower_9674130_239\n",
      "lower_9674130_261\n",
      "lower_9674130_287\n",
      "lower_9674130_310\n",
      "lower_9674130_347\n",
      "lower_9674130_368\n",
      "lower_9674130_378\n",
      "lower_9674130_381\n",
      "lower_9674130_428\n",
      "lower_9674130_438\n",
      "lower_9674130_448\n",
      "lower_9674130_46\n",
      "lower_9674130_485\n",
      "lower_9674130_529\n",
      "lower_9674130_539\n",
      "lower_9674130_558\n",
      "lower_9674130_60\n",
      "lower_9674130_613\n",
      "lower_9674130_635\n",
      "lower_9674130_636\n",
      "lower_9674130_644\n",
      "lower_9674130_663\n",
      "lower_9674130_670\n",
      "lower_9674130_744\n",
      "lower_9674130_746\n",
      "lower_9674130_758\n",
      "lower_9674130_809\n",
      "lower_9674130_850\n",
      "lower_9674130_856\n",
      "lower_9674130_975\n",
      "lower_9674184_107\n",
      "lower_9674184_108\n",
      "lower_9674184_210\n",
      "lower_9674184_3\n",
      "lower_9674184_396\n",
      "lower_9674184_408\n",
      "lower_9674184_417\n",
      "lower_9674184_44\n",
      "lower_9674184_5\n",
      "lower_9674184_68\n",
      "lower_9674184_69\n",
      "lower_9674184_91\n",
      "lower_9674190_27\n",
      "lower_9674190_30\n",
      "lower_9674190_337\n",
      "lower_9674190_347\n",
      "lower_9674190_67\n",
      "lower_9674190_94\n",
      "lower_9674210_120\n",
      "lower_9674210_271\n",
      "lower_9674210_353\n",
      "lower_9674210_37\n",
      "lower_9674210_81\n"
     ]
    }
   ],
   "source": [
    "for i in range(len(columns_upper)):\n",
    "    if (tmp_bands_lv_grid[columns_lower[i]]>tmp_bands_lv_grid[columns_upper[i]]).any():\n",
    "        print(columns_lower[i])"
   ]
  },
  {
   "cell_type": "code",
   "execution_count": null,
   "id": "welsh-uruguay",
   "metadata": {},
   "outputs": [],
   "source": []
  }
 ],
 "metadata": {
  "kernelspec": {
   "display_name": "eDisGo_local",
   "language": "python",
   "name": "edisgo_local"
  },
  "language_info": {
   "codemirror_mode": {
    "name": "ipython",
    "version": 3
   },
   "file_extension": ".py",
   "mimetype": "text/x-python",
   "name": "python",
   "nbconvert_exporter": "python",
   "pygments_lexer": "ipython3",
   "version": "3.6.11"
  }
 },
 "nbformat": 4,
 "nbformat_minor": 5
}
