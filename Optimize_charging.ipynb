{
 "cells": [
  {
   "cell_type": "code",
   "execution_count": 1,
   "id": "pregnant-curtis",
   "metadata": {},
   "outputs": [],
   "source": [
    "%load_ext autoreload\n",
    "%autoreload 2"
   ]
  },
  {
   "cell_type": "code",
   "execution_count": 2,
   "id": "exceptional-chair",
   "metadata": {},
   "outputs": [
    {
     "name": "stderr",
     "output_type": "stream",
     "text": [
      "c:\\users\\anya.heider\\appdata\\local\\continuum\\miniconda3\\envs\\edisgo_env\\lib\\site-packages\\sqlalchemy\\ext\\declarative\\base.py:436: SAWarning: Ignoring declarative-like tuple value of attribute 'segment': possibly a copy-and-paste error with a comma accidentally placed at the end of the line?\n",
      "  \"accidentally placed at the end of the line?\" % k\n",
      "c:\\users\\anya.heider\\appdata\\local\\continuum\\miniconda3\\envs\\edisgo_env\\lib\\site-packages\\sqlalchemy\\ext\\declarative\\base.py:436: SAWarning: Ignoring declarative-like tuple value of attribute 'cable': possibly a copy-and-paste error with a comma accidentally placed at the end of the line?\n",
      "  \"accidentally placed at the end of the line?\" % k\n"
     ]
    }
   ],
   "source": [
    "import pyomo\n",
    "from edisgo.edisgo import import_edisgo_from_files\n",
    "import pyomo.environ as pm\n",
    "from pyomo.opt import SolverStatus, TerminationCondition\n",
    "import numpy as np\n",
    "import pandas as pd\n",
    "import matplotlib.pyplot as plt\n",
    "import seaborn as sns\n",
    "import calendar"
   ]
  },
  {
   "cell_type": "code",
   "execution_count": 3,
   "id": "pediatric-gnome",
   "metadata": {},
   "outputs": [],
   "source": [
    "from edisgo.flex_opt.charging_ev import get_ev_timeseries\n",
    "from pathlib import Path\n",
    "import edisgo.flex_opt.charging_ev as cEV\n",
    "from edisgo.flex_opt.optimization import setup_model, optimize, check_mapping"
   ]
  },
  {
   "cell_type": "code",
   "execution_count": 4,
   "id": "informative-survey",
   "metadata": {},
   "outputs": [],
   "source": [
    "import geopandas as gpd"
   ]
  },
  {
   "cell_type": "code",
   "execution_count": 5,
   "id": "steady-exhibit",
   "metadata": {},
   "outputs": [],
   "source": [
    "# 2D heatmap with monthly-hourly resolution\n",
    "def plot_hm_quarterly(df_power, df_energy, v_max=None, filename=None, title=None):\n",
    "\n",
    "    \n",
    "    fig, ax =  plt.subplots(1, 2, figsize=(10, 4))\n",
    "    plt.subplots_adjust(bottom=0.3)\n",
    "    v_min = 0\n",
    "\n",
    "    df = pd.DataFrame(df_power)\n",
    "\n",
    "    df['quarter_of_day'] = df.index.hour * 4 + np.floor(df.index.minute/15)\n",
    "    grouped = df.groupby([df.index.day, 'quarter_of_day']).sum().unstack()\n",
    "    grouped.columns = [\"{}:{}\".format(int(d/4), (d%4)*15) for d in grouped.columns.get_level_values(1)]\n",
    "    grouped.index = [calendar.day_name[m-1] for m in grouped.index]\n",
    "\n",
    "    g = sns.heatmap(grouped, cmap='RdYlGn_r', xticklabels=False, vmin=v_min, ax=ax[0],\n",
    "                    cbar=True)  \n",
    "    g.set_xticks(np.arange(0, 97, 24))\n",
    "    g.set_xticklabels(['00:00', '06:00', '12:00', '18:00', '00:00'])\n",
    "\n",
    "    ax[0].title.set_text('Shiftable Power [MW]')\n",
    "\n",
    "    df = pd.DataFrame(df_energy)\n",
    "\n",
    "    df['quarter_of_day'] = df.index.hour * 4 + np.floor(df.index.minute/15)\n",
    "    grouped = df.groupby([df.index.day, 'quarter_of_day']).sum().unstack()\n",
    "    grouped.columns = [\"{}:{}\".format(int(d/4), (d%4)*15) for d in grouped.columns.get_level_values(1)]\n",
    "    grouped.index = [calendar.day_name[m-1] for m in grouped.index]\n",
    "\n",
    "    g = sns.heatmap(grouped, cmap='RdYlGn_r', xticklabels=False, vmin=v_min, ax=ax[1],\n",
    "                    cbar=True)  \n",
    "    g.set_xticks(np.arange(0, 97, 24))\n",
    "    g.set_xticklabels(['00:00', '06:00', '12:00', '18:00', '00:00'])\n",
    "    g.set_yticks([])\n",
    "\n",
    "    ax[1].title.set_text('Shiftable Energy [MWh]')\n",
    "    if title:\n",
    "        fig.suptitle(title)\n",
    "        \n",
    "    plt.tight_layout()\n",
    "    \n",
    "    if filename:\n",
    "        plt.savefig(filename)\n",
    "    \n",
    "    plt.show()"
   ]
  },
  {
   "cell_type": "markdown",
   "id": "identical-driving",
   "metadata": {},
   "source": [
    "# Import and visualise flexibility bands"
   ]
  },
  {
   "cell_type": "code",
   "execution_count": 6,
   "id": "studied-empty",
   "metadata": {},
   "outputs": [
    {
     "data": {
      "text/html": [
       "<div>\n",
       "<style scoped>\n",
       "    .dataframe tbody tr th:only-of-type {\n",
       "        vertical-align: middle;\n",
       "    }\n",
       "\n",
       "    .dataframe tbody tr th {\n",
       "        vertical-align: top;\n",
       "    }\n",
       "\n",
       "    .dataframe thead th {\n",
       "        text-align: right;\n",
       "    }\n",
       "</style>\n",
       "<table border=\"1\" class=\"dataframe\">\n",
       "  <thead>\n",
       "    <tr style=\"text-align: right;\">\n",
       "      <th></th>\n",
       "      <th>upper_9471133_0</th>\n",
       "      <th>lower_9471133_0</th>\n",
       "      <th>power_9471133_0</th>\n",
       "      <th>upper_9674130_0</th>\n",
       "      <th>lower_9674130_0</th>\n",
       "      <th>power_9674130_0</th>\n",
       "      <th>upper_9674184_0</th>\n",
       "      <th>lower_9674184_0</th>\n",
       "      <th>power_9674184_0</th>\n",
       "      <th>upper_9674190_0</th>\n",
       "      <th>...</th>\n",
       "      <th>power_9674210_390</th>\n",
       "      <th>upper_9674190_413</th>\n",
       "      <th>lower_9674190_413</th>\n",
       "      <th>power_9674190_413</th>\n",
       "      <th>upper_9674210_482</th>\n",
       "      <th>lower_9674210_482</th>\n",
       "      <th>power_9674210_482</th>\n",
       "      <th>upper_9674210_486</th>\n",
       "      <th>lower_9674210_486</th>\n",
       "      <th>power_9674210_486</th>\n",
       "    </tr>\n",
       "  </thead>\n",
       "  <tbody>\n",
       "    <tr>\n",
       "      <th>2029-01-01 00:00:00</th>\n",
       "      <td>0.0</td>\n",
       "      <td>0.0</td>\n",
       "      <td>0.0</td>\n",
       "      <td>0.0</td>\n",
       "      <td>0.0</td>\n",
       "      <td>0.0</td>\n",
       "      <td>0.0</td>\n",
       "      <td>0.0</td>\n",
       "      <td>0.0</td>\n",
       "      <td>0.0</td>\n",
       "      <td>...</td>\n",
       "      <td>0.0</td>\n",
       "      <td>0.0</td>\n",
       "      <td>0.0</td>\n",
       "      <td>0.0</td>\n",
       "      <td>0.0</td>\n",
       "      <td>0.0</td>\n",
       "      <td>0.0</td>\n",
       "      <td>0.0</td>\n",
       "      <td>0.0</td>\n",
       "      <td>0.0</td>\n",
       "    </tr>\n",
       "    <tr>\n",
       "      <th>2029-01-01 00:15:00</th>\n",
       "      <td>0.0</td>\n",
       "      <td>0.0</td>\n",
       "      <td>0.0</td>\n",
       "      <td>0.0</td>\n",
       "      <td>0.0</td>\n",
       "      <td>0.0</td>\n",
       "      <td>0.0</td>\n",
       "      <td>0.0</td>\n",
       "      <td>0.0</td>\n",
       "      <td>0.0</td>\n",
       "      <td>...</td>\n",
       "      <td>0.0</td>\n",
       "      <td>0.0</td>\n",
       "      <td>0.0</td>\n",
       "      <td>0.0</td>\n",
       "      <td>0.0</td>\n",
       "      <td>0.0</td>\n",
       "      <td>0.0</td>\n",
       "      <td>0.0</td>\n",
       "      <td>0.0</td>\n",
       "      <td>0.0</td>\n",
       "    </tr>\n",
       "    <tr>\n",
       "      <th>2029-01-01 00:30:00</th>\n",
       "      <td>0.0</td>\n",
       "      <td>0.0</td>\n",
       "      <td>0.0</td>\n",
       "      <td>0.0</td>\n",
       "      <td>0.0</td>\n",
       "      <td>0.0</td>\n",
       "      <td>0.0</td>\n",
       "      <td>0.0</td>\n",
       "      <td>0.0</td>\n",
       "      <td>0.0</td>\n",
       "      <td>...</td>\n",
       "      <td>0.0</td>\n",
       "      <td>0.0</td>\n",
       "      <td>0.0</td>\n",
       "      <td>0.0</td>\n",
       "      <td>0.0</td>\n",
       "      <td>0.0</td>\n",
       "      <td>0.0</td>\n",
       "      <td>0.0</td>\n",
       "      <td>0.0</td>\n",
       "      <td>0.0</td>\n",
       "    </tr>\n",
       "    <tr>\n",
       "      <th>2029-01-01 00:45:00</th>\n",
       "      <td>0.0</td>\n",
       "      <td>0.0</td>\n",
       "      <td>0.0</td>\n",
       "      <td>0.0</td>\n",
       "      <td>0.0</td>\n",
       "      <td>0.0</td>\n",
       "      <td>0.0</td>\n",
       "      <td>0.0</td>\n",
       "      <td>0.0</td>\n",
       "      <td>0.0</td>\n",
       "      <td>...</td>\n",
       "      <td>0.0</td>\n",
       "      <td>0.0</td>\n",
       "      <td>0.0</td>\n",
       "      <td>0.0</td>\n",
       "      <td>0.0</td>\n",
       "      <td>0.0</td>\n",
       "      <td>0.0</td>\n",
       "      <td>0.0</td>\n",
       "      <td>0.0</td>\n",
       "      <td>0.0</td>\n",
       "    </tr>\n",
       "    <tr>\n",
       "      <th>2029-01-01 01:00:00</th>\n",
       "      <td>0.0</td>\n",
       "      <td>0.0</td>\n",
       "      <td>0.0</td>\n",
       "      <td>0.0</td>\n",
       "      <td>0.0</td>\n",
       "      <td>0.0</td>\n",
       "      <td>0.0</td>\n",
       "      <td>0.0</td>\n",
       "      <td>0.0</td>\n",
       "      <td>0.0</td>\n",
       "      <td>...</td>\n",
       "      <td>0.0</td>\n",
       "      <td>0.0</td>\n",
       "      <td>0.0</td>\n",
       "      <td>0.0</td>\n",
       "      <td>0.0</td>\n",
       "      <td>0.0</td>\n",
       "      <td>0.0</td>\n",
       "      <td>0.0</td>\n",
       "      <td>0.0</td>\n",
       "      <td>0.0</td>\n",
       "    </tr>\n",
       "  </tbody>\n",
       "</table>\n",
       "<p>5 rows × 7905 columns</p>\n",
       "</div>"
      ],
      "text/plain": [
       "                     upper_9471133_0  lower_9471133_0  power_9471133_0  \\\n",
       "2029-01-01 00:00:00              0.0              0.0              0.0   \n",
       "2029-01-01 00:15:00              0.0              0.0              0.0   \n",
       "2029-01-01 00:30:00              0.0              0.0              0.0   \n",
       "2029-01-01 00:45:00              0.0              0.0              0.0   \n",
       "2029-01-01 01:00:00              0.0              0.0              0.0   \n",
       "\n",
       "                     upper_9674130_0  lower_9674130_0  power_9674130_0  \\\n",
       "2029-01-01 00:00:00              0.0              0.0              0.0   \n",
       "2029-01-01 00:15:00              0.0              0.0              0.0   \n",
       "2029-01-01 00:30:00              0.0              0.0              0.0   \n",
       "2029-01-01 00:45:00              0.0              0.0              0.0   \n",
       "2029-01-01 01:00:00              0.0              0.0              0.0   \n",
       "\n",
       "                     upper_9674184_0  lower_9674184_0  power_9674184_0  \\\n",
       "2029-01-01 00:00:00              0.0              0.0              0.0   \n",
       "2029-01-01 00:15:00              0.0              0.0              0.0   \n",
       "2029-01-01 00:30:00              0.0              0.0              0.0   \n",
       "2029-01-01 00:45:00              0.0              0.0              0.0   \n",
       "2029-01-01 01:00:00              0.0              0.0              0.0   \n",
       "\n",
       "                     upper_9674190_0  ...  power_9674210_390  \\\n",
       "2029-01-01 00:00:00              0.0  ...                0.0   \n",
       "2029-01-01 00:15:00              0.0  ...                0.0   \n",
       "2029-01-01 00:30:00              0.0  ...                0.0   \n",
       "2029-01-01 00:45:00              0.0  ...                0.0   \n",
       "2029-01-01 01:00:00              0.0  ...                0.0   \n",
       "\n",
       "                     upper_9674190_413  lower_9674190_413  power_9674190_413  \\\n",
       "2029-01-01 00:00:00                0.0                0.0                0.0   \n",
       "2029-01-01 00:15:00                0.0                0.0                0.0   \n",
       "2029-01-01 00:30:00                0.0                0.0                0.0   \n",
       "2029-01-01 00:45:00                0.0                0.0                0.0   \n",
       "2029-01-01 01:00:00                0.0                0.0                0.0   \n",
       "\n",
       "                     upper_9674210_482  lower_9674210_482  power_9674210_482  \\\n",
       "2029-01-01 00:00:00                0.0                0.0                0.0   \n",
       "2029-01-01 00:15:00                0.0                0.0                0.0   \n",
       "2029-01-01 00:30:00                0.0                0.0                0.0   \n",
       "2029-01-01 00:45:00                0.0                0.0                0.0   \n",
       "2029-01-01 01:00:00                0.0                0.0                0.0   \n",
       "\n",
       "                     upper_9674210_486  lower_9674210_486  power_9674210_486  \n",
       "2029-01-01 00:00:00                0.0                0.0                0.0  \n",
       "2029-01-01 00:15:00                0.0                0.0                0.0  \n",
       "2029-01-01 00:30:00                0.0                0.0                0.0  \n",
       "2029-01-01 00:45:00                0.0                0.0                0.0  \n",
       "2029-01-01 01:00:00                0.0                0.0                0.0  \n",
       "\n",
       "[5 rows x 7905 columns]"
      ]
     },
     "execution_count": 6,
     "metadata": {},
     "output_type": "execute_result"
    }
   ],
   "source": [
    "use_case = 'home'\n",
    "flexibility_bands = pd.read_csv('grid_data/ev_flexibility_bands_{}.csv'.format(use_case), index_col=0)\n",
    "timeindex = pd.date_range('2029-01-01', '2029-01-08', freq='15min')\n",
    "bands = flexibility_bands.iloc[0:673].set_index(timeindex)\n",
    "bands.head()"
   ]
  },
  {
   "cell_type": "code",
   "execution_count": 23,
   "id": "alive-ribbon",
   "metadata": {},
   "outputs": [
    {
     "name": "stderr",
     "output_type": "stream",
     "text": [
      "C:\\Users\\Anya.Heider\\AppData\\Roaming\\Python\\Python36\\site-packages\\pandas\\core\\frame.py:4015: SettingWithCopyWarning: \n",
      "A value is trying to be set on a copy of a slice from a DataFrame\n",
      "\n",
      "See the caveats in the documentation: http://pandas.pydata.org/pandas-docs/stable/indexing.html#indexing-view-versus-copy\n",
      "  return super(DataFrame, self).rename(**kwargs)\n"
     ]
    },
    {
     "data": {
      "image/png": "[encoded data removed]",
      "text/plain": [
       "<Figure size 432x288 with 1 Axes>"
      ]
     },
     "metadata": {
      "needs_background": "light"
     },
     "output_type": "display_data"
    }
   ],
   "source": [
    "tmp_bands = bands.iloc[:, 0:3]\n",
    "tmp_bands.rename(columns={col:col.split('_')[0] for col in tmp_bands.columns}, inplace=True)\n",
    "ax = tmp_bands.plot(legend=False)\n",
    "plt.ylabel('Energy [kWh] / Power[kW]')\n",
    "plt.title('Single Charging Point')\n",
    "plt.tight_layout()\n",
    "plt.savefig('plots/energy_bands_single_cp.pdf')"
   ]
  },
  {
   "cell_type": "code",
   "execution_count": 13,
   "id": "relevant-airline",
   "metadata": {},
   "outputs": [],
   "source": [
    "columns_upper = [col for col in bands.columns if 'upper' in col]\n",
    "columns_lower = [col for col in bands.columns if 'lower' in col]\n",
    "columns_power = [col for col in bands.columns if 'power' in col]"
   ]
  },
  {
   "cell_type": "code",
   "execution_count": 24,
   "id": "explicit-graph",
   "metadata": {},
   "outputs": [
    {
     "data": {
      "image/png": "[encoded data removed]",
      "text/plain": [
       "<Figure size 432x288 with 1 Axes>"
      ]
     },
     "metadata": {
      "needs_background": "light"
     },
     "output_type": "display_data"
    }
   ],
   "source": [
    "aggregated_bands = pd.DataFrame()\n",
    "aggregated_bands['upper'] = bands[columns_upper].sum(axis=1)\n",
    "aggregated_bands['lower'] = bands[columns_lower].sum(axis=1)\n",
    "aggregated_bands['power'] = bands[columns_power].sum(axis=1)\n",
    "(aggregated_bands/1e3).plot()\n",
    "plt.ylabel('Energy [MWh] / Power[MW]')\n",
    "plt.title('Aggregated Grid')\n",
    "plt.tight_layout()\n",
    "plt.savefig('plots/energy_bands_grid.pdf')"
   ]
  },
  {
   "cell_type": "code",
   "execution_count": 14,
   "id": "elementary-google",
   "metadata": {},
   "outputs": [
    {
     "data": {
      "image/png": "[encoded data removed]",
      "text/plain": [
       "<Figure size 720x288 with 4 Axes>"
      ]
     },
     "metadata": {
      "needs_background": "light"
     },
     "output_type": "display_data"
    }
   ],
   "source": [
    "df_power = aggregated_bands['power'].iloc[:-1]/1e3\n",
    "df_energy = (aggregated_bands['upper'].iloc[:-1] - aggregated_bands['lower'].iloc[:-1])/1e3\n",
    "filename = 'plots/{}.pdf'.format(use_case)\n",
    "plot_hm_quarterly(df_power, df_energy, title=use_case.capitalize())"
   ]
  },
  {
   "cell_type": "code",
   "execution_count": 15,
   "id": "destroyed-identity",
   "metadata": {},
   "outputs": [
    {
     "data": {
      "text/html": [
       "<div>\n",
       "<style scoped>\n",
       "    .dataframe tbody tr th:only-of-type {\n",
       "        vertical-align: middle;\n",
       "    }\n",
       "\n",
       "    .dataframe tbody tr th {\n",
       "        vertical-align: top;\n",
       "    }\n",
       "\n",
       "    .dataframe thead th {\n",
       "        text-align: right;\n",
       "    }\n",
       "</style>\n",
       "<table border=\"1\" class=\"dataframe\">\n",
       "  <thead>\n",
       "    <tr style=\"text-align: right;\">\n",
       "      <th></th>\n",
       "      <th>upper_8325011_0</th>\n",
       "      <th>lower_8325011_0</th>\n",
       "      <th>power_8325011_0</th>\n",
       "      <th>upper_8325049_0</th>\n",
       "      <th>lower_8325049_0</th>\n",
       "      <th>power_8325049_0</th>\n",
       "      <th>upper_8325060_0</th>\n",
       "      <th>lower_8325060_0</th>\n",
       "      <th>power_8325060_0</th>\n",
       "      <th>upper_8325069_0</th>\n",
       "      <th>...</th>\n",
       "      <th>power_8325049_1124</th>\n",
       "      <th>upper_8325049_1126</th>\n",
       "      <th>lower_8325049_1126</th>\n",
       "      <th>power_8325049_1126</th>\n",
       "      <th>upper_8325049_1128</th>\n",
       "      <th>lower_8325049_1128</th>\n",
       "      <th>power_8325049_1128</th>\n",
       "      <th>upper_8325049_1130</th>\n",
       "      <th>lower_8325049_1130</th>\n",
       "      <th>power_8325049_1130</th>\n",
       "    </tr>\n",
       "  </thead>\n",
       "  <tbody>\n",
       "    <tr>\n",
       "      <th>2029-01-01 00:00:00</th>\n",
       "      <td>0.0</td>\n",
       "      <td>0.0</td>\n",
       "      <td>0.0</td>\n",
       "      <td>0.0</td>\n",
       "      <td>0.0</td>\n",
       "      <td>0.0</td>\n",
       "      <td>14.85</td>\n",
       "      <td>12.375</td>\n",
       "      <td>11.0</td>\n",
       "      <td>0.0</td>\n",
       "      <td>...</td>\n",
       "      <td>0.0</td>\n",
       "      <td>0.0</td>\n",
       "      <td>0.0</td>\n",
       "      <td>0.0</td>\n",
       "      <td>0.0</td>\n",
       "      <td>0.0</td>\n",
       "      <td>0.0</td>\n",
       "      <td>0.0</td>\n",
       "      <td>0.0</td>\n",
       "      <td>0.0</td>\n",
       "    </tr>\n",
       "    <tr>\n",
       "      <th>2029-01-01 00:15:00</th>\n",
       "      <td>0.0</td>\n",
       "      <td>0.0</td>\n",
       "      <td>0.0</td>\n",
       "      <td>0.0</td>\n",
       "      <td>0.0</td>\n",
       "      <td>0.0</td>\n",
       "      <td>14.85</td>\n",
       "      <td>14.850</td>\n",
       "      <td>11.0</td>\n",
       "      <td>0.0</td>\n",
       "      <td>...</td>\n",
       "      <td>0.0</td>\n",
       "      <td>0.0</td>\n",
       "      <td>0.0</td>\n",
       "      <td>0.0</td>\n",
       "      <td>0.0</td>\n",
       "      <td>0.0</td>\n",
       "      <td>0.0</td>\n",
       "      <td>0.0</td>\n",
       "      <td>0.0</td>\n",
       "      <td>0.0</td>\n",
       "    </tr>\n",
       "    <tr>\n",
       "      <th>2029-01-01 00:30:00</th>\n",
       "      <td>0.0</td>\n",
       "      <td>0.0</td>\n",
       "      <td>0.0</td>\n",
       "      <td>0.0</td>\n",
       "      <td>0.0</td>\n",
       "      <td>0.0</td>\n",
       "      <td>14.85</td>\n",
       "      <td>14.850</td>\n",
       "      <td>0.0</td>\n",
       "      <td>0.0</td>\n",
       "      <td>...</td>\n",
       "      <td>0.0</td>\n",
       "      <td>0.0</td>\n",
       "      <td>0.0</td>\n",
       "      <td>0.0</td>\n",
       "      <td>0.0</td>\n",
       "      <td>0.0</td>\n",
       "      <td>0.0</td>\n",
       "      <td>0.0</td>\n",
       "      <td>0.0</td>\n",
       "      <td>0.0</td>\n",
       "    </tr>\n",
       "    <tr>\n",
       "      <th>2029-01-01 00:45:00</th>\n",
       "      <td>0.0</td>\n",
       "      <td>0.0</td>\n",
       "      <td>0.0</td>\n",
       "      <td>0.0</td>\n",
       "      <td>0.0</td>\n",
       "      <td>0.0</td>\n",
       "      <td>14.85</td>\n",
       "      <td>14.850</td>\n",
       "      <td>0.0</td>\n",
       "      <td>0.0</td>\n",
       "      <td>...</td>\n",
       "      <td>0.0</td>\n",
       "      <td>0.0</td>\n",
       "      <td>0.0</td>\n",
       "      <td>0.0</td>\n",
       "      <td>0.0</td>\n",
       "      <td>0.0</td>\n",
       "      <td>0.0</td>\n",
       "      <td>0.0</td>\n",
       "      <td>0.0</td>\n",
       "      <td>0.0</td>\n",
       "    </tr>\n",
       "    <tr>\n",
       "      <th>2029-01-01 01:00:00</th>\n",
       "      <td>0.0</td>\n",
       "      <td>0.0</td>\n",
       "      <td>0.0</td>\n",
       "      <td>0.0</td>\n",
       "      <td>0.0</td>\n",
       "      <td>0.0</td>\n",
       "      <td>14.85</td>\n",
       "      <td>14.850</td>\n",
       "      <td>0.0</td>\n",
       "      <td>0.0</td>\n",
       "      <td>...</td>\n",
       "      <td>0.0</td>\n",
       "      <td>0.0</td>\n",
       "      <td>0.0</td>\n",
       "      <td>0.0</td>\n",
       "      <td>0.0</td>\n",
       "      <td>0.0</td>\n",
       "      <td>0.0</td>\n",
       "      <td>0.0</td>\n",
       "      <td>0.0</td>\n",
       "      <td>0.0</td>\n",
       "    </tr>\n",
       "  </tbody>\n",
       "</table>\n",
       "<p>5 rows × 4044 columns</p>\n",
       "</div>"
      ],
      "text/plain": [
       "                     upper_8325011_0  lower_8325011_0  power_8325011_0  \\\n",
       "2029-01-01 00:00:00              0.0              0.0              0.0   \n",
       "2029-01-01 00:15:00              0.0              0.0              0.0   \n",
       "2029-01-01 00:30:00              0.0              0.0              0.0   \n",
       "2029-01-01 00:45:00              0.0              0.0              0.0   \n",
       "2029-01-01 01:00:00              0.0              0.0              0.0   \n",
       "\n",
       "                     upper_8325049_0  lower_8325049_0  power_8325049_0  \\\n",
       "2029-01-01 00:00:00              0.0              0.0              0.0   \n",
       "2029-01-01 00:15:00              0.0              0.0              0.0   \n",
       "2029-01-01 00:30:00              0.0              0.0              0.0   \n",
       "2029-01-01 00:45:00              0.0              0.0              0.0   \n",
       "2029-01-01 01:00:00              0.0              0.0              0.0   \n",
       "\n",
       "                     upper_8325060_0  lower_8325060_0  power_8325060_0  \\\n",
       "2029-01-01 00:00:00            14.85           12.375             11.0   \n",
       "2029-01-01 00:15:00            14.85           14.850             11.0   \n",
       "2029-01-01 00:30:00            14.85           14.850              0.0   \n",
       "2029-01-01 00:45:00            14.85           14.850              0.0   \n",
       "2029-01-01 01:00:00            14.85           14.850              0.0   \n",
       "\n",
       "                     upper_8325069_0  ...  power_8325049_1124  \\\n",
       "2029-01-01 00:00:00              0.0  ...                 0.0   \n",
       "2029-01-01 00:15:00              0.0  ...                 0.0   \n",
       "2029-01-01 00:30:00              0.0  ...                 0.0   \n",
       "2029-01-01 00:45:00              0.0  ...                 0.0   \n",
       "2029-01-01 01:00:00              0.0  ...                 0.0   \n",
       "\n",
       "                     upper_8325049_1126  lower_8325049_1126  \\\n",
       "2029-01-01 00:00:00                 0.0                 0.0   \n",
       "2029-01-01 00:15:00                 0.0                 0.0   \n",
       "2029-01-01 00:30:00                 0.0                 0.0   \n",
       "2029-01-01 00:45:00                 0.0                 0.0   \n",
       "2029-01-01 01:00:00                 0.0                 0.0   \n",
       "\n",
       "                     power_8325049_1126  upper_8325049_1128  \\\n",
       "2029-01-01 00:00:00                 0.0                 0.0   \n",
       "2029-01-01 00:15:00                 0.0                 0.0   \n",
       "2029-01-01 00:30:00                 0.0                 0.0   \n",
       "2029-01-01 00:45:00                 0.0                 0.0   \n",
       "2029-01-01 01:00:00                 0.0                 0.0   \n",
       "\n",
       "                     lower_8325049_1128  power_8325049_1128  \\\n",
       "2029-01-01 00:00:00                 0.0                 0.0   \n",
       "2029-01-01 00:15:00                 0.0                 0.0   \n",
       "2029-01-01 00:30:00                 0.0                 0.0   \n",
       "2029-01-01 00:45:00                 0.0                 0.0   \n",
       "2029-01-01 01:00:00                 0.0                 0.0   \n",
       "\n",
       "                     upper_8325049_1130  lower_8325049_1130  \\\n",
       "2029-01-01 00:00:00                 0.0                 0.0   \n",
       "2029-01-01 00:15:00                 0.0                 0.0   \n",
       "2029-01-01 00:30:00                 0.0                 0.0   \n",
       "2029-01-01 00:45:00                 0.0                 0.0   \n",
       "2029-01-01 01:00:00                 0.0                 0.0   \n",
       "\n",
       "                     power_8325049_1130  \n",
       "2029-01-01 00:00:00                 0.0  \n",
       "2029-01-01 00:15:00                 0.0  \n",
       "2029-01-01 00:30:00                 0.0  \n",
       "2029-01-01 00:45:00                 0.0  \n",
       "2029-01-01 01:00:00                 0.0  \n",
       "\n",
       "[5 rows x 4044 columns]"
      ]
     },
     "execution_count": 15,
     "metadata": {},
     "output_type": "execute_result"
    }
   ],
   "source": [
    "use_case = 'work'\n",
    "flexibility_bands = pd.read_csv('grid_data/ev_flexibility_bands_{}.csv'.format(use_case), index_col=0)\n",
    "timeindex = pd.date_range('2029-01-01', '2029-01-08', freq='15min')\n",
    "bands = flexibility_bands.iloc[0:673].set_index(timeindex)\n",
    "bands.head()"
   ]
  },
  {
   "cell_type": "code",
   "execution_count": 16,
   "id": "ready-converter",
   "metadata": {},
   "outputs": [],
   "source": [
    "columns_upper = [col for col in bands.columns if 'upper' in col]\n",
    "columns_lower = [col for col in bands.columns if 'lower' in col]\n",
    "columns_power = [col for col in bands.columns if 'power' in col]"
   ]
  },
  {
   "cell_type": "code",
   "execution_count": 17,
   "id": "cross-screw",
   "metadata": {},
   "outputs": [
    {
     "data": {
      "text/plain": [
       "<AxesSubplot:>"
      ]
     },
     "execution_count": 17,
     "metadata": {},
     "output_type": "execute_result"
    },
    {
     "data": {
      "image/png": "[encoded data removed]",
      "text/plain": [
       "<Figure size 432x288 with 1 Axes>"
      ]
     },
     "metadata": {
      "needs_background": "light"
     },
     "output_type": "display_data"
    }
   ],
   "source": [
    "aggregated_bands = pd.DataFrame()\n",
    "aggregated_bands['upper'] = bands[columns_upper].sum(axis=1)\n",
    "aggregated_bands['lower'] = bands[columns_lower].sum(axis=1)\n",
    "aggregated_bands['power'] = bands[columns_power].sum(axis=1)\n",
    "aggregated_bands.plot()"
   ]
  },
  {
   "cell_type": "code",
   "execution_count": 18,
   "id": "adjacent-catalyst",
   "metadata": {},
   "outputs": [
    {
     "data": {
      "image/png": "[encoded data removed]",
      "text/plain": [
       "<Figure size 720x288 with 4 Axes>"
      ]
     },
     "metadata": {
      "needs_background": "light"
     },
     "output_type": "display_data"
    }
   ],
   "source": [
    "df_power = aggregated_bands['power'].iloc[:-1]/1e3\n",
    "df_energy = (aggregated_bands['upper'].iloc[:-1] - aggregated_bands['lower'].iloc[:-1])/1e3\n",
    "plot_hm_quarterly(df_power, df_energy, title=use_case.capitalize())"
   ]
  },
  {
   "cell_type": "markdown",
   "id": "reserved-burton",
   "metadata": {},
   "source": [
    "# Optimise operation of flexibility options"
   ]
  },
  {
   "cell_type": "code",
   "execution_count": 5,
   "id": "color-diameter",
   "metadata": {},
   "outputs": [],
   "source": [
    "grid_id = 1056"
   ]
  },
  {
   "cell_type": "code",
   "execution_count": 6,
   "id": "lonely-blond",
   "metadata": {},
   "outputs": [],
   "source": [
    "data_dir = Path( # TODO: set dir\n",
    "    r\"\\\\192.168.10.221\\Daten_flexibel_02\\simbev_results\\Electrification_2050_simbev_run\\cp_standing_times_mapping\",\n",
    "    # r\"/home/local/RL-INSTITUT/kilian.helfenbein/RLI_simulation_results/simbev_results\",\n",
    ")\n",
    "edisgo_dir = r'\\\\192.168.10.221\\Daten_flexibel_02\\simbev_results\\eDisGo_object_files_full\\Electrification_2050\\1056\\reduced'"
   ]
  },
  {
   "cell_type": "code",
   "execution_count": 7,
   "id": "stuck-telescope",
   "metadata": {},
   "outputs": [],
   "source": [
    "edisgo_obj = import_edisgo_from_files(edisgo_dir, import_timeseries=True)"
   ]
  },
  {
   "cell_type": "code",
   "execution_count": 10,
   "id": "equipped-weekly",
   "metadata": {},
   "outputs": [
    {
     "name": "stderr",
     "output_type": "stream",
     "text": [
      "c:\\users\\anya.heider\\appdata\\local\\continuum\\miniconda3\\envs\\edisgo_env\\lib\\site-packages\\ipykernel_launcher.py:14: FutureWarning: Sorting because non-concatenation axis is not aligned. A future version\n",
      "of pandas will change to not sort by default.\n",
      "\n",
      "To accept the future behavior, pass 'sort=False'.\n",
      "\n",
      "To retain the current behavior and silence the warning, pass 'sort=True'.\n",
      "\n",
      "  \n"
     ]
    }
   ],
   "source": [
    "flexibility_bands_home = \\\n",
    "    pd.read_csv('grid_data/ev_flexibility_bands_home.csv', index_col=0)\n",
    "flexibility_bands_work = \\\n",
    "    pd.read_csv('grid_data/ev_flexibility_bands_work.csv', index_col=0)\n",
    "flexibility_bands = pd.concat([flexibility_bands_work, flexibility_bands_home],\n",
    "                              axis=1)\n",
    "cp_mapping_dir = r'\\\\192.168.10.221\\Daten_flexibel_02\\simbev_results\\Electrification_2050_simbev_run\\eDisGo_charging_time_series\\{}'.format(grid_id)\n",
    "mapping_home = \\\n",
    "    gpd.read_file(cp_mapping_dir + '\\cp_data_home_within_grid_{}.geojson'.\n",
    "                  format(grid_id)).set_index('edisgo_id')\n",
    "mapping_work = \\\n",
    "    gpd.read_file(cp_mapping_dir + '\\cp_data_work_within_grid_{}.geojson'.\n",
    "                  format(grid_id)).set_index('edisgo_id')\n",
    "mapping = pd.concat([mapping_work, mapping_home])"
   ]
  },
  {
   "cell_type": "code",
   "execution_count": 11,
   "id": "lined-reality",
   "metadata": {},
   "outputs": [
    {
     "data": {
      "text/plain": [
       "(3461, 10383)"
      ]
     },
     "execution_count": 11,
     "metadata": {},
     "output_type": "execute_result"
    }
   ],
   "source": [
    "len(mapping), len(flexibility_bands.columns)"
   ]
  },
  {
   "cell_type": "code",
   "execution_count": 13,
   "id": "rough-speaking",
   "metadata": {},
   "outputs": [],
   "source": [
    "check_mapping(mapping, edisgo_obj, flexibility_bands)"
   ]
  },
  {
   "cell_type": "code",
   "execution_count": 16,
   "id": "appreciated-conflict",
   "metadata": {},
   "outputs": [],
   "source": [
    "downstream_node_matrix = pd.read_csv('grid_data/downstream_node_matrix.csv', index_col=0)"
   ]
  },
  {
   "cell_type": "code",
   "execution_count": 17,
   "id": "compatible-heating",
   "metadata": {},
   "outputs": [
    {
     "ename": "MemoryError",
     "evalue": "Unable to allocate 3.43 GiB for an array with shape (13148, 35040) and data type object",
     "output_type": "error",
     "traceback": [
      "\u001b[1;31m---------------------------------------------------------------------------\u001b[0m",
      "\u001b[1;31mMemoryError\u001b[0m                               Traceback (most recent call last)",
      "\u001b[1;32m<ipython-input-17-6aecec379d45>\u001b[0m in \u001b[0;36m<module>\u001b[1;34m\u001b[0m\n\u001b[0;32m      2\u001b[0m \u001b[0mflexibility_bands\u001b[0m \u001b[1;33m=\u001b[0m \u001b[0mflexibility_bands\u001b[0m\u001b[1;33m.\u001b[0m\u001b[0miloc\u001b[0m\u001b[1;33m[\u001b[0m\u001b[1;33m:\u001b[0m\u001b[0mlen\u001b[0m\u001b[1;33m(\u001b[0m\u001b[0mtimesteps\u001b[0m\u001b[1;33m)\u001b[0m\u001b[1;33m]\u001b[0m\u001b[1;33m.\u001b[0m\u001b[0mset_index\u001b[0m\u001b[1;33m(\u001b[0m\u001b[0mtimesteps\u001b[0m\u001b[1;33m)\u001b[0m\u001b[1;33m\u001b[0m\u001b[1;33m\u001b[0m\u001b[0m\n\u001b[0;32m      3\u001b[0m model = setup_model(edisgo_obj, downstream_node_matrix, timesteps, optimize_storage=False,\n\u001b[1;32m----> 4\u001b[1;33m                         mapping_cp=mapping, energy_band_charging_points=flexibility_bands)\n\u001b[0m",
      "\u001b[1;32m~\\DistFlex\\eDisGo_mirror\\edisgo\\flex_opt\\optimization.py\u001b[0m in \u001b[0;36msetup_model\u001b[1;34m(edisgo, downstream_node_matrix, timesteps, optimize_storage, optimize_ev_charging, **kwargs)\u001b[0m\n\u001b[0;32m     65\u001b[0m     nodal_active_power, nodal_reactive_power = get_nodal_residual_load(\n\u001b[0;32m     66\u001b[0m         \u001b[0medisgo\u001b[0m\u001b[1;33m,\u001b[0m \u001b[0mconsidered_storage\u001b[0m\u001b[1;33m=\u001b[0m\u001b[0minflexible_storage_units\u001b[0m\u001b[1;33m,\u001b[0m\u001b[1;33m\u001b[0m\u001b[1;33m\u001b[0m\u001b[0m\n\u001b[1;32m---> 67\u001b[1;33m         considered_charging_points=inflexible_charging_points)\n\u001b[0m\u001b[0;32m     68\u001b[0m     \u001b[0mmodel\u001b[0m\u001b[1;33m.\u001b[0m\u001b[0mnodal_active_power\u001b[0m \u001b[1;33m=\u001b[0m \u001b[0mnodal_active_power\u001b[0m\u001b[1;33m.\u001b[0m\u001b[0mT\u001b[0m\u001b[1;33m\u001b[0m\u001b[1;33m\u001b[0m\u001b[0m\n\u001b[0;32m     69\u001b[0m     \u001b[0mmodel\u001b[0m\u001b[1;33m.\u001b[0m\u001b[0mnodal_reactive_power\u001b[0m \u001b[1;33m=\u001b[0m \u001b[0mnodal_reactive_power\u001b[0m\u001b[1;33m.\u001b[0m\u001b[0mT\u001b[0m\u001b[1;33m\u001b[0m\u001b[1;33m\u001b[0m\u001b[0m\n",
      "\u001b[1;32m~\\DistFlex\\eDisGo_mirror\\edisgo\\tools\\tools.py\u001b[0m in \u001b[0;36mget_nodal_residual_load\u001b[1;34m(edisgo, **kwargs)\u001b[0m\n\u001b[0;32m    554\u001b[0m     \u001b[0mconsidered_charging_points\u001b[0m \u001b[1;33m=\u001b[0m \u001b[0mkwargs\u001b[0m\u001b[1;33m.\u001b[0m\u001b[0mget\u001b[0m\u001b[1;33m(\u001b[0m\u001b[1;34m'considered_charging_points'\u001b[0m\u001b[1;33m,\u001b[0m \u001b[1;32mNone\u001b[0m\u001b[1;33m)\u001b[0m\u001b[1;33m\u001b[0m\u001b[1;33m\u001b[0m\u001b[0m\n\u001b[0;32m    555\u001b[0m     \u001b[0mnodal_active_load\u001b[0m\u001b[1;33m,\u001b[0m \u001b[0mnodal_reactive_load\u001b[0m \u001b[1;33m=\u001b[0m\u001b[0;31m \u001b[0m\u001b[0;31m\\\u001b[0m\u001b[1;33m\u001b[0m\u001b[1;33m\u001b[0m\u001b[0m\n\u001b[1;32m--> 556\u001b[1;33m         \u001b[0mget_timeseries_per_node\u001b[0m\u001b[1;33m(\u001b[0m\u001b[0medisgo\u001b[0m\u001b[1;33m,\u001b[0m \u001b[1;34m'load'\u001b[0m\u001b[1;33m,\u001b[0m \u001b[0mconsidered_loads\u001b[0m\u001b[1;33m)\u001b[0m\u001b[1;33m\u001b[0m\u001b[1;33m\u001b[0m\u001b[0m\n\u001b[0m\u001b[0;32m    557\u001b[0m     \u001b[0mnodal_active_generation\u001b[0m\u001b[1;33m,\u001b[0m \u001b[0mnodal_reactive_generation\u001b[0m \u001b[1;33m=\u001b[0m\u001b[0;31m \u001b[0m\u001b[0;31m\\\u001b[0m\u001b[1;33m\u001b[0m\u001b[1;33m\u001b[0m\u001b[0m\n\u001b[0;32m    558\u001b[0m         \u001b[0mget_timeseries_per_node\u001b[0m\u001b[1;33m(\u001b[0m\u001b[0medisgo\u001b[0m\u001b[1;33m,\u001b[0m \u001b[1;34m'generator'\u001b[0m\u001b[1;33m,\u001b[0m \u001b[0mconsidered_generators\u001b[0m\u001b[1;33m)\u001b[0m\u001b[1;33m\u001b[0m\u001b[1;33m\u001b[0m\u001b[0m\n",
      "\u001b[1;32m~\\DistFlex\\eDisGo_mirror\\edisgo\\tools\\tools.py\u001b[0m in \u001b[0;36mget_timeseries_per_node\u001b[1;34m(edisgo, component, component_names)\u001b[0m\n\u001b[0;32m    534\u001b[0m         \u001b[0mnodal_active_power\u001b[0m\u001b[1;33m\u001b[0m\u001b[1;33m\u001b[0m\u001b[0m\n\u001b[0;32m    535\u001b[0m     \u001b[0mnodal_reactive_power_all_buses\u001b[0m\u001b[1;33m[\u001b[0m\u001b[0mnodal_reactive_power\u001b[0m\u001b[1;33m.\u001b[0m\u001b[0mcolumns\u001b[0m\u001b[1;33m]\u001b[0m \u001b[1;33m=\u001b[0m\u001b[0;31m \u001b[0m\u001b[0;31m\\\u001b[0m\u001b[1;33m\u001b[0m\u001b[1;33m\u001b[0m\u001b[0m\n\u001b[1;32m--> 536\u001b[1;33m         \u001b[0mnodal_reactive_power\u001b[0m\u001b[1;33m\u001b[0m\u001b[1;33m\u001b[0m\u001b[0m\n\u001b[0m\u001b[0;32m    537\u001b[0m     \u001b[0mnodal_active_power_all_buses\u001b[0m\u001b[1;33m.\u001b[0m\u001b[0mfillna\u001b[0m\u001b[1;33m(\u001b[0m\u001b[1;36m0\u001b[0m\u001b[1;33m,\u001b[0m \u001b[0minplace\u001b[0m\u001b[1;33m=\u001b[0m\u001b[1;32mTrue\u001b[0m\u001b[1;33m)\u001b[0m\u001b[1;33m\u001b[0m\u001b[1;33m\u001b[0m\u001b[0m\n\u001b[0;32m    538\u001b[0m     \u001b[0mnodal_reactive_power_all_buses\u001b[0m\u001b[1;33m.\u001b[0m\u001b[0mfillna\u001b[0m\u001b[1;33m(\u001b[0m\u001b[1;36m0\u001b[0m\u001b[1;33m,\u001b[0m \u001b[0minplace\u001b[0m\u001b[1;33m=\u001b[0m\u001b[1;32mTrue\u001b[0m\u001b[1;33m)\u001b[0m\u001b[1;33m\u001b[0m\u001b[1;33m\u001b[0m\u001b[0m\n",
      "\u001b[1;32m~\\AppData\\Roaming\\Python\\Python36\\site-packages\\pandas\\core\\frame.py\u001b[0m in \u001b[0;36m__setitem__\u001b[1;34m(self, key, value)\u001b[0m\n\u001b[0;32m   3355\u001b[0m             \u001b[0mself\u001b[0m\u001b[1;33m.\u001b[0m\u001b[0m_setitem_frame\u001b[0m\u001b[1;33m(\u001b[0m\u001b[0mkey\u001b[0m\u001b[1;33m,\u001b[0m \u001b[0mvalue\u001b[0m\u001b[1;33m)\u001b[0m\u001b[1;33m\u001b[0m\u001b[1;33m\u001b[0m\u001b[0m\n\u001b[0;32m   3356\u001b[0m         \u001b[1;32melif\u001b[0m \u001b[0misinstance\u001b[0m\u001b[1;33m(\u001b[0m\u001b[0mkey\u001b[0m\u001b[1;33m,\u001b[0m \u001b[1;33m(\u001b[0m\u001b[0mSeries\u001b[0m\u001b[1;33m,\u001b[0m \u001b[0mnp\u001b[0m\u001b[1;33m.\u001b[0m\u001b[0mndarray\u001b[0m\u001b[1;33m,\u001b[0m \u001b[0mlist\u001b[0m\u001b[1;33m,\u001b[0m \u001b[0mIndex\u001b[0m\u001b[1;33m)\u001b[0m\u001b[1;33m)\u001b[0m\u001b[1;33m:\u001b[0m\u001b[1;33m\u001b[0m\u001b[1;33m\u001b[0m\u001b[0m\n\u001b[1;32m-> 3357\u001b[1;33m             \u001b[0mself\u001b[0m\u001b[1;33m.\u001b[0m\u001b[0m_setitem_array\u001b[0m\u001b[1;33m(\u001b[0m\u001b[0mkey\u001b[0m\u001b[1;33m,\u001b[0m \u001b[0mvalue\u001b[0m\u001b[1;33m)\u001b[0m\u001b[1;33m\u001b[0m\u001b[1;33m\u001b[0m\u001b[0m\n\u001b[0m\u001b[0;32m   3358\u001b[0m         \u001b[1;32melse\u001b[0m\u001b[1;33m:\u001b[0m\u001b[1;33m\u001b[0m\u001b[1;33m\u001b[0m\u001b[0m\n\u001b[0;32m   3359\u001b[0m             \u001b[1;31m# set column\u001b[0m\u001b[1;33m\u001b[0m\u001b[1;33m\u001b[0m\u001b[1;33m\u001b[0m\u001b[0m\n",
      "\u001b[1;32m~\\AppData\\Roaming\\Python\\Python36\\site-packages\\pandas\\core\\frame.py\u001b[0m in \u001b[0;36m_setitem_array\u001b[1;34m(self, key, value)\u001b[0m\n\u001b[0;32m   3379\u001b[0m                     \u001b[1;32mraise\u001b[0m \u001b[0mValueError\u001b[0m\u001b[1;33m(\u001b[0m\u001b[1;34m'Columns must be same length as key'\u001b[0m\u001b[1;33m)\u001b[0m\u001b[1;33m\u001b[0m\u001b[1;33m\u001b[0m\u001b[0m\n\u001b[0;32m   3380\u001b[0m                 \u001b[1;32mfor\u001b[0m \u001b[0mk1\u001b[0m\u001b[1;33m,\u001b[0m \u001b[0mk2\u001b[0m \u001b[1;32min\u001b[0m \u001b[0mzip\u001b[0m\u001b[1;33m(\u001b[0m\u001b[0mkey\u001b[0m\u001b[1;33m,\u001b[0m \u001b[0mvalue\u001b[0m\u001b[1;33m.\u001b[0m\u001b[0mcolumns\u001b[0m\u001b[1;33m)\u001b[0m\u001b[1;33m:\u001b[0m\u001b[1;33m\u001b[0m\u001b[1;33m\u001b[0m\u001b[0m\n\u001b[1;32m-> 3381\u001b[1;33m                     \u001b[0mself\u001b[0m\u001b[1;33m[\u001b[0m\u001b[0mk1\u001b[0m\u001b[1;33m]\u001b[0m \u001b[1;33m=\u001b[0m \u001b[0mvalue\u001b[0m\u001b[1;33m[\u001b[0m\u001b[0mk2\u001b[0m\u001b[1;33m]\u001b[0m\u001b[1;33m\u001b[0m\u001b[1;33m\u001b[0m\u001b[0m\n\u001b[0m\u001b[0;32m   3382\u001b[0m             \u001b[1;32melse\u001b[0m\u001b[1;33m:\u001b[0m\u001b[1;33m\u001b[0m\u001b[1;33m\u001b[0m\u001b[0m\n\u001b[0;32m   3383\u001b[0m                 \u001b[0mindexer\u001b[0m \u001b[1;33m=\u001b[0m \u001b[0mself\u001b[0m\u001b[1;33m.\u001b[0m\u001b[0mloc\u001b[0m\u001b[1;33m.\u001b[0m\u001b[0m_convert_to_indexer\u001b[0m\u001b[1;33m(\u001b[0m\u001b[0mkey\u001b[0m\u001b[1;33m,\u001b[0m \u001b[0maxis\u001b[0m\u001b[1;33m=\u001b[0m\u001b[1;36m1\u001b[0m\u001b[1;33m)\u001b[0m\u001b[1;33m\u001b[0m\u001b[1;33m\u001b[0m\u001b[0m\n",
      "\u001b[1;32m~\\AppData\\Roaming\\Python\\Python36\\site-packages\\pandas\\core\\frame.py\u001b[0m in \u001b[0;36m__setitem__\u001b[1;34m(self, key, value)\u001b[0m\n\u001b[0;32m   3358\u001b[0m         \u001b[1;32melse\u001b[0m\u001b[1;33m:\u001b[0m\u001b[1;33m\u001b[0m\u001b[1;33m\u001b[0m\u001b[0m\n\u001b[0;32m   3359\u001b[0m             \u001b[1;31m# set column\u001b[0m\u001b[1;33m\u001b[0m\u001b[1;33m\u001b[0m\u001b[1;33m\u001b[0m\u001b[0m\n\u001b[1;32m-> 3360\u001b[1;33m             \u001b[0mself\u001b[0m\u001b[1;33m.\u001b[0m\u001b[0m_set_item\u001b[0m\u001b[1;33m(\u001b[0m\u001b[0mkey\u001b[0m\u001b[1;33m,\u001b[0m \u001b[0mvalue\u001b[0m\u001b[1;33m)\u001b[0m\u001b[1;33m\u001b[0m\u001b[1;33m\u001b[0m\u001b[0m\n\u001b[0m\u001b[0;32m   3361\u001b[0m \u001b[1;33m\u001b[0m\u001b[0m\n\u001b[0;32m   3362\u001b[0m     \u001b[1;32mdef\u001b[0m \u001b[0m_setitem_slice\u001b[0m\u001b[1;33m(\u001b[0m\u001b[0mself\u001b[0m\u001b[1;33m,\u001b[0m \u001b[0mkey\u001b[0m\u001b[1;33m,\u001b[0m \u001b[0mvalue\u001b[0m\u001b[1;33m)\u001b[0m\u001b[1;33m:\u001b[0m\u001b[1;33m\u001b[0m\u001b[1;33m\u001b[0m\u001b[0m\n",
      "\u001b[1;32m~\\AppData\\Roaming\\Python\\Python36\\site-packages\\pandas\\core\\frame.py\u001b[0m in \u001b[0;36m_set_item\u001b[1;34m(self, key, value)\u001b[0m\n\u001b[0;32m   3434\u001b[0m         \u001b[0mself\u001b[0m\u001b[1;33m.\u001b[0m\u001b[0m_ensure_valid_index\u001b[0m\u001b[1;33m(\u001b[0m\u001b[0mvalue\u001b[0m\u001b[1;33m)\u001b[0m\u001b[1;33m\u001b[0m\u001b[1;33m\u001b[0m\u001b[0m\n\u001b[0;32m   3435\u001b[0m         \u001b[0mvalue\u001b[0m \u001b[1;33m=\u001b[0m \u001b[0mself\u001b[0m\u001b[1;33m.\u001b[0m\u001b[0m_sanitize_column\u001b[0m\u001b[1;33m(\u001b[0m\u001b[0mkey\u001b[0m\u001b[1;33m,\u001b[0m \u001b[0mvalue\u001b[0m\u001b[1;33m)\u001b[0m\u001b[1;33m\u001b[0m\u001b[1;33m\u001b[0m\u001b[0m\n\u001b[1;32m-> 3436\u001b[1;33m         \u001b[0mNDFrame\u001b[0m\u001b[1;33m.\u001b[0m\u001b[0m_set_item\u001b[0m\u001b[1;33m(\u001b[0m\u001b[0mself\u001b[0m\u001b[1;33m,\u001b[0m \u001b[0mkey\u001b[0m\u001b[1;33m,\u001b[0m \u001b[0mvalue\u001b[0m\u001b[1;33m)\u001b[0m\u001b[1;33m\u001b[0m\u001b[1;33m\u001b[0m\u001b[0m\n\u001b[0m\u001b[0;32m   3437\u001b[0m \u001b[1;33m\u001b[0m\u001b[0m\n\u001b[0;32m   3438\u001b[0m         \u001b[1;31m# check if we are modifying a copy\u001b[0m\u001b[1;33m\u001b[0m\u001b[1;33m\u001b[0m\u001b[1;33m\u001b[0m\u001b[0m\n",
      "\u001b[1;32m~\\AppData\\Roaming\\Python\\Python36\\site-packages\\pandas\\core\\generic.py\u001b[0m in \u001b[0;36m_set_item\u001b[1;34m(self, key, value)\u001b[0m\n\u001b[0;32m   3160\u001b[0m \u001b[1;33m\u001b[0m\u001b[0m\n\u001b[0;32m   3161\u001b[0m     \u001b[1;32mdef\u001b[0m \u001b[0m_set_item\u001b[0m\u001b[1;33m(\u001b[0m\u001b[0mself\u001b[0m\u001b[1;33m,\u001b[0m \u001b[0mkey\u001b[0m\u001b[1;33m,\u001b[0m \u001b[0mvalue\u001b[0m\u001b[1;33m)\u001b[0m\u001b[1;33m:\u001b[0m\u001b[1;33m\u001b[0m\u001b[1;33m\u001b[0m\u001b[0m\n\u001b[1;32m-> 3162\u001b[1;33m         \u001b[0mself\u001b[0m\u001b[1;33m.\u001b[0m\u001b[0m_data\u001b[0m\u001b[1;33m.\u001b[0m\u001b[0mset\u001b[0m\u001b[1;33m(\u001b[0m\u001b[0mkey\u001b[0m\u001b[1;33m,\u001b[0m \u001b[0mvalue\u001b[0m\u001b[1;33m)\u001b[0m\u001b[1;33m\u001b[0m\u001b[1;33m\u001b[0m\u001b[0m\n\u001b[0m\u001b[0;32m   3163\u001b[0m         \u001b[0mself\u001b[0m\u001b[1;33m.\u001b[0m\u001b[0m_clear_item_cache\u001b[0m\u001b[1;33m(\u001b[0m\u001b[1;33m)\u001b[0m\u001b[1;33m\u001b[0m\u001b[1;33m\u001b[0m\u001b[0m\n\u001b[0;32m   3164\u001b[0m \u001b[1;33m\u001b[0m\u001b[0m\n",
      "\u001b[1;32m~\\AppData\\Roaming\\Python\\Python36\\site-packages\\pandas\\core\\internals\\managers.py\u001b[0m in \u001b[0;36mset\u001b[1;34m(self, item, value)\u001b[0m\n\u001b[0;32m   1082\u001b[0m                 \u001b[1;32melse\u001b[0m\u001b[1;33m:\u001b[0m\u001b[1;33m\u001b[0m\u001b[1;33m\u001b[0m\u001b[0m\n\u001b[0;32m   1083\u001b[0m                     \u001b[0mself\u001b[0m\u001b[1;33m.\u001b[0m\u001b[0m_blklocs\u001b[0m\u001b[1;33m[\u001b[0m\u001b[0mblk\u001b[0m\u001b[1;33m.\u001b[0m\u001b[0mmgr_locs\u001b[0m\u001b[1;33m.\u001b[0m\u001b[0mindexer\u001b[0m\u001b[1;33m]\u001b[0m \u001b[1;33m=\u001b[0m \u001b[1;33m-\u001b[0m\u001b[1;36m1\u001b[0m\u001b[1;33m\u001b[0m\u001b[1;33m\u001b[0m\u001b[0m\n\u001b[1;32m-> 1084\u001b[1;33m                     \u001b[0mblk\u001b[0m\u001b[1;33m.\u001b[0m\u001b[0mdelete\u001b[0m\u001b[1;33m(\u001b[0m\u001b[0mblk_locs\u001b[0m\u001b[1;33m)\u001b[0m\u001b[1;33m\u001b[0m\u001b[1;33m\u001b[0m\u001b[0m\n\u001b[0m\u001b[0;32m   1085\u001b[0m                     \u001b[0mself\u001b[0m\u001b[1;33m.\u001b[0m\u001b[0m_blklocs\u001b[0m\u001b[1;33m[\u001b[0m\u001b[0mblk\u001b[0m\u001b[1;33m.\u001b[0m\u001b[0mmgr_locs\u001b[0m\u001b[1;33m.\u001b[0m\u001b[0mindexer\u001b[0m\u001b[1;33m]\u001b[0m \u001b[1;33m=\u001b[0m \u001b[0mnp\u001b[0m\u001b[1;33m.\u001b[0m\u001b[0marange\u001b[0m\u001b[1;33m(\u001b[0m\u001b[0mlen\u001b[0m\u001b[1;33m(\u001b[0m\u001b[0mblk\u001b[0m\u001b[1;33m)\u001b[0m\u001b[1;33m)\u001b[0m\u001b[1;33m\u001b[0m\u001b[1;33m\u001b[0m\u001b[0m\n\u001b[0;32m   1086\u001b[0m \u001b[1;33m\u001b[0m\u001b[0m\n",
      "\u001b[1;32m~\\AppData\\Roaming\\Python\\Python36\\site-packages\\pandas\\core\\internals\\blocks.py\u001b[0m in \u001b[0;36mdelete\u001b[1;34m(self, loc)\u001b[0m\n\u001b[0;32m    347\u001b[0m         \u001b[0mDelete\u001b[0m \u001b[0mgiven\u001b[0m \u001b[0mloc\u001b[0m\u001b[1;33m(\u001b[0m\u001b[1;33m-\u001b[0m\u001b[0ms\u001b[0m\u001b[1;33m)\u001b[0m \u001b[1;32mfrom\u001b[0m \u001b[0mblock\u001b[0m \u001b[1;32min\u001b[0m\u001b[1;33m-\u001b[0m\u001b[0mplace\u001b[0m\u001b[1;33m.\u001b[0m\u001b[1;33m\u001b[0m\u001b[1;33m\u001b[0m\u001b[0m\n\u001b[0;32m    348\u001b[0m         \"\"\"\n\u001b[1;32m--> 349\u001b[1;33m         \u001b[0mself\u001b[0m\u001b[1;33m.\u001b[0m\u001b[0mvalues\u001b[0m \u001b[1;33m=\u001b[0m \u001b[0mnp\u001b[0m\u001b[1;33m.\u001b[0m\u001b[0mdelete\u001b[0m\u001b[1;33m(\u001b[0m\u001b[0mself\u001b[0m\u001b[1;33m.\u001b[0m\u001b[0mvalues\u001b[0m\u001b[1;33m,\u001b[0m \u001b[0mloc\u001b[0m\u001b[1;33m,\u001b[0m \u001b[1;36m0\u001b[0m\u001b[1;33m)\u001b[0m\u001b[1;33m\u001b[0m\u001b[1;33m\u001b[0m\u001b[0m\n\u001b[0m\u001b[0;32m    350\u001b[0m         \u001b[0mself\u001b[0m\u001b[1;33m.\u001b[0m\u001b[0mmgr_locs\u001b[0m \u001b[1;33m=\u001b[0m \u001b[0mself\u001b[0m\u001b[1;33m.\u001b[0m\u001b[0mmgr_locs\u001b[0m\u001b[1;33m.\u001b[0m\u001b[0mdelete\u001b[0m\u001b[1;33m(\u001b[0m\u001b[0mloc\u001b[0m\u001b[1;33m)\u001b[0m\u001b[1;33m\u001b[0m\u001b[1;33m\u001b[0m\u001b[0m\n\u001b[0;32m    351\u001b[0m \u001b[1;33m\u001b[0m\u001b[0m\n",
      "\u001b[1;32m<__array_function__ internals>\u001b[0m in \u001b[0;36mdelete\u001b[1;34m(*args, **kwargs)\u001b[0m\n",
      "\u001b[1;32mc:\\users\\anya.heider\\appdata\\local\\continuum\\miniconda3\\envs\\edisgo_env\\lib\\site-packages\\numpy\\lib\\function_base.py\u001b[0m in \u001b[0;36mdelete\u001b[1;34m(arr, obj, axis)\u001b[0m\n\u001b[0;32m   4407\u001b[0m \u001b[1;33m\u001b[0m\u001b[0m\n\u001b[0;32m   4408\u001b[0m         \u001b[0mslobj\u001b[0m\u001b[1;33m[\u001b[0m\u001b[0maxis\u001b[0m\u001b[1;33m]\u001b[0m \u001b[1;33m=\u001b[0m \u001b[0mkeep\u001b[0m\u001b[1;33m\u001b[0m\u001b[1;33m\u001b[0m\u001b[0m\n\u001b[1;32m-> 4409\u001b[1;33m         \u001b[0mnew\u001b[0m \u001b[1;33m=\u001b[0m \u001b[0marr\u001b[0m\u001b[1;33m[\u001b[0m\u001b[0mtuple\u001b[0m\u001b[1;33m(\u001b[0m\u001b[0mslobj\u001b[0m\u001b[1;33m)\u001b[0m\u001b[1;33m]\u001b[0m\u001b[1;33m\u001b[0m\u001b[1;33m\u001b[0m\u001b[0m\n\u001b[0m\u001b[0;32m   4410\u001b[0m \u001b[1;33m\u001b[0m\u001b[0m\n\u001b[0;32m   4411\u001b[0m     \u001b[1;32mif\u001b[0m \u001b[0mwrap\u001b[0m\u001b[1;33m:\u001b[0m\u001b[1;33m\u001b[0m\u001b[1;33m\u001b[0m\u001b[0m\n",
      "\u001b[1;31mMemoryError\u001b[0m: Unable to allocate 3.43 GiB for an array with shape (13148, 35040) and data type object"
     ]
    }
   ],
   "source": [
    "timesteps= pd.date_range('2029-01-01', '2029-01-08', freq='15min')\n",
    "flexibility_bands = flexibility_bands.iloc[:len(timesteps)].set_index(timesteps)\n",
    "model = setup_model(edisgo_obj, downstream_node_matrix, timesteps, optimize_storage=False,\n",
    "                        mapping_cp=mapping, energy_band_charging_points=flexibility_bands)"
   ]
  },
  {
   "cell_type": "code",
   "execution_count": null,
   "id": "collective-wholesale",
   "metadata": {},
   "outputs": [],
   "source": []
  }
 ],
 "metadata": {
  "kernelspec": {
   "display_name": "eDisGo_local",
   "language": "python",
   "name": "edisgo_local"
  },
  "language_info": {
   "codemirror_mode": {
    "name": "ipython",
    "version": 3
   },
   "file_extension": ".py",
   "mimetype": "text/x-python",
   "name": "python",
   "nbconvert_exporter": "python",
   "pygments_lexer": "ipython3",
   "version": "3.6.11"
  }
 },
 "nbformat": 4,
 "nbformat_minor": 5
}
