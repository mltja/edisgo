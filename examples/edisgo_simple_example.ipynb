{
 "cells": [
  {
   "cell_type": "code",
   "execution_count": 1,
   "metadata": {},
   "outputs": [],
   "source": [
    "__copyright__ = \"Reiner Lemoine Institut gGmbH\"\n",
    "__license__   = \"GNU Affero General Public License Version 3 (AGPL-3.0)\"\n",
    "__url__       = \"https://github.com/openego/eDisGo/blob/master/LICENSE\"\n",
    "__author__    = \"gplssm, birgits\""
   ]
  },
  {
   "cell_type": "markdown",
   "metadata": {},
   "source": [
    "# eDisGo basic example\n",
    "\n",
    "This example shows you the first steps with eDisGo. Grid expansion costs for an example distribution grid are calculated assuming renewable and conventional power plant capacities as stated in the scenario framework of the German Grid Development Plan 2015 (Netzentwicklungsplan) for the year 2035 (scenario B2). Through this, the data structure used in eDisGo is explained and it is shown how to get distribution grid data, how to use the automatic grid reinforcement methodology to determine grid expansion needs and costs and how to evaluate your results.\n",
    "\n",
    "\n",
    "### Learn more about eDisGo\n",
    "\n",
    "* __[eDisGo Source Code](https://github.com/openego/eDisGo)__\n",
    "* __[eDisGo Documentation](http://edisgo.readthedocs.io/en/dev/)__\n",
    "\n",
    "### Table of Contents\n",
    "\n",
    "\n",
    "* [Installation](#installation)\n",
    "* [Settings](#settings)\n",
    "* [eDisGo data structure](#network)\n",
    "* [Future generator scenario](#generator_scenario)\n",
    "* [Grid reinforcement](#grid_reinforcement)\n",
    "* [Results evaluation](#evaluation)\n",
    "* [References](#references)"
   ]
  },
  {
   "cell_type": "markdown",
   "metadata": {},
   "source": [
    "## Installation <a class=\"anchor\" id=\"installation\"></a>\n",
    "\n",
    "This notebook requires a working installation of eDisGo as well as `jupyter notebook` to run the example and `contextily` and `geopandas` to view the grid topology on a map. You can install all of these as follows:\n",
    "\n",
    "```python\n",
    "pip install eDisGo[examples,geoplot]\n",
    "```\n",
    "\n",
    "Checkout the eDisGo documentation on [how to install eDisGo](https://edisgo.readthedocs.io/en/features-refactoring/quickstart.html#installation) for more information."
   ]
  },
  {
   "cell_type": "markdown",
   "metadata": {},
   "source": [
    "#### Import packages"
   ]
  },
  {
   "cell_type": "code",
   "execution_count": 2,
   "metadata": {},
   "outputs": [
    {
     "name": "stderr",
     "output_type": "stream",
     "text": [
      "c:\\users\\kilian.helfenbein\\.conda\\envs\\edisgo_env\\lib\\site-packages\\sqlalchemy\\ext\\declarative\\base.py:436: SAWarning: Ignoring declarative-like tuple value of attribute 'segment': possibly a copy-and-paste error with a comma accidentally placed at the end of the line?\n",
      "  \"accidentally placed at the end of the line?\" % k\n",
      "c:\\users\\kilian.helfenbein\\.conda\\envs\\edisgo_env\\lib\\site-packages\\sqlalchemy\\ext\\declarative\\base.py:436: SAWarning: Ignoring declarative-like tuple value of attribute 'cable': possibly a copy-and-paste error with a comma accidentally placed at the end of the line?\n",
      "  \"accidentally placed at the end of the line?\" % k\n"
     ]
    }
   ],
   "source": [
    "import os\n",
    "import sys\n",
    "import pandas as pd\n",
    "\n",
    "from edisgo import EDisGo"
   ]
  },
  {
   "cell_type": "markdown",
   "metadata": {},
   "source": [
    "### Settings <a class=\"anchor\" id=\"settings\"></a>\n",
    "\n",
    "The class **EDisGo** serves as the top-level API for\n",
    "setting up your scenario, invocation of data import, power flow analysis, grid reinforcement and flexibility measures. It also provides access to all relevant data. See the [class documentation](http://edisgo.readthedocs.io/en/dev/api/edisgo.grid.html#edisgo.grid.network.EDisGo) for more information.\n",
    "\n",
    "To set up a scenario to do a worst-case analysis that considers the heavy load flow and reverse power flow cases used in distribution grid planning, you simply have to provide a grid and set the 'worst_case_analysis' parameter, which is both explained in the following two sections. \n",
    "\n",
    "#### Distribution grid data\n",
    "\n",
    "Currently, synthetic grid data generated with the python project\n",
    "[ding0](https://github.com/openego/ding0)\n",
    "is the only supported data source for distribution grid data. ding0 provides the grid topology data in the form of csv files, with separate files for buses, lines, loads, generators, etc. You can retrieve ding0 data from\n",
    "[Zenodo](https://zenodo.org/record/890479)\n",
    "(make sure you choose latest data) or check out the\n",
    "[Ding0 documentation](https://dingo.readthedocs.io/en/dev/usage_details.html#ding0-examples)\n",
    "on how to generate grids yourself. A ding0 example grid can be viewed [here](https://github.com/openego/eDisGo/tree/features/refactoring/tests/ding0_test_network_2). It is possible to provide your own grid data if it is in the same format as the ding0 grid data. \n",
    "\n",
    "This example works with any ding0 grid data. If you don't have grid data yet, you can execute the following to download the example grid data mentioned above."
   ]
  },
  {
   "cell_type": "code",
   "execution_count": 3,
   "metadata": {},
   "outputs": [],
   "source": [
    "import requests\n",
    "\n",
    "def download_ding0_example_grid():\n",
    "    \n",
    "    # create directories to save ding0 example grid into\n",
    "    ding0_example_grid_path = os.path.join(\n",
    "        os.path.expanduser(\"~\"),\n",
    "        \".edisgo\",\n",
    "        \"ding0_test_network\")\n",
    "    os.makedirs(\n",
    "        ding0_example_grid_path,\n",
    "        exist_ok=True)\n",
    "\n",
    "    # download files\n",
    "    filenames = [\n",
    "        \"buses\", \"generators\", \"lines\", \"loads\", \"network\",\n",
    "        \"switches\", \"transformers\", \"transformers_hvmv\"]\n",
    "\n",
    "    for file in filenames:\n",
    "        req = requests.get(\n",
    "            \"https://raw.githubusercontent.com/openego/eDisGo/features/refactoring/tests/ding0_test_network_2/{}.csv\".format(file))\n",
    "        filename = os.path.join(ding0_example_grid_path, \"{}.csv\".format(file))\n",
    "        with open(filename, \"wb\") as fout:\n",
    "            fout.write(req.content)\n",
    "\n",
    "download_ding0_example_grid()"
   ]
  },
  {
   "cell_type": "markdown",
   "metadata": {},
   "source": [
    "The ding0 grid you want to use in your analysis is specified through the input parameter 'ding0_grid' of the EDisGo class. The following assumes you want to use the ding0 example grid downloaded above. To use a different ding0 grid, just change the path below."
   ]
  },
  {
   "cell_type": "code",
   "execution_count": 4,
   "metadata": {},
   "outputs": [],
   "source": [
    "ding0_grid = os.path.join(\n",
    "    os.path.expanduser(\"~\"),\n",
    "    \".edisgo\",\n",
    "    \"ding0_test_network\")"
   ]
  },
  {
   "cell_type": "markdown",
   "metadata": {},
   "source": [
    "#### Specifying worst-cases\n",
    "\n",
    "In conventional grid expansion planning worst-cases, the heavy load flow and the reverse power flow, are used to determine grid expansion needs. eDisGo allows you to analyze these cases separately or together. Choose between the following options:\n",
    "\n",
    "* **’worst-case-feedin’** \n",
    "  \n",
    "  Feed-in and demand for the worst-case scenario \"reverse power flow\" are generated. Demand is by default set to 15% of maximum demand  for loads connected to the MV grid and 10% for loads connected to the LV grid. Feed-in of all generators is set to the nominal power of the generator, except for PV systems where it is by default set to 85% of the nominal power.\n",
    "\n",
    "  \n",
    "* **’worst-case-load’**\n",
    "\n",
    "  Feed-in and demand for the worst-case scenario \"heavy load flow\" are generated. Demand of all loads is by default set to maximum demand; feed-in of all generators is set to zero.\n",
    "\n",
    "\n",
    "* **’worst-case’**\n",
    "  \n",
    "  Feed-in and demand for the two worst-case scenarios \"reverse power flow\" and \"heavy load flow\" are generated.\n",
    "\n",
    "Feed-in and demand in the two worst-cases are defined in the [config file 'config_timeseries.cfg'](https://edisgo.readthedocs.io/en/latest/configs.html#config-timeseries) and can be changed by setting different values in the config file. \n",
    "\n",
    "Instead of doing a worst-case analysis you can also provide your own timeseries for demand and feed-in and use those in the power flow analysis. EDisGo also offers methods to generate load and feed-in time series. Check out the [EDisGo class documentation](http://edisgo.readthedocs.io/en/dev/api/edisgo.grid.html#edisgo.grid.network.EDisGo) and examples in the [getting started documentation section](https://edisgo.readthedocs.io/en/dev/quickstart.html#a-minimum-working-example) for more information."
   ]
  },
  {
   "cell_type": "code",
   "execution_count": 5,
   "metadata": {},
   "outputs": [],
   "source": [
    "worst_case_analysis = 'worst-case'"
   ]
  },
  {
   "cell_type": "markdown",
   "metadata": {},
   "source": [
    "Now we are ready to initialize the edisgo object."
   ]
  },
  {
   "cell_type": "code",
   "execution_count": 6,
   "metadata": {},
   "outputs": [
    {
     "name": "stderr",
     "output_type": "stream",
     "text": [
      "WARNING:pypsa.io:\n",
      "Importing PyPSA from older version of PyPSA than current version 0.17.1.\n",
      "Please read the release notes at https://pypsa.org/doc/release_notes.html\n",
      "carefully to prepare your network for import.\n",
      "\n",
      "INFO:pypsa.io:Imported network ding0_test_network has buses, generators, lines, loads, transformers\n"
     ]
    },
    {
     "ename": "KeyError",
     "evalue": "'feedin_case_feedin_wind'",
     "output_type": "error",
     "traceback": [
      "\u001b[1;31m---------------------------------------------------------------------------\u001b[0m",
      "\u001b[1;31mKeyError\u001b[0m                                  Traceback (most recent call last)",
      "\u001b[1;32m<ipython-input-6-e3cce68d4548>\u001b[0m in \u001b[0;36m<module>\u001b[1;34m\u001b[0m\n\u001b[0;32m      1\u001b[0m edisgo = EDisGo(ding0_grid=ding0_grid,\n\u001b[1;32m----> 2\u001b[1;33m                 worst_case_analysis=worst_case_analysis)\n\u001b[0m",
      "\u001b[1;32mc:\\users\\kilian.helfenbein\\git\\github\\openego\\edisgo\\edisgo\\edisgo.py\u001b[0m in \u001b[0;36m__init__\u001b[1;34m(self, **kwargs)\u001b[0m\n\u001b[0;32m    227\u001b[0m             \u001b[1;32mif\u001b[0m \u001b[0mkwargs\u001b[0m\u001b[1;33m.\u001b[0m\u001b[0mget\u001b[0m\u001b[1;33m(\u001b[0m\u001b[1;34m\"worst_case_analysis\"\u001b[0m\u001b[1;33m,\u001b[0m \u001b[1;32mNone\u001b[0m\u001b[1;33m)\u001b[0m\u001b[1;33m:\u001b[0m\u001b[1;33m\u001b[0m\u001b[1;33m\u001b[0m\u001b[0m\n\u001b[0;32m    228\u001b[0m                 timeseries.get_component_timeseries(\n\u001b[1;32m--> 229\u001b[1;33m                     \u001b[0medisgo_obj\u001b[0m\u001b[1;33m=\u001b[0m\u001b[0mself\u001b[0m\u001b[1;33m,\u001b[0m \u001b[0mmode\u001b[0m\u001b[1;33m=\u001b[0m\u001b[0mkwargs\u001b[0m\u001b[1;33m.\u001b[0m\u001b[0mget\u001b[0m\u001b[1;33m(\u001b[0m\u001b[1;34m\"worst_case_analysis\"\u001b[0m\u001b[1;33m,\u001b[0m \u001b[1;32mNone\u001b[0m\u001b[1;33m)\u001b[0m\u001b[1;33m\u001b[0m\u001b[1;33m\u001b[0m\u001b[0m\n\u001b[0m\u001b[0;32m    230\u001b[0m                 )\n\u001b[0;32m    231\u001b[0m             \u001b[1;32melse\u001b[0m\u001b[1;33m:\u001b[0m\u001b[1;33m\u001b[0m\u001b[1;33m\u001b[0m\u001b[0m\n",
      "\u001b[1;32mc:\\users\\kilian.helfenbein\\git\\github\\openego\\edisgo\\edisgo\\network\\timeseries.py\u001b[0m in \u001b[0;36mget_component_timeseries\u001b[1;34m(edisgo_obj, **kwargs)\u001b[0m\n\u001b[0;32m    675\u001b[0m                 \u001b[1;34m\"1/1/1970\"\u001b[0m\u001b[1;33m,\u001b[0m \u001b[0mperiods\u001b[0m\u001b[1;33m=\u001b[0m\u001b[0mlen\u001b[0m\u001b[1;33m(\u001b[0m\u001b[0mmodes\u001b[0m\u001b[1;33m)\u001b[0m\u001b[1;33m,\u001b[0m \u001b[0mfreq\u001b[0m\u001b[1;33m=\u001b[0m\u001b[1;34m\"H\"\u001b[0m\u001b[1;33m\u001b[0m\u001b[1;33m\u001b[0m\u001b[0m\n\u001b[0;32m    676\u001b[0m             )\n\u001b[1;32m--> 677\u001b[1;33m             \u001b[0m_worst_case_generation\u001b[0m\u001b[1;33m(\u001b[0m\u001b[0medisgo_obj\u001b[0m\u001b[1;33m=\u001b[0m\u001b[0medisgo_obj\u001b[0m\u001b[1;33m,\u001b[0m \u001b[0mmodes\u001b[0m\u001b[1;33m=\u001b[0m\u001b[0mmodes\u001b[0m\u001b[1;33m)\u001b[0m\u001b[1;33m\u001b[0m\u001b[1;33m\u001b[0m\u001b[0m\n\u001b[0m\u001b[0;32m    678\u001b[0m             \u001b[0m_worst_case_load\u001b[0m\u001b[1;33m(\u001b[0m\u001b[0medisgo_obj\u001b[0m\u001b[1;33m=\u001b[0m\u001b[0medisgo_obj\u001b[0m\u001b[1;33m,\u001b[0m \u001b[0mmodes\u001b[0m\u001b[1;33m=\u001b[0m\u001b[0mmodes\u001b[0m\u001b[1;33m)\u001b[0m\u001b[1;33m\u001b[0m\u001b[1;33m\u001b[0m\u001b[0m\n\u001b[0;32m    679\u001b[0m             \u001b[0m_worst_case_storage\u001b[0m\u001b[1;33m(\u001b[0m\u001b[0medisgo_obj\u001b[0m\u001b[1;33m=\u001b[0m\u001b[0medisgo_obj\u001b[0m\u001b[1;33m,\u001b[0m \u001b[0mmodes\u001b[0m\u001b[1;33m=\u001b[0m\u001b[0mmodes\u001b[0m\u001b[1;33m)\u001b[0m\u001b[1;33m\u001b[0m\u001b[1;33m\u001b[0m\u001b[0m\n",
      "\u001b[1;32mc:\\users\\kilian.helfenbein\\git\\github\\openego\\edisgo\\edisgo\\network\\timeseries.py\u001b[0m in \u001b[0;36m_worst_case_generation\u001b[1;34m(edisgo_obj, modes, generator_names)\u001b[0m\n\u001b[0;32m   1058\u001b[0m             \"wind\": [\n\u001b[0;32m   1059\u001b[0m                 \u001b[0mworst_case_scale_factors\u001b[0m\u001b[1;33m[\u001b[0m\u001b[1;34m\"{}_feedin_wind\"\u001b[0m\u001b[1;33m.\u001b[0m\u001b[0mformat\u001b[0m\u001b[1;33m(\u001b[0m\u001b[0mmode\u001b[0m\u001b[1;33m)\u001b[0m\u001b[1;33m]\u001b[0m\u001b[1;33m\u001b[0m\u001b[1;33m\u001b[0m\u001b[0m\n\u001b[1;32m-> 1060\u001b[1;33m                 \u001b[1;32mfor\u001b[0m \u001b[0mmode\u001b[0m \u001b[1;32min\u001b[0m \u001b[0mmodes\u001b[0m\u001b[1;33m\u001b[0m\u001b[1;33m\u001b[0m\u001b[0m\n\u001b[0m\u001b[0;32m   1061\u001b[0m             ],\n\u001b[0;32m   1062\u001b[0m             \"other\": [\n",
      "\u001b[1;32mc:\\users\\kilian.helfenbein\\git\\github\\openego\\edisgo\\edisgo\\network\\timeseries.py\u001b[0m in \u001b[0;36m<listcomp>\u001b[1;34m(.0)\u001b[0m\n\u001b[0;32m   1058\u001b[0m             \"wind\": [\n\u001b[0;32m   1059\u001b[0m                 \u001b[0mworst_case_scale_factors\u001b[0m\u001b[1;33m[\u001b[0m\u001b[1;34m\"{}_feedin_wind\"\u001b[0m\u001b[1;33m.\u001b[0m\u001b[0mformat\u001b[0m\u001b[1;33m(\u001b[0m\u001b[0mmode\u001b[0m\u001b[1;33m)\u001b[0m\u001b[1;33m]\u001b[0m\u001b[1;33m\u001b[0m\u001b[1;33m\u001b[0m\u001b[0m\n\u001b[1;32m-> 1060\u001b[1;33m                 \u001b[1;32mfor\u001b[0m \u001b[0mmode\u001b[0m \u001b[1;32min\u001b[0m \u001b[0mmodes\u001b[0m\u001b[1;33m\u001b[0m\u001b[1;33m\u001b[0m\u001b[0m\n\u001b[0m\u001b[0;32m   1061\u001b[0m             ],\n\u001b[0;32m   1062\u001b[0m             \"other\": [\n",
      "\u001b[1;31mKeyError\u001b[0m: 'feedin_case_feedin_wind'"
     ]
    }
   ],
   "source": [
    "edisgo = EDisGo(ding0_grid=ding0_grid,\n",
    "                worst_case_analysis=worst_case_analysis)"
   ]
  },
  {
   "cell_type": "markdown",
   "metadata": {},
   "source": [
    "### eDisGo data structure <a class=\"anchor\" id=\"network\"></a>\n",
    "\n",
    "As stated above, the EDisGo class serves as the top-level API and provides access to all relevant data. It also enables plotting of the grid topology. In order to have a look at the MV grid topology, you can use the following plot."
   ]
  },
  {
   "cell_type": "code",
   "execution_count": null,
   "metadata": {},
   "outputs": [],
   "source": [
    "edisgo.plot_mv_grid_topology(technologies=True)"
   ]
  },
  {
   "cell_type": "markdown",
   "metadata": {},
   "source": [
    "Here, red nodes stand for the substation's secondary side, light blue nodes for distribution substation's primary sides, green nodes for nodes fluctuating generators are connected to, grey nodes for disconnecting points and dark blue nodes show branch tees.\n",
    "Underlying LV grids are not georeferenced in ding0, wherefore a plotting for LV grids analog to the one shown above is not provided. A different possibility to get a graphical representation of LV grids is shown later in this example. Let's first get into eDisGo's data structure.\n",
    "\n",
    "Grid data is stored in the [Topology](https://edisgo.readthedocs.io/en/features-refactoring/api/edisgo.network.html#edisgo.network.topology.Topology) class.\n",
    "Time series data can be found in the [TimeSeries](https://edisgo.readthedocs.io/en/features-refactoring/api/edisgo.network.html#edisgo.network.timeseries.TimeSeries) class. Results data holding results e.g. from the power flow analysis and grid expansion is stored in the [Results](https://edisgo.readthedocs.io/en/features-refactoring/api/edisgo.network.html#edisgo.network.results.Results) class.\n",
    "Configuration data from the config files (see [default_configs](https://edisgo.readthedocs.io/en/features-refactoring/configs.html#default-configuration-data)) is stored\n",
    "in the [Config](https://edisgo.readthedocs.io/en/features-refactoring/api/edisgo.tools.html#edisgo.tools.config.Config) class.\n",
    "All these can be accessed as follows:\n",
    "\n",
    "```python\n",
    "edisgo.topology\n",
    "edisgo.timeseries\n",
    "edisgo.results\n",
    "edisgo.config\n",
    "```"
   ]
  },
  {
   "cell_type": "markdown",
   "metadata": {},
   "source": [
    "The grid data in the Topology object is stored in pandas DataFrames.\n",
    "There are extra data frames for all grid elements (buses, lines, switches, transformers), as well as generators, loads and storage units.\n",
    "You can access those dataframes as follows:"
   ]
  },
  {
   "cell_type": "code",
   "execution_count": null,
   "metadata": {},
   "outputs": [],
   "source": [
    "# Access all buses in MV grid and underlying LV grids\n",
    "# .head() enables only viewing the first entries of the dataframe\n",
    "edisgo.topology.buses_df.head()"
   ]
  },
  {
   "cell_type": "code",
   "execution_count": null,
   "metadata": {},
   "outputs": [],
   "source": [
    "# Access all lines in MV grid and underlying LV grids\n",
    "edisgo.topology.mv_grid.lines_df.head()"
   ]
  },
  {
   "cell_type": "code",
   "execution_count": null,
   "metadata": {},
   "outputs": [],
   "source": [
    "# Access all generators in MV grid and underlying LV grids\n",
    "edisgo.topology.generators_df.head()"
   ]
  },
  {
   "cell_type": "markdown",
   "metadata": {},
   "source": [
    "The grids can also be accessed individually. The MV grid is stored in an [MVGrid](https://edisgo.readthedocs.io/en/features-refactoring/api/edisgo.network.html#edisgo.network.grids.MVGrid) object and each LV grid in an\n",
    "[LVGrid](https://edisgo.readthedocs.io/en/features-refactoring/api/edisgo.network.html#edisgo.network.grids.LVGrid) object.\n",
    "The MV grid topology can be accessed through:\n",
    "\n",
    "```python\n",
    "edisgo.topology.mv_grid\n",
    "```\n",
    "\n",
    "Its components can be accessed analog to those of the whole grid topology as shown above."
   ]
  },
  {
   "cell_type": "code",
   "execution_count": null,
   "metadata": {},
   "outputs": [],
   "source": [
    "# Access all buses in MV grid\n",
    "edisgo.topology.mv_grid.buses_df.head()"
   ]
  },
  {
   "cell_type": "code",
   "execution_count": null,
   "metadata": {},
   "outputs": [],
   "source": [
    "# Access all generators in MV grid\n",
    "edisgo.topology.mv_grid.generators_df.head()"
   ]
  },
  {
   "cell_type": "markdown",
   "metadata": {},
   "source": [
    "A list of all LV grids can be retrieved through:"
   ]
  },
  {
   "cell_type": "code",
   "execution_count": null,
   "metadata": {},
   "outputs": [],
   "source": [
    "# Get list of all underlying LV grids\n",
    "# (Note that MVGrid.lv_grids returns a generator object that must first be\n",
    "#  converted to a list in order to view the LVGrid objects)\n",
    "list(edisgo.topology.mv_grid.lv_grids)"
   ]
  },
  {
   "cell_type": "markdown",
   "metadata": {},
   "source": [
    "Access to a single LV grid's components can be obtained analog to shown above for\n",
    "the whole topology and the MV grid:"
   ]
  },
  {
   "cell_type": "code",
   "execution_count": null,
   "metadata": {},
   "outputs": [],
   "source": [
    "# Get single LV grid\n",
    "lv_grid = list(edisgo.topology.mv_grid.lv_grids)[0]"
   ]
  },
  {
   "cell_type": "code",
   "execution_count": null,
   "metadata": {},
   "outputs": [],
   "source": [
    "# Access all buses in that LV grid\n",
    "lv_grid.buses_df"
   ]
  },
  {
   "cell_type": "code",
   "execution_count": null,
   "metadata": {},
   "outputs": [],
   "source": [
    "# Access all loads in that LV grid\n",
    "lv_grid.loads_df"
   ]
  },
  {
   "cell_type": "markdown",
   "metadata": {},
   "source": [
    "A single grid's generators, loads, storage units and switches can also be\n",
    "retrieved as [Generator](https://edisgo.readthedocs.io/en/features-refactoring/api/edisgo.network.html#edisgo.network.components.Generator) object,\n",
    "[Load](https://edisgo.readthedocs.io/en/features-refactoring/api/edisgo.network.html#edisgo.network.components.Load) object, [Storage](https://edisgo.readthedocs.io/en/features-refactoring/api/edisgo.network.html#edisgo.network.components.Storage) object, and\n",
    "[Switch](https://edisgo.readthedocs.io/en/features-refactoring/api/edisgo.network.html#edisgo.network.components.Switch) objects, respecitvely:"
   ]
  },
  {
   "cell_type": "code",
   "execution_count": null,
   "metadata": {},
   "outputs": [],
   "source": [
    "# Get all switch disconnectors in MV grid as Switch objects\n",
    "# (Note that objects are returned as a python generator object that must\n",
    "#  first be converted to a list in order to view the Load objects)\n",
    "list(edisgo.topology.mv_grid.switch_disconnectors)"
   ]
  },
  {
   "cell_type": "code",
   "execution_count": null,
   "metadata": {},
   "outputs": [],
   "source": [
    "# Have a look at the state (open or closed) of one of the switch disconnectors\n",
    "switch = list(edisgo.topology.mv_grid.switch_disconnectors)[0]\n",
    "switch.state"
   ]
  },
  {
   "cell_type": "code",
   "execution_count": null,
   "metadata": {},
   "outputs": [],
   "source": [
    "# Get all loads in LV grid as Load objects\n",
    "list(lv_grid.loads)"
   ]
  },
  {
   "cell_type": "code",
   "execution_count": null,
   "metadata": {},
   "outputs": [],
   "source": [
    "# Have a look at the load time series of one of the loads\n",
    "load = list(lv_grid.loads)[0]\n",
    "load.active_power_timeseries"
   ]
  },
  {
   "cell_type": "markdown",
   "metadata": {},
   "source": [
    "For some applications it is helpful to get a graph representation of the grid,\n",
    "e.g. to find the path from the station to a generator. The graph representation\n",
    "of the whole topology or each single grid can be retrieved as follows:\n",
    "\n",
    "```python\n",
    "\n",
    "# Get graph representation of whole topology\n",
    "edisgo.to_graph()\n",
    "\n",
    "# Get graph representation for MV grid\n",
    "edisgo.topology.mv_grid.graph\n",
    "\n",
    "# Get graph representation for LV grid\n",
    "lv_grid.graph\n",
    "```\n",
    "\n",
    "The returned graph is :networkx:`networkx.Graph<network.Graph>`, where lines are represented\n",
    "by edges in the graph, and buses and transformers are represented by nodes."
   ]
  },
  {
   "cell_type": "code",
   "execution_count": null,
   "metadata": {},
   "outputs": [],
   "source": [
    "edisgo.to_graph()"
   ]
  },
  {
   "cell_type": "markdown",
   "metadata": {},
   "source": [
    "In case of the LV grids, the graph can be used to get a rudimentary graphical representation:"
   ]
  },
  {
   "cell_type": "code",
   "execution_count": null,
   "metadata": {},
   "outputs": [],
   "source": [
    "# draw graph of one of the LV grids\n",
    "import networkx as nx\n",
    "\n",
    "lv_grid = list(edisgo.topology.mv_grid.lv_grids)[5]\n",
    "nx.draw(lv_grid.graph)"
   ]
  },
  {
   "cell_type": "markdown",
   "metadata": {},
   "source": [
    "### Future generator scenario <a class=\"anchor\" id=\"generator_scenario\"></a>\n",
    "\n",
    "eDisGo was originally developed in the [open_eGo](https://openegoproject.wordpress.com/) research project. In the open_eGo project two future scenarios, the 'NEP 2035' and the 'ego 100' scenario. The 'NEP 2035' scenario closely follows the B2-Scenario 2035 from the German network developement plan (Netzentwicklungsplan NEP) 2015. The share of renewables is 65.8%, electricity demand is assumed to stay the same as in the status quo. The 'ego 100' scenario is based on the e-Highway 2050 scenario and assumes a share of renewables of 100% and again an equal electricity demand as in the status quo.\n",
    "\n",
    "As mentioned earlier, ding0 grids represent status quo networks with status quo generator capacities (base year is the year 2015). In order to analyse future scenarios future generators have to be imported into the network."
   ]
  },
  {
   "cell_type": "code",
   "execution_count": null,
   "metadata": {},
   "outputs": [],
   "source": [
    "# Get installed capacity in Status Quo\n",
    "edisgo.topology.generators_df.p_nom.sum()"
   ]
  },
  {
   "cell_type": "code",
   "execution_count": null,
   "metadata": {},
   "outputs": [],
   "source": [
    "# Import generators\n",
    "scenario = 'nep2035'\n",
    "edisgo.import_generators(generator_scenario=scenario)"
   ]
  },
  {
   "cell_type": "code",
   "execution_count": null,
   "metadata": {},
   "outputs": [],
   "source": [
    "# Get installed capacity in NEP 2035 scenario\n",
    "edisgo.topology.generators_df.p_nom.sum()"
   ]
  },
  {
   "cell_type": "markdown",
   "metadata": {},
   "source": [
    "Let's have a look at the MV grid topology in the NEP 2035 scenario:"
   ]
  },
  {
   "cell_type": "code",
   "execution_count": null,
   "metadata": {},
   "outputs": [],
   "source": [
    "edisgo.plot_mv_grid_topology(technologies=True)"
   ]
  },
  {
   "cell_type": "markdown",
   "metadata": {},
   "source": [
    "### Grid reinforcement <a class=\"anchor\" id=\"grid_reinforcement\"></a>\n",
    "\n",
    "Now we can calculate grid expansion costs that arise from the integration of the new generators.\n",
    "\n",
    "The grid expansion methodology is based on the distribution grid study of dena [[1]](#[1]) and Baden-Wuerttemberg [[2]](#[2]). The order grid expansion measures are conducted is as follows:\n",
    "\n",
    "* Reinforce transformers and lines due to overloading issues\n",
    "* Reinforce lines in MV grid due to voltage issues\n",
    "* Reinforce distribution substations due to voltage issues\n",
    "* Reinforce lines in LV grid due to voltage issues\n",
    "* Reinforce transformers and lines due to overloading issues\n",
    "\n",
    "Reinforcement of transformers and lines due to overloading issues is performed twice, once in the beginning and again after fixing voltage problems, as the changed power flows after reinforcing the grid may lead to new overloading issues. (For further explanation see the [documentation](http://edisgo.readthedocs.io/en/dev/features_in_detail.html#automatic-grid-expansion).)\n",
    "\n",
    "After each reinforcement step a non-linear power flow analyses is conducted using PyPSA. Let's do a power flow analysis before the reinforcement to see how many over-loading and voltage issues there are."
   ]
  },
  {
   "cell_type": "code",
   "execution_count": null,
   "metadata": {},
   "outputs": [],
   "source": [
    "# Do non-linear power flow analysis with PyPSA\n",
    "edisgo.analyze()"
   ]
  },
  {
   "cell_type": "code",
   "execution_count": null,
   "metadata": {},
   "outputs": [],
   "source": [
    "# feed-in case\n",
    "edisgo.plot_mv_line_loading(\n",
    "    node_color='voltage_deviation',\n",
    "    timestep=edisgo.timeseries.timeindex[0])"
   ]
  },
  {
   "cell_type": "code",
   "execution_count": null,
   "metadata": {},
   "outputs": [],
   "source": [
    "# load case\n",
    "edisgo.plot_mv_line_loading(\n",
    "    node_color='voltage_deviation',\n",
    "    timestep=edisgo.timeseries.timeindex[1])"
   ]
  },
  {
   "cell_type": "markdown",
   "metadata": {},
   "source": [
    "Let's check voltages and line loadings before the reinforcement."
   ]
  },
  {
   "cell_type": "code",
   "execution_count": null,
   "metadata": {},
   "outputs": [],
   "source": [
    "edisgo.histogram_voltage(binwidth=0.005)"
   ]
  },
  {
   "cell_type": "code",
   "execution_count": null,
   "metadata": {},
   "outputs": [],
   "source": [
    "edisgo.histogram_relative_line_load(binwidth=0.2)"
   ]
  },
  {
   "cell_type": "markdown",
   "metadata": {},
   "source": [
    "Reinforcement is invoked doing the following:"
   ]
  },
  {
   "cell_type": "code",
   "execution_count": null,
   "metadata": {},
   "outputs": [],
   "source": [
    "# Do grid reinforcement\n",
    "edisgo.reinforce()"
   ]
  },
  {
   "cell_type": "markdown",
   "metadata": {},
   "source": [
    "Let's check voltages and line loadings again:"
   ]
  },
  {
   "cell_type": "code",
   "execution_count": null,
   "metadata": {},
   "outputs": [],
   "source": [
    "# load and feed-in case\n",
    "edisgo.plot_mv_line_loading(\n",
    "    node_color='voltage_deviation')"
   ]
  },
  {
   "cell_type": "code",
   "execution_count": null,
   "metadata": {},
   "outputs": [],
   "source": [
    "edisgo.histogram_voltage(binwidth=0.005)"
   ]
  },
  {
   "cell_type": "code",
   "execution_count": null,
   "metadata": {},
   "outputs": [],
   "source": [
    "edisgo.histogram_relative_line_load(binwidth=0.2)"
   ]
  },
  {
   "cell_type": "markdown",
   "metadata": {},
   "source": [
    "### Evaluate results <a class=\"anchor\" id=\"evaluation\"></a>\n",
    "\n",
    "Results such as voltages at nodes and line loading from the power flow analysis as well as\n",
    "grid expansion costs are provided through the [Results](https://edisgo.readthedocs.io/en/features-refactoring/api/edisgo.network.html#edisgo.network.results.Results) class. Above it was already shown how to access \n",
    "the results:\n",
    "\n",
    "```python\n",
    "edisgo.results\n",
    "```\n",
    "\n",
    "Get voltages at nodes through `v_res` attribute and line loading through `s_res` or `i_res` attribute.\n",
    "The `equipment_changes` attribute holds details about measures performed during grid expansion. Associated costs can be obtained through the `grid_expansion_costs` attribute."
   ]
  },
  {
   "cell_type": "code",
   "execution_count": null,
   "metadata": {},
   "outputs": [],
   "source": [
    "# Get voltages at nodes from last power flow analysis\n",
    "edisgo.results.v_res"
   ]
  },
  {
   "cell_type": "code",
   "execution_count": null,
   "metadata": {},
   "outputs": [],
   "source": [
    "# View reinforced equipment\n",
    "edisgo.results.equipment_changes.head()"
   ]
  },
  {
   "cell_type": "code",
   "execution_count": null,
   "metadata": {},
   "outputs": [],
   "source": [
    "# Get costs in kEUR for reinforcement per equipment\n",
    "costs = edisgo.results.grid_expansion_costs\n",
    "costs.head()"
   ]
  },
  {
   "cell_type": "code",
   "execution_count": null,
   "metadata": {},
   "outputs": [],
   "source": [
    "# Group costs by voltage level\n",
    "costs_grouped_nep = costs.groupby(['voltage_level']).sum()\n",
    "costs_grouped_nep.loc[:, ['total_costs']]"
   ]
  },
  {
   "cell_type": "markdown",
   "metadata": {},
   "source": [
    "An overview of the assumptions used to calculate grid expansion costs can be found in the [documentation]( http://edisgo.readthedocs.io/en/dev/features_in_detail.html#grid-expansion-costs).\n",
    "\n",
    "You can also view grid expansion costs for equipment in the MV using the following plot:"
   ]
  },
  {
   "cell_type": "code",
   "execution_count": null,
   "metadata": {},
   "outputs": [],
   "source": [
    "edisgo.plot_mv_grid_expansion_costs()"
   ]
  },
  {
   "cell_type": "markdown",
   "metadata": {},
   "source": [
    "Results can be saved to csv files with:\n",
    "\n",
    "```python\n",
    "edisgo.results.save('path/to/results/directory/')\n",
    "```"
   ]
  },
  {
   "cell_type": "markdown",
   "metadata": {},
   "source": [
    "Now let's compare the grid expansion costs for the 'NEP 2035' scenario with grid expansion costs for the 'ego 100' scenario. Therefore, we first have to setup the new scenario and calculate grid expansion costs."
   ]
  },
  {
   "cell_type": "code",
   "execution_count": null,
   "metadata": {},
   "outputs": [],
   "source": [
    "# initialize new EDisGo object with 'ego 100' scenario\n",
    "edisgo_ego100 = EDisGo(ding0_grid=ding0_grid,\n",
    "                       worst_case_analysis=worst_case_analysis,\n",
    "                       generator_scenario='ego100')\n",
    "# conduct grid reinforcement\n",
    "edisgo_ego100.reinforce()"
   ]
  },
  {
   "cell_type": "code",
   "execution_count": null,
   "metadata": {},
   "outputs": [],
   "source": [
    "# get grouped costs\n",
    "costs_grouped_ego100 = edisgo_ego100.results.grid_expansion_costs.groupby(['voltage_level']).sum()\n",
    "costs_grouped_ego100.loc[:, ['total_costs']]"
   ]
  },
  {
   "cell_type": "code",
   "execution_count": null,
   "metadata": {},
   "outputs": [],
   "source": [
    "# compare expansion costs for both scenarios in a plot\n",
    "\n",
    "import matplotlib.pyplot as plt\n",
    "\n",
    "# set up dataframe to plot\n",
    "costs_df = costs_grouped_nep.loc[:, ['total_costs']].join(costs_grouped_ego100.loc[:, ['total_costs']], rsuffix='_ego100', lsuffix='_nep2035').rename(\n",
    "    columns={'total_costs_ego100': 'ego100',\n",
    "             'total_costs_nep2035': 'NEP2035'}).T\n",
    "# plot\n",
    "costs_df.plot(kind='bar', stacked=True)\n",
    "plt.xticks(rotation=0)\n",
    "plt.ylabel('Grid reinforcement costs in k€');"
   ]
  },
  {
   "cell_type": "markdown",
   "metadata": {},
   "source": [
    "## References <a class=\"anchor\" id=\"references\"></a>\n",
    "\n",
    "<a class=\"anchor\" id=\"[1]\"></a> [1] A.C. Agricola et al.: dena-Verteilnetzstudie: Ausbau- und Innovationsbedarf der Stromverteilnetze in Deutschland bis 2030. 2012.\n",
    "\n",
    "<a class=\"anchor\" id=\"[2]\"></a> [2] C. Rehtanz et al.: Verteilnetzstudie für das Land Baden-Württemberg, ef.Ruhr GmbH, 2017."
   ]
  },
  {
   "cell_type": "code",
   "execution_count": null,
   "metadata": {},
   "outputs": [],
   "source": []
  }
 ],
 "metadata": {
  "kernelspec": {
   "display_name": "Python 3",
   "language": "python",
   "name": "python3"
  },
  "language_info": {
   "codemirror_mode": {
    "name": "ipython",
    "version": 3
   },
   "file_extension": ".py",
   "mimetype": "text/x-python",
   "name": "python",
   "nbconvert_exporter": "python",
   "pygments_lexer": "ipython3",
   "version": "3.6.11"
  }
 },
 "nbformat": 4,
 "nbformat_minor": 2
}
