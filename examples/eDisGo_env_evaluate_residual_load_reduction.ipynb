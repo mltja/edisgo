{
 "cells": [
  {
   "cell_type": "code",
   "execution_count": 21,
   "metadata": {},
   "outputs": [],
   "source": [
    "import os\n",
    "import numpy as np\n",
    "import pandas as pd\n",
    "import traceback\n",
    "\n",
    "from pathlib import Path\n",
    "from datetime import datetime, timedelta\n",
    "from itertools import product"
   ]
  },
  {
   "cell_type": "code",
   "execution_count": 4,
   "metadata": {},
   "outputs": [],
   "source": [
    "base_dir = Path(\n",
    "    r\"\\\\192.168.10.221\\Daten_flexibel_02\\simbev_results\\eDisGo_object_files_full\\Electrification_2050\"\n",
    ")\n",
    "\n",
    "grid_ids = [\"176\", \"1056\", \"1690\", \"1811\", \"177\"]\n",
    "\n",
    "strategies = [\"dumb\", \"grouped\", \"reduced\", \"residual\"]\n",
    "\n",
    "f_rl = r\"residual_load.csv\"\n",
    "\n",
    "data_dirs = [\n",
    "    Path(os.path.join(base_dir, grid_id, strategy, f_rl))\n",
    "    for grid_id in grid_ids for strategy in strategies\n",
    "]"
   ]
  },
  {
   "cell_type": "code",
   "execution_count": 23,
   "metadata": {},
   "outputs": [],
   "source": [
    "df_spread = pd.DataFrame(\n",
    "    data=0,\n",
    "    columns=strategies,\n",
    "    index=grid_ids,\n",
    "    dtype=np.float64,\n",
    ")\n",
    "\n",
    "for data_dir in data_dirs:\n",
    "    strategy = data_dir.parts[-2]\n",
    "    grid_id = data_dir.parts[-3]\n",
    "    \n",
    "    df = pd.read_csv(data_dir, index_col=[0], header=None, names=[\"ts\", \"rl\"])\n",
    "    \n",
    "    spread = df.rl.max() - df.rl.min()\n",
    "    \n",
    "    df_spread.at[grid_id, strategy] = spread\n",
    "\n",
    "df_spread.to_csv(\"residual_load_spread_per_grid_and_strategy.csv\")"
   ]
  },
  {
   "cell_type": "code",
   "execution_count": null,
   "metadata": {},
   "outputs": [],
   "source": []
  }
 ],
 "metadata": {
  "kernelspec": {
   "display_name": "Python (eDisGo_env)",
   "language": "python",
   "name": "edisgo_env"
  },
  "language_info": {
   "codemirror_mode": {
    "name": "ipython",
    "version": 3
   },
   "file_extension": ".py",
   "mimetype": "text/x-python",
   "name": "python",
   "nbconvert_exporter": "python",
   "pygments_lexer": "ipython3",
   "version": "3.6.11"
  }
 },
 "nbformat": 4,
 "nbformat_minor": 4
}
